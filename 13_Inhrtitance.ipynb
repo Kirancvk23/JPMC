{
 "cells": [
  {
   "cell_type": "markdown",
   "metadata": {},
   "source": [
    "# Inheritance"
   ]
  },
  {
   "cell_type": "markdown",
   "metadata": {},
   "source": [
    "is a process by which objects of one class can aquire the properties of objects\n",
    "of another class. It uses the concept of hierarchical classification\n",
    "it provide the idea of reusability\n",
    "It is a mechanism of deriving a new class from existing class.\n",
    "The new class developed is known as derived class and the class from which it is derived is called base class\n"
   ]
  },
  {
   "cell_type": "raw",
   "metadata": {},
   "source": [
    "class Employee():\n",
    "   Body of base class will have variable and functions , like constructor and other functions\n",
    "\n",
    "class restemployyee(Employee):\n",
    "   Body of derived class will also have functions and variables\n"
   ]
  },
  {
   "cell_type": "code",
   "execution_count": 3,
   "metadata": {},
   "outputs": [],
   "source": [
    "class Parent():\n",
    "    def __init__(self,x,y):\n",
    "        self.last_name=x\n",
    "        self.eye_color=y\n",
    "#         self.eyc_count=z\n",
    "\n",
    "class Child():\n",
    "    def __init__(self,a,b,c):\n",
    "        self.last_name=a\n",
    "        self.eye_color=b\n",
    "        self.number_of_toys=c"
   ]
  },
  {
   "cell_type": "markdown",
   "metadata": {},
   "source": [
    "Here’s a breakdown of the code , which defines two classes, `Parent` and `Child`, and explains their behavior:\n",
    "\n",
    "### Code Explanation:\n",
    "\n",
    "```python\n",
    "class Parent():\n",
    "    def __init__(self, x, y):\n",
    "        self.last_name = x\n",
    "        self.eye_color = y\n",
    "#         self.eyc_count = z\n",
    "\n",
    "class Child():\n",
    "    def __init__(self, a, b, c):\n",
    "        self.last_name = a\n",
    "        self.eye_color = b\n",
    "        self.number_of_toys = c\n",
    "```\n",
    "\n",
    "### Explanation of Each Class:\n",
    "\n",
    "#### 1. **Class `Parent`:**\n",
    "\n",
    "- **`__init__()` (Constructor):**\n",
    "  - The `__init__` method is the constructor for the `Parent` class. It's called whenever you create a new instance of the `Parent` class.\n",
    "  - It takes two parameters: `x` (for last name) and `y` (for eye color).\n",
    "  - These parameters are used to initialize the attributes `self.last_name` and `self.eye_color`, which are instance variables associated with the `Parent` object.\n",
    "  - When you create a `Parent` object, you’ll need to provide the values for `x` and `y`.\n",
    "\n",
    "  ```python\n",
    "  def __init__(self, x, y):\n",
    "      self.last_name = x\n",
    "      self.eye_color = y\n",
    "  ```\n",
    "\n",
    "- **Attributes of the `Parent` class:**\n",
    "  - `self.last_name`: This stores the last name of the parent.\n",
    "  - `self.eye_color`: This stores the eye color of the parent.\n",
    "  \n",
    "  For example, if you create a `Parent` object like this:\n",
    "  \n",
    "  ```python\n",
    "  parent = Parent(\"Smith\", \"Blue\")\n",
    "  ```\n",
    "  \n",
    "  It will initialize `last_name` as `\"Smith\"` and `eye_color` as `\"Blue\"`.\n",
    "\n",
    "- **Commented Line:**\n",
    "  - There is a commented-out line `# self.eyc_count = z`. This line is not executed because it is commented with a `#`.\n",
    "  - If it were active, it would indicate an additional attribute `eyc_count` (possibly meant to count something like eye colors), but this is not part of the active code.\n",
    "\n",
    "#### 2. **Class `Child`:**\n",
    "\n",
    "- **`__init__()` (Constructor):**\n",
    "  - The `__init__` method here is the constructor for the `Child` class. Similar to the `Parent` class, this method initializes the attributes of the `Child` object.\n",
    "  - It takes three parameters: `a` (for last name), `b` (for eye color), and `c` (for the number of toys).\n",
    "  - These parameters are used to initialize the attributes `self.last_name`, `self.eye_color`, and `self.number_of_toys`, which are specific to the `Child` object.\n",
    "  \n",
    "  ```python\n",
    "  def __init__(self, a, b, c):\n",
    "      self.last_name = a\n",
    "      self.eye_color = b\n",
    "      self.number_of_toys = c\n",
    "  ```\n",
    "\n",
    "- **Attributes of the `Child` class:**\n",
    "  - `self.last_name`: This stores the last name of the child.\n",
    "  - `self.eye_color`: This stores the eye color of the child.\n",
    "  - `self.number_of_toys`: This stores the number of toys the child has.\n",
    "\n",
    "  For example, if you create a `Child` object like this:\n",
    "  \n",
    "  ```python\n",
    "  child = Child(\"Smith\", \"Brown\", 10)\n",
    "  ```\n",
    "\n",
    "  It will initialize `last_name` as `\"Smith\"`, `eye_color` as `\"Brown\"`, and `number_of_toys` as `10`.\n",
    "\n",
    "### Key Points to Note:\n",
    "\n",
    "1. **No Inheritance:**\n",
    "   - In this example, the `Child` class does **not** inherit from the `Parent` class, even though the attributes `last_name` and `eye_color` are shared between the two classes.\n",
    "   - The `Child` class is independent, and there’s no relationship defined between `Parent` and `Child` here, so inheritance isn’t being used.\n",
    "\n",
    "2. **Attribute Duplication:**\n",
    "   - Both `Parent` and `Child` have the same attributes `last_name` and `eye_color`. This duplication might indicate that they share some common characteristics, which is a typical scenario for inheritance.\n",
    "   - If inheritance were applied, the `Child` class could inherit these attributes from the `Parent` class, avoiding redundancy.\n",
    "\n",
    "### How to Improve the Code with Inheritance:\n",
    "\n",
    "- Since `Child` shares attributes with `Parent`, it would make sense to make `Child` inherit from `Parent`, which avoids duplication and follows the principle of reusability.\n",
    "  \n",
    "- Here’s how you could rewrite the code with inheritance:\n",
    "\n",
    "```python\n",
    "class Parent:\n",
    "    def __init__(self, x, y):\n",
    "        self.last_name = x\n",
    "        self.eye_color = y\n",
    "\n",
    "class Child(Parent):  # Child inherits from Parent\n",
    "    def __init__(self, a, b, c):\n",
    "        super().__init__(a, b)  # Calls the Parent class constructor\n",
    "        self.number_of_toys = c\n",
    "```\n",
    "\n",
    "- In this revised version, the `Child` class inherits the `last_name` and `eye_color` attributes from the `Parent` class using `super()`. The `Child` constructor now only has to deal with the additional attribute `number_of_toys`.\n",
    "\n",
    "- Example of usage:\n",
    "  \n",
    "  ```python\n",
    "  child = Child(\"Smith\", \"Brown\", 10)\n",
    "  ```\n",
    "\n",
    "  This creates a `Child` object with:\n",
    "  - `last_name`: `\"Smith\"`\n",
    "  - `eye_color`: `\"Brown\"`\n",
    "  - `number_of_toys`: `10`\n",
    "\n",
    "By using inheritance, you reduce redundancy and make the code more maintainable and clear."
   ]
  },
  {
   "cell_type": "code",
   "execution_count": 5,
   "metadata": {},
   "outputs": [
    {
     "name": "stdout",
     "output_type": "stream",
     "text": [
      "gates\n",
      "black\n"
     ]
    }
   ],
   "source": [
    "parent1=Parent(\"gates\",\"black\")\n",
    "print (parent1.last_name)\n",
    "print (parent1.eye_color)"
   ]
  },
  {
   "cell_type": "code",
   "execution_count": 7,
   "metadata": {},
   "outputs": [
    {
     "name": "stdout",
     "output_type": "stream",
     "text": [
      "gates\n",
      "black\n",
      "10\n"
     ]
    }
   ],
   "source": [
    "child1=Child(\"gates\",\"black\",10)\n",
    "print (child1.last_name)\n",
    "print (child1.eye_color)\n",
    "print (child1.number_of_toys)"
   ]
  },
  {
   "cell_type": "code",
   "execution_count": 9,
   "metadata": {},
   "outputs": [
    {
     "name": "stdout",
     "output_type": "stream",
     "text": [
      "['__class__', '__delattr__', '__dict__', '__dir__', '__doc__', '__eq__', '__format__', '__ge__', '__getattribute__', '__getstate__', '__gt__', '__hash__', '__init__', '__init_subclass__', '__le__', '__lt__', '__module__', '__ne__', '__new__', '__reduce__', '__reduce_ex__', '__repr__', '__setattr__', '__sizeof__', '__str__', '__subclasshook__', '__weakref__', 'eye_color', 'last_name', 'number_of_toys']\n"
     ]
    }
   ],
   "source": [
    "class Parent():\n",
    "    last_name=\"gate\"\n",
    "    eye_color=\"black\"\n",
    "        \n",
    "class Child(Parent):\n",
    "    number_of_toys=10\n",
    "    # last_name=\"gate\"\n",
    "#     eye_color=\"black\"\n",
    "c=Child()\n",
    "print(dir(c))"
   ]
  },
  {
   "cell_type": "code",
   "execution_count": null,
   "metadata": {},
   "outputs": [],
   "source": []
  },
  {
   "cell_type": "code",
   "execution_count": 11,
   "metadata": {},
   "outputs": [
    {
     "name": "stdout",
     "output_type": "stream",
     "text": [
      "gate\n",
      "black\n",
      "brown\n"
     ]
    }
   ],
   "source": [
    "print(c.last_name)\n",
    "print(c.eye_color)\n",
    "c.eye_color=\"brown\"\n",
    "print(c.eye_color)\n"
   ]
  },
  {
   "cell_type": "code",
   "execution_count": null,
   "metadata": {},
   "outputs": [],
   "source": [
    "p=Parent()\n",
    "p.eye_color"
   ]
  },
  {
   "cell_type": "code",
   "execution_count": 13,
   "metadata": {},
   "outputs": [],
   "source": [
    "class Parent():\n",
    "    def __init__(self,x,y):\n",
    "        self.last_name=x\n",
    "        self.eye_color=y\n",
    "        \n",
    "class Child(Parent):\n",
    "    def __init__(self,a,b,c):\n",
    "        Parent.__init__(self,a,b)\n",
    "#         self.last_name=a\n",
    "#         self.eye_color=b\n",
    "        self.number_of_toys=c"
   ]
  },
  {
   "cell_type": "code",
   "execution_count": 15,
   "metadata": {},
   "outputs": [
    {
     "data": {
      "text/plain": [
       "'cyrus'"
      ]
     },
     "execution_count": 15,
     "metadata": {},
     "output_type": "execute_result"
    }
   ],
   "source": [
    "billy_cyrus=Parent(\"cyrus\",\"blue\")\n",
    "billy_cyrus.last_name"
   ]
  },
  {
   "cell_type": "code",
   "execution_count": null,
   "metadata": {},
   "outputs": [],
   "source": [
    "billy_cyrus.eye_color"
   ]
  },
  {
   "cell_type": "code",
   "execution_count": null,
   "metadata": {},
   "outputs": [],
   "source": [
    "dir(billy_cyrus)"
   ]
  },
  {
   "cell_type": "code",
   "execution_count": null,
   "metadata": {},
   "outputs": [],
   "source": [
    "mile_cyrus=Child(\"cyrus\",\"black\",8)\n",
    "mile_cyrus.last_name"
   ]
  },
  {
   "cell_type": "code",
   "execution_count": null,
   "metadata": {},
   "outputs": [],
   "source": [
    "mile_cyrus.eye_color\n"
   ]
  },
  {
   "cell_type": "code",
   "execution_count": null,
   "metadata": {},
   "outputs": [],
   "source": [
    "mile_cyrus.number_of_toys\n",
    "# print dir(mile_cyrus)"
   ]
  },
  {
   "cell_type": "code",
   "execution_count": null,
   "metadata": {},
   "outputs": [],
   "source": [
    "dir(mile_cyrus)"
   ]
  },
  {
   "cell_type": "code",
   "execution_count": 19,
   "metadata": {},
   "outputs": [
    {
     "name": "stdout",
     "output_type": "stream",
     "text": [
      "Parent initialized: John\n",
      "Child initialized: John, Age: 10\n"
     ]
    }
   ],
   "source": [
    "class Parent:\n",
    "    def __init__(self, name):  # Corrected to __init__\n",
    "        self.name = name\n",
    "        print(f\"Parent initialized: {self.name}\")\n",
    "\n",
    "class Child(Parent):\n",
    "    def __init__(self, name, age):  # Corrected to __init__\n",
    "        # Call the parent class's constructor\n",
    "        super().__init__(name)  # Corrected to __init__\n",
    "        self.age = age\n",
    "        print(f\"Child initialized: {self.name}, Age: {self.age}\")\n",
    "\n",
    "# Creating an object of the Child class\n",
    "child = Child(\"John\", 10)\n"
   ]
  },
  {
   "cell_type": "code",
   "execution_count": 21,
   "metadata": {},
   "outputs": [
    {
     "name": "stdout",
     "output_type": "stream",
     "text": [
      "Hello from Parent 1\n"
     ]
    }
   ],
   "source": [
    "class Parent1:\n",
    "    def greet(self):\n",
    "        print(\"Hello from Parent 1\")\n",
    "\n",
    "class Parent2:\n",
    "    def greet(self):\n",
    "        print(\"Hello from Parent 2\")\n",
    "\n",
    "class Child(Parent1, Parent2):\n",
    "    pass\n",
    "\n",
    "# Create an instance of Child\n",
    "child = Child()\n",
    "child.greet()\n"
   ]
  },
  {
   "cell_type": "code",
   "execution_count": null,
   "metadata": {},
   "outputs": [],
   "source": [
    "class Parent:\n",
    "    def __init__(self):\n",
    "        self.parentAttr = 100\n",
    "        print (\"Calling parent constructor\")\n",
    "    def parentMethod(self):\n",
    "        print ('Calling parent method')\n",
    "    def setAttr(self, attr):\n",
    "        self.parentAttr = attr\n",
    "    def getAttr(self):\n",
    "        print (\"Parent attribute :\", self.parentAttr)\n",
    "\n",
    "class Child(Parent):\n",
    "    def __init__(self):\n",
    "        print (\"Calling child constructor\")\n",
    "    def childMethod(self):\n",
    "        print ('Calling child method')"
   ]
  },
  {
   "cell_type": "markdown",
   "metadata": {},
   "source": [
    "This Python code demonstrates **inheritance**, where a `Child` class inherits attributes and methods from a `Parent` class. Let's go step-by-step to explain how this works.\n",
    "\n",
    "### Code Breakdown:\n",
    "\n",
    "#### 1. **Class `Parent`:**\n",
    "\n",
    "```python\n",
    "class Parent:\n",
    "    def __init__(self):\n",
    "        self.parentAttr = 100\n",
    "        print(\"Calling parent constructor\")\n",
    "    \n",
    "    def parentMethod(self):\n",
    "        print('Calling parent method')\n",
    "    \n",
    "    def setAttr(self, attr):\n",
    "        self.parentAttr = attr\n",
    "    \n",
    "    def getAttr(self):\n",
    "        print(\"Parent attribute:\", self.parentAttr)\n",
    "```\n",
    "\n",
    "##### Explanation of `Parent` Class:\n",
    "\n",
    "- **Constructor (`__init__` method):**\n",
    "  - The `__init__` method is the **constructor** for the `Parent` class. This method is called automatically when you create an instance of the `Parent` class.\n",
    "  - It sets an instance attribute `self.parentAttr` to `100`.\n",
    "  - The line `print(\"Calling parent constructor\")` will print a message indicating that the parent class constructor is being called.\n",
    "\n",
    "- **`parentMethod(self)` method:**\n",
    "  - This method prints a message `\"Calling parent method\"` when called. It's a regular instance method of the `Parent` class.\n",
    "\n",
    "- **`setAttr(self, attr)` method:**\n",
    "  - This method allows you to set the value of the `parentAttr` attribute to a new value. The value passed as `attr` will replace the current value of `self.parentAttr`.\n",
    "\n",
    "- **`getAttr(self)` method:**\n",
    "  - This method prints the current value of the `parentAttr` attribute. It shows the stored attribute of the parent instance.\n",
    "\n",
    "##### Example:\n",
    "\n",
    "```python\n",
    "p = Parent()   # Output: \"Calling parent constructor\"\n",
    "p.parentMethod()  # Output: \"Calling parent method\"\n",
    "p.setAttr(200)  # This sets `parentAttr` to 200\n",
    "p.getAttr()     # Output: \"Parent attribute: 200\"\n",
    "```\n",
    "\n",
    "#### 2. **Class `Child`:**\n",
    "\n",
    "```python\n",
    "class Child(Parent):\n",
    "    def __init__(self):\n",
    "        print(\"Calling child constructor\")\n",
    "    \n",
    "    def childMethod(self):\n",
    "        print('Calling child method')\n",
    "```\n",
    "\n",
    "##### Explanation of `Child` Class:\n",
    "\n",
    "- **Inheritance:**\n",
    "  - The `Child` class inherits from the `Parent` class. This means that the `Child` class automatically has access to the methods and attributes of the `Parent` class unless they are overridden in the `Child` class.\n",
    "  - The syntax `class Child(Parent):` means that `Child` is inheriting from `Parent`.\n",
    "\n",
    "- **Constructor (`__init__` method):**\n",
    "  - The `__init__` method in the `Child` class only prints `\"Calling child constructor\"`.\n",
    "  - It does **not call** the `Parent` class’s constructor (`__init__`) automatically unless specified. Therefore, when you create a `Child` object, only the child's constructor will be called, and not the parent's.\n",
    "\n",
    "- **`childMethod(self)` method:**\n",
    "  - This is a method specific to the `Child` class that prints `\"Calling child method\"` when called.\n",
    "\n",
    "##### Example of Child Class:\n",
    "\n",
    "```python\n",
    "c = Child()   # Output: \"Calling child constructor\"\n",
    "c.childMethod()  # Output: \"Calling child method\"\n",
    "```\n",
    "\n",
    "#### 3. **Inheritance in Action:**\n",
    "\n",
    "Because `Child` inherits from `Parent`, it has access to `Parent`'s methods (like `parentMethod()`, `setAttr()`, and `getAttr()`). However, note that the `Parent` constructor is not automatically invoked when the `Child` object is created unless explicitly called.\n",
    "\n",
    "To access both the parent's and child's constructors, we can call the parent's constructor inside the child's constructor using `super()`.\n",
    "\n",
    "##### Modified `Child` Class to Call Parent’s Constructor:\n",
    "\n",
    "```python\n",
    "class Child(Parent):\n",
    "    def __init__(self):\n",
    "        super().__init__()  # This calls the Parent's constructor\n",
    "        print(\"Calling child constructor\")\n",
    "    \n",
    "    def childMethod(self):\n",
    "        print('Calling child method')\n",
    "```\n",
    "\n",
    "Now, creating an object of the `Child` class will call both the `Parent` and `Child` constructors.\n",
    "\n",
    "##### Example:\n",
    "\n",
    "```python\n",
    "c = Child()  \n",
    "# Output:\n",
    "# Calling parent constructor\n",
    "# Calling child constructor\n",
    "\n",
    "c.childMethod()  # Output: \"Calling child method\"\n",
    "c.parentMethod()  # Output: \"Calling parent method\"\n",
    "c.getAttr()  # Output: \"Parent attribute: 100\"\n",
    "c.setAttr(300)  # Set parentAttr to 300\n",
    "c.getAttr()  # Output: \"Parent attribute: 300\"\n",
    "```\n",
    "\n",
    "### Key Points to Understand:\n",
    "\n",
    "1. **Inheritance:**\n",
    "   - The `Child` class inherits from the `Parent` class, meaning it gets all of the parent’s methods (`parentMethod()`, `getAttr()`, and `setAttr()`) and attributes (`parentAttr`), unless the child class overrides them.\n",
    "\n",
    "2. **Constructors in Inheritance:**\n",
    "   - In the original version of the `Child` class, only the child's constructor is called when an object is created. The parent's constructor (`__init__()`) is not called unless you explicitly call it using `super()`.\n",
    "\n",
    "3. **Method Access:**\n",
    "   - Even though the `Child` class has its own methods, it can still use the methods defined in the `Parent` class. For instance, `c.parentMethod()` will work because `Child` inherits from `Parent`.\n",
    "\n",
    "4. **Encapsulation of Attributes:**\n",
    "   - The `parentAttr` is defined in the `Parent` class but is accessible in instances of `Child` because the child inherits all the attributes of the parent class.\n",
    "\n",
    "In summary, this code demonstrates basic inheritance in Python, showing how a child class can extend a parent class and how constructors and methods behave when inheritance is involved."
   ]
  },
  {
   "cell_type": "code",
   "execution_count": null,
   "metadata": {},
   "outputs": [],
   "source": [
    "c = Child()\n",
    "dir(c)"
   ]
  },
  {
   "cell_type": "code",
   "execution_count": null,
   "metadata": {},
   "outputs": [],
   "source": [
    "p = Parent()"
   ]
  },
  {
   "cell_type": "code",
   "execution_count": null,
   "metadata": {},
   "outputs": [],
   "source": [
    "dir(p)"
   ]
  },
  {
   "cell_type": "code",
   "execution_count": null,
   "metadata": {},
   "outputs": [],
   "source": [
    "c.childMethod()"
   ]
  },
  {
   "cell_type": "code",
   "execution_count": null,
   "metadata": {},
   "outputs": [],
   "source": [
    "c.parentMethod()     # calls parent's method"
   ]
  },
  {
   "cell_type": "code",
   "execution_count": null,
   "metadata": {},
   "outputs": [],
   "source": [
    "c.setAttr(200)       # again call parent's method"
   ]
  },
  {
   "cell_type": "code",
   "execution_count": null,
   "metadata": {},
   "outputs": [],
   "source": [
    "c.getAttr()          # again call parent's method\n"
   ]
  },
  {
   "cell_type": "code",
   "execution_count": null,
   "metadata": {},
   "outputs": [],
   "source": [
    "p.getAttr()"
   ]
  },
  {
   "cell_type": "code",
   "execution_count": null,
   "metadata": {},
   "outputs": [],
   "source": [
    "class MyClass:\n",
    "    pass\n",
    "c = MyClass()\n",
    "dir(c)"
   ]
  },
  {
   "cell_type": "markdown",
   "metadata": {},
   "source": [
    "the two lists are nearly identical. There are some additional members in MyClass like __dict__ and __weakref__, but every single member of the object class is also present in MyClass.\n",
    "\n",
    "This is because every class you create in Python implicitly derives from object. You could be more explicit and write class MyClass(object):, but it’s redundant and unnecessary."
   ]
  },
  {
   "cell_type": "code",
   "execution_count": null,
   "metadata": {},
   "outputs": [],
   "source": [
    "o = object()\n",
    "dir(o)"
   ]
  },
  {
   "cell_type": "code",
   "execution_count": null,
   "metadata": {},
   "outputs": [],
   "source": [
    "class Num():\n",
    "    def __init__(self,num):\n",
    "        self.n1 = num\n",
    "        self.n2 = num+10\n",
    "class Num2(Num):\n",
    "    def __init__(self,num):\n",
    "        Num.__init__(self,num)\n",
    "        self.n3 = num*2\n",
    "    def show(self):\n",
    "        print (self.n1, self.n2,self.n3)"
   ]
  },
  {
   "cell_type": "code",
   "execution_count": null,
   "metadata": {},
   "outputs": [],
   "source": [
    "num1=Num(10)\n",
    "print(num1.n1)\n",
    "print(num1.n2)"
   ]
  },
  {
   "cell_type": "code",
   "execution_count": null,
   "metadata": {},
   "outputs": [],
   "source": [
    "numChild=Num2(11)\n",
    "print(numChild.n1)\n",
    "print(numChild.n2)\n",
    "print(numChild.n3)"
   ]
  },
  {
   "cell_type": "code",
   "execution_count": null,
   "metadata": {},
   "outputs": [],
   "source": [
    "num1.n2"
   ]
  },
  {
   "cell_type": "code",
   "execution_count": null,
   "metadata": {},
   "outputs": [],
   "source": [
    "numChild=Num2(11)"
   ]
  },
  {
   "cell_type": "code",
   "execution_count": null,
   "metadata": {},
   "outputs": [],
   "source": [
    "numChild.show()"
   ]
  },
  {
   "cell_type": "code",
   "execution_count": null,
   "metadata": {},
   "outputs": [],
   "source": [
    "class Num():\n",
    "    def __init__(self,x):\n",
    "        self.n1 = x\n",
    "        self.n2 = x+10\n",
    "class Num2(Num):\n",
    "    def __init__(self,x):\n",
    "        super(Num2,self).__init__(x)\n",
    "#         Num.__init__(self,x)\n",
    "        self.n3 = x*2\n",
    "    def show(self):\n",
    "        print (self.n1, self.n2,self.n3)\n",
    "\n",
    "numChild=Num2(11)\n",
    "numChild.show()"
   ]
  },
  {
   "cell_type": "code",
   "execution_count": null,
   "metadata": {},
   "outputs": [],
   "source": [
    "dir(object)"
   ]
  },
  {
   "cell_type": "markdown",
   "metadata": {},
   "source": [
    "### Multilevel Inheritance"
   ]
  },
  {
   "cell_type": "code",
   "execution_count": null,
   "metadata": {},
   "outputs": [],
   "source": [
    "class SomeBaseClass():\n",
    "    def __init__(self):\n",
    "        print (\"Constructor of SomeBaseClass is called\")\n",
    "    def printhello(self):\n",
    "        print (\"helloworld\")\n",
    "class UnsuperChild(SomeBaseClass):\n",
    "    def __init__(self):\n",
    "        print (\"Constructor of UnsuperChild is called\")\n",
    "        super(UnsuperChild, self).__init__()\n",
    "class SuperChild(UnsuperChild):\n",
    "    def __init__(self):\n",
    "        print('Constructor of SuperChild is called')\n",
    "        super(SuperChild, self).__init__()\n",
    "\n",
    "# a=SomeBaseClass()  \n",
    "# b=UnsuperChild()\n",
    "c=SuperChild() # str1=\"python\""
   ]
  },
  {
   "cell_type": "code",
   "execution_count": null,
   "metadata": {},
   "outputs": [],
   "source": [
    "dir(c)"
   ]
  },
  {
   "cell_type": "code",
   "execution_count": null,
   "metadata": {},
   "outputs": [],
   "source": [
    "c.printhello() "
   ]
  },
  {
   "cell_type": "markdown",
   "metadata": {},
   "source": [
    "## Method Overriding"
   ]
  },
  {
   "cell_type": "code",
   "execution_count": null,
   "metadata": {},
   "outputs": [],
   "source": [
    "class Parent:        # define parent class\n",
    "   def myMethod(self):\n",
    "      print ('Calling parent method')\n",
    "   def myMethodParent(self):\n",
    "      print ('Calling parent method')\n",
    "\n",
    "class Child(Parent): # define child class\n",
    "   def myMethod(self):\n",
    "      print ('Calling child method')\n",
    "   def myMethod1(self):\n",
    "      print ('Calling child method')"
   ]
  },
  {
   "cell_type": "code",
   "execution_count": null,
   "metadata": {},
   "outputs": [],
   "source": [
    "c = Child()          # instance of child\n",
    "c.myMethod()      # child calls overridden method"
   ]
  },
  {
   "cell_type": "code",
   "execution_count": null,
   "metadata": {},
   "outputs": [],
   "source": [
    "c.myMethodParent()         # child calls overridden method"
   ]
  },
  {
   "cell_type": "code",
   "execution_count": null,
   "metadata": {},
   "outputs": [],
   "source": [
    "p=Parent()          # instance of child\n",
    "p.myMethod()"
   ]
  },
  {
   "cell_type": "code",
   "execution_count": null,
   "metadata": {},
   "outputs": [],
   "source": [
    "dir(Child)"
   ]
  },
  {
   "cell_type": "markdown",
   "metadata": {},
   "source": [
    "### Private variable and methods"
   ]
  },
  {
   "cell_type": "code",
   "execution_count": null,
   "metadata": {},
   "outputs": [],
   "source": [
    "class MyClass:\n",
    "    __privateVariable=10\n",
    "    def myPublicMethod(self):\n",
    "        print ('public method')\n",
    "    def __my(self):\n",
    "        print ('this is private!!')"
   ]
  },
  {
   "cell_type": "code",
   "execution_count": null,
   "metadata": {},
   "outputs": [],
   "source": [
    "obj=MyClass()"
   ]
  },
  {
   "cell_type": "code",
   "execution_count": null,
   "metadata": {},
   "outputs": [],
   "source": [
    "# obj.__my()\n",
    "obj.__privateVariable"
   ]
  },
  {
   "cell_type": "code",
   "execution_count": null,
   "metadata": {},
   "outputs": [],
   "source": [
    "dir(obj)"
   ]
  },
  {
   "cell_type": "code",
   "execution_count": null,
   "metadata": {},
   "outputs": [],
   "source": [
    "obj._MyClass__my()"
   ]
  },
  {
   "cell_type": "raw",
   "metadata": {},
   "source": [
    "If you look closely, you’ll see there’s an attribute called obj._MyClass__privateVariable\n",
    "on this object. This is the name mangling that the Python interpreter\n",
    "applies. It does this to protect the variable from getting overridden in\n",
    "subclasses"
   ]
  },
  {
   "cell_type": "code",
   "execution_count": null,
   "metadata": {},
   "outputs": [],
   "source": [
    "obj._MyClass__privateVariable"
   ]
  },
  {
   "cell_type": "code",
   "execution_count": null,
   "metadata": {},
   "outputs": [],
   "source": [
    "class Person:\n",
    "    def __init__(self, name, surname, year_of_birth):\n",
    "        self.__name = name\n",
    "        self.__surname = surname\n",
    "        self.__year_of_birth = year_of_birth\n",
    "    \n",
    "    def age(self, current_year):\n",
    "        return current_year - self.__year_of_birth\n",
    "    \n",
    "    def __str__(self):\n",
    "        return \"%s %s and was born %d.\" \\\n",
    "        % (self.__name, self.__surname, self.__year_of_birth)\n",
    "    \n",
    "alec = Person(\"Alec\", \"Baldwin\", 1958)\n",
    "print(alec.age(2019))\n",
    "alex = Person(\"Alec\", \"Baldwin\", 1958)\n",
    "print(alex)"
   ]
  },
  {
   "cell_type": "code",
   "execution_count": null,
   "metadata": {},
   "outputs": [],
   "source": [
    "alec.__name"
   ]
  },
  {
   "cell_type": "code",
   "execution_count": null,
   "metadata": {},
   "outputs": [],
   "source": [
    "alec.__name"
   ]
  },
  {
   "cell_type": "code",
   "execution_count": null,
   "metadata": {},
   "outputs": [],
   "source": [
    "A.class_foo(1)"
   ]
  },
  {
   "cell_type": "markdown",
   "metadata": {},
   "source": [
    "### Multiple Inheritence"
   ]
  },
  {
   "cell_type": "code",
   "execution_count": null,
   "metadata": {},
   "outputs": [],
   "source": [
    "class Base1:\n",
    "    pass\n",
    "\n",
    "class Base2:\n",
    "    pass\n",
    "\n",
    "class MultiDerived(Base1, Base2):\n",
    "    pass"
   ]
  },
  {
   "cell_type": "code",
   "execution_count": null,
   "metadata": {},
   "outputs": [],
   "source": [
    "\n",
    "print(resident1.getId())  \n",
    "# ///done till here"
   ]
  },
  {
   "cell_type": "code",
   "execution_count": null,
   "metadata": {},
   "outputs": [],
   "source": [
    "class A:  \n",
    "    def __init__(self):  \n",
    "        self.name = 'John'  \n",
    "        self.age = 23  \n",
    "    def getName(self):  \n",
    "        return self.name  \n",
    "class B:  \n",
    "    def __init__(self):  \n",
    "        self.name = 'Richard'  \n",
    "        self.id = '32'  \n",
    "    def getName(self):  \n",
    "        return self.name  \n",
    "class C(A, B):\n",
    "    def __init__(self):  \n",
    "        A.__init__(self)  \n",
    "        B.__init__(self)  \n",
    "#         A.__init__(self)  \n",
    "  \n",
    "    def getName(self):  \n",
    "        return self.name  \n",
    "  \n",
    "C1 = C()  \n",
    "print(C1.getName())  \n",
    "print(C.__mro__)"
   ]
  },
  {
   "cell_type": "code",
   "execution_count": null,
   "metadata": {},
   "outputs": [],
   "source": [
    "class A:  \n",
    "    def __init__(self):  \n",
    "        self.name = 'John'  \n",
    "        self.age = 23  \n",
    "    def getName(self):  \n",
    "        return self.name  \n",
    "class B:  \n",
    "    def __init__(self):  \n",
    "        self.name = 'Richard'  \n",
    "        self.id = '32'  \n",
    "    def getName(self):  \n",
    "        return self.name  \n",
    "class C(A, B):\n",
    "    def __init__(self):  \n",
    "        B.__init__(self)  \n",
    "        A.__init__(self)  \n",
    "  \n",
    "    def getName(self):  \n",
    "        return self.name  \n",
    "  \n",
    "C1 = C()  \n",
    "print(C1.getName())  \n"
   ]
  },
  {
   "cell_type": "code",
   "execution_count": null,
   "metadata": {},
   "outputs": [],
   "source": [
    "class A:  \n",
    "    def __init__(self):  \n",
    "        self.name = 'John'  \n",
    "        self.age = 23  \n",
    "    def getName(self):  \n",
    "        return self.name  \n",
    "class B:  \n",
    "    def __init__(self):  \n",
    "        self.name = 'Richard'  \n",
    "        self.id = '32'  \n",
    "    def getName(self):  \n",
    "        return self.name  \n",
    "class C(B, A):  # the order of inheriting will get the preference here B is inherited first\n",
    "    def __init__(self):  \n",
    "        super().__init__()  \n",
    "    def getName(self):  \n",
    "        return self.name  \n",
    "C1 = C()  \n",
    "print(C1.getName())  \n",
    "print(C.__mro__),\n"
   ]
  },
  {
   "cell_type": "code",
   "execution_count": null,
   "metadata": {},
   "outputs": [],
   "source": [
    "class A:  \n",
    "    def __init__(self):  \n",
    "        self.name = 'John'  \n",
    "        self.age = 23  \n",
    "    def getName(self):  \n",
    "        return self.name  \n",
    "class B:  \n",
    "    def __init__(self):  \n",
    "        self.name = 'Richard'  \n",
    "        self.id = '32'  \n",
    "    def getName(self):  \n",
    "        return self.name  \n",
    "class C(A, B):  # the order of inheriting will get the preference here A is inherited first\n",
    "    def __init__(self):  \n",
    "        super().__init__()  \n",
    "    def getName(self):  \n",
    "        return self.name  \n",
    "C1 = C()  \n",
    "print(C1.getName())  \n",
    "print(C.__mro__),"
   ]
  },
  {
   "cell_type": "raw",
   "metadata": {},
   "source": [
    "Naming Type Meaning\n",
    "name\tPublic These attributes can be freely used inside or outside of a class definition.\n",
    "_name\tProtected Protected attributes should not be used outside of the class definition, unless      inside of a subclass definition. \n",
    "__name\tPrivate This kind of attribute is inaccessible and invisible. It's neither possible to read nor write to those attributes, except inside of the class definition itself."
   ]
  },
  {
   "cell_type": "code",
   "execution_count": null,
   "metadata": {},
   "outputs": [],
   "source": [
    "class A():\n",
    "      def __init__(self):\n",
    "        self.__priv = \"I am private\"\n",
    "        self._prot = \"I am protected\"\n",
    "        self.pub = \"I am public\""
   ]
  },
  {
   "cell_type": "markdown",
   "metadata": {},
   "source": [
    "Python's convention to make an instance variable protected is to add a prefix _ (single underscore) to it. This effectively prevents it to be accessed, unless it is from within a sub-class.\n",
    "\n",
    "In fact, this doesn't prevent instance variables from accessing or modifyingthe instance. You can still perform the following operations:\n",
    "\n",
    "Hence, the responsible programmer would refrain from accessing and modifying instance variables prefixed with _ from outside its class.\n",
    "\n"
   ]
  },
  {
   "cell_type": "markdown",
   "metadata": {},
   "source": [
    "Single underscores are a Python naming convention that indicates a\n",
    "name is meant for internal use. It is generally not enforced by the\n",
    "Python interpreter and is only meant as a hint to the programmer"
   ]
  },
  {
   "cell_type": "code",
   "execution_count": null,
   "metadata": {},
   "outputs": [],
   "source": [
    "class employee:\n",
    "    def __init__(self, name, sal):\n",
    "        self._name=name  # protected attribute \n",
    "        self._salary=sal # protected attribute\n",
    "e1=employee(\"Swati\", 10000)\n",
    "print(e1._salary)\n",
    "e1._salary=20000\n",
    "print(e1._salary)\n"
   ]
  },
  {
   "cell_type": "code",
   "execution_count": null,
   "metadata": {},
   "outputs": [],
   "source": [
    "x = A()\n",
    "x.pub"
   ]
  },
  {
   "cell_type": "code",
   "execution_count": null,
   "metadata": {},
   "outputs": [],
   "source": [
    "x.pub = x.pub + \" and my value can be changed\"\n",
    "x.pub"
   ]
  },
  {
   "cell_type": "code",
   "execution_count": null,
   "metadata": {},
   "outputs": [],
   "source": [
    "x._prot"
   ]
  },
  {
   "cell_type": "code",
   "execution_count": null,
   "metadata": {},
   "outputs": [],
   "source": [
    "x.__priv"
   ]
  },
  {
   "cell_type": "code",
   "execution_count": null,
   "metadata": {},
   "outputs": [],
   "source": [
    "class Robot:\n",
    "    def __init__(self, name=None, build_year=2000):\n",
    "        self.__name = name\n",
    "        self.__build_year = build_year   \n",
    "    def say_hi(self):\n",
    "        if self.__name:\n",
    "            print(\"Hi, I am \" + self.__name)\n",
    "        else:\n",
    "            print(\"Hi, I am a robot without a name\")     \n",
    "    def set_name(self, name):\n",
    "        self.__name = name        \n",
    "    def get_name(self):\n",
    "        return self.__name\n",
    "    def set_build_year(self, by):\n",
    "        self.__build_year = by        \n",
    "    def get_build_year(self):\n",
    "        return self.__build_year    \n",
    "    def __str__(self):\n",
    "        return \"Name: \" + self.__name + \", Build Year: \" +  str(self.__build_year)  \n",
    "x = Robot(\"Marvin\", 1979)\n",
    "y = Robot(\"Caliban\", 1943)\n",
    "for rob in [x, y]:\n",
    "    rob.say_hi()\n",
    "    if rob.get_name() == \"Caliban\":\n",
    "        rob.set_build_year(1993)\n",
    "        print(\"I was built in the year \" + str(rob.get_build_year()) + \"!\")"
   ]
  },
  {
   "cell_type": "raw",
   "metadata": {},
   "source": [
    "Every private attribute of our class has a getter and a setter. There are IDEs for object-oriented programming languages, who automatically provide getters and setters for every private attribute as soon as an attribute is created. \n"
   ]
  },
  {
   "cell_type": "markdown",
   "metadata": {},
   "source": [
    "ASSIGNMENT"
   ]
  },
  {
   "cell_type": "code",
   "execution_count": null,
   "metadata": {},
   "outputs": [],
   "source": [
    "class A():\n",
    "    \n",
    "    def __init__(self, x, y):\n",
    "        self.__x = x\n",
    "        self.__y = y\n",
    "\n",
    "    def GetX(self):\n",
    "        return self.__x\n",
    "\n",
    "    def GetY(self):\n",
    "        return self.__y\n",
    "\n",
    "    def SetX(self, x):\n",
    "        self.__x = x\n",
    "\n",
    "    def SetY(self, y):\n",
    "        self.__y = y"
   ]
  },
  {
   "cell_type": "markdown",
   "metadata": {},
   "source": [
    "Data Abstraction, Data Encapsulation and Information Hiding are often synonymously used in books and tutorials on OOP. But there is a difference. Encapsulation is seen as the bundling of data with the methods that operate on that data. Information hiding on the other hand is the principle that some internal information or data is \"hidden\", so that it can't be accidentally changed. Data encapsulation via methods doesn't necessarily mean that the data is hidden. You might be capable of accessing and seeing the data anyway, but using the methods is recommended. Finally, data abstraction is present, if both data hiding and data encapsulation is used. This means data abstraction is the broader term:\n",
    "\n",
    "Data Abstraction = Data Encapsulation + Data Hiding \n",
    "\n",
    "Encapsulation is often accomplished by providing two kinds of methods for attributes: The methods for retrieving or accessing the values of attributes are called getter methods. Getter methods do not change the values of attributes, they just return the values. The methods used for changing the values of attributes are called setter methods."
   ]
  },
  {
   "cell_type": "markdown",
   "metadata": {},
   "source": [
    "### Destcutcure\n",
    "What we said about constructors holds true for destructors as well. There is no \"real\" destructor, but something similar, i.e. the method __del__. It is called when the instance is about to be destroyed and if there is no other reference to this instance. If a base class has a __del__() method, the derived class's __del__() method, if any, must explicitly call it to ensure proper deletion of the base class part of the instance. \n",
    "\n",
    "The following script is an example with __init__ and __del__: \n"
   ]
  },
  {
   "cell_type": "code",
   "execution_count": 73,
   "metadata": {},
   "outputs": [
    {
     "name": "stdout",
     "output_type": "stream",
     "text": [
      "Tik-Tok has been created!\n",
      "Jenkins has been created!\n",
      "2084001772488\n",
      "2084001530096\n",
      "******************************\n",
      "Robot Tik-Tok has been destroyed\n",
      "Robot Jenkins has been destroyed\n"
     ]
    },
    {
     "ename": "NameError",
     "evalue": "name 'x' is not defined",
     "output_type": "error",
     "traceback": [
      "\u001b[1;31m---------------------------------------------------------------------------\u001b[0m",
      "\u001b[1;31mNameError\u001b[0m                                 Traceback (most recent call last)",
      "\u001b[1;32m<ipython-input-73-79f7f6ebee57>\u001b[0m in \u001b[0;36m<module>\u001b[1;34m\u001b[0m\n\u001b[0;32m     25\u001b[0m \u001b[1;32mdel\u001b[0m \u001b[0mx\u001b[0m\u001b[1;33m\u001b[0m\u001b[1;33m\u001b[0m\u001b[0m\n\u001b[0;32m     26\u001b[0m \u001b[1;32mdel\u001b[0m \u001b[0my\u001b[0m\u001b[1;33m\u001b[0m\u001b[1;33m\u001b[0m\u001b[0m\n\u001b[1;32m---> 27\u001b[1;33m \u001b[0mprint\u001b[0m\u001b[1;33m(\u001b[0m\u001b[0mx\u001b[0m\u001b[1;33m)\u001b[0m\u001b[1;33m\u001b[0m\u001b[1;33m\u001b[0m\u001b[0m\n\u001b[0m\u001b[0;32m     28\u001b[0m \u001b[1;31m# x.printname()\u001b[0m\u001b[1;33m\u001b[0m\u001b[1;33m\u001b[0m\u001b[1;33m\u001b[0m\u001b[0m\n\u001b[0;32m     29\u001b[0m \u001b[1;31m#     del x\u001b[0m\u001b[1;33m\u001b[0m\u001b[1;33m\u001b[0m\u001b[1;33m\u001b[0m\u001b[0m\n",
      "\u001b[1;31mNameError\u001b[0m: name 'x' is not defined"
     ]
    }
   ],
   "source": [
    " class Robot():\n",
    "    def __init__(self, name):\n",
    "        self.name= name\n",
    "        print(name + \" has been created!\")\n",
    "        \n",
    "    def __del__(self):\n",
    "        print (\"Robot \"+self.name+\" has been destroyed\")\n",
    "   \n",
    "    def __str__(self):\n",
    "        print (\"Robot \"+self.name+\" has been created\")\n",
    "   \n",
    "\n",
    "    def printname(self):\n",
    "        print(self.name)\n",
    "        \n",
    "        \n",
    "# if __name__ == \"__main__\":\n",
    "x = Robot(\"Tik-Tok\")\n",
    "y = Robot(\"Jenkins\")\n",
    "# print(x)\n",
    "print (id(x))\n",
    "print (id(y))\n",
    "print(\"*****\"*6)\n",
    "# #     print(\"Deleting x\")\n",
    "del x\n",
    "del y\n",
    "print(x)\n",
    "# x.printname()\n",
    "#     del x\n",
    "# print(\"Deleting z\")\n",
    "#     del z\n",
    "# else:\n",
    "#     print(\"this will be executed if this is imported\")"
   ]
  },
  {
   "cell_type": "raw",
   "metadata": {},
   "source": [
    "__str__ is used in to show a string representation of your object to be read easily by others.\n",
    "\n",
    "__repr__ is used to show a string representation of the object.\n",
    "\n",
    "Python __str__()\n",
    "This method returns the string representation of the object. This method is called when print() or str() function is invoked on an object.\n",
    "\n",
    "This method must return the String object. If we don’t implement __str__() function for a class, then built-in object implementation is used that actually calls __repr__() function.\n",
    "\n",
    "Python __repr__()\n",
    "Python __repr__() function returns the object representation. It could be any valid python expression such as tuple, dictionary, string etc.\n",
    "\n",
    "This method is called when repr() function is invoked on the object, in that case, __repr__() function must return a String otherwise error will be thrown."
   ]
  },
  {
   "cell_type": "code",
   "execution_count": null,
   "metadata": {},
   "outputs": [],
   "source": [
    "class Fraction:\n",
    "    def __init__(self, num, den):\n",
    "        self.__num = num\n",
    "        self.__den = den\n",
    "\n",
    "    def __str__(self):\n",
    "        return '(' + str(self.__num) + '/' + str(self.__den) + ')'\n",
    "\n",
    "    def __repr__(self):\n",
    "        return 'Fraction (' + str(self.__num) + ',' + str(self.__den) + ')'\n",
    "\n",
    "\n",
    "\n",
    "f = Fraction(1,2)\n",
    "print('I want to represent the Fraction STRING as ' + str(f)) # (1/2)\n",
    "print('I want to represent the Fraction OBJECT as ', repr(f))"
   ]
  },
  {
   "cell_type": "code",
   "execution_count": 64,
   "metadata": {},
   "outputs": [
    {
     "name": "stdout",
     "output_type": "stream",
     "text": [
      "<__main__.Person object at 0x000001E5382F67F0>\n",
      "<__main__.Person object at 0x000001E5382F67F0>\n"
     ]
    }
   ],
   "source": [
    "class Person:\n",
    "    name = \"\"\n",
    "    age = 0\n",
    "\n",
    "    def __init__(self, personName, personAge):\n",
    "        self.name = personName\n",
    "        self.age = personAge\n",
    "\n",
    "p = Person('Pankaj', 34)\n",
    "\n",
    "print(p.__str__())\n",
    "print(p.__repr__())\n"
   ]
  },
  {
   "cell_type": "code",
   "execution_count": 65,
   "metadata": {},
   "outputs": [],
   "source": [
    "class Person:\n",
    "    name = \"\"\n",
    "    age = 0\n",
    "\n",
    "    def __init__(self, personName, personAge):\n",
    "        self.name = personName\n",
    "        self.age = personAge\n",
    "\n",
    "    def __repr__(self):\n",
    "        return {'name':self.name, 'age':self.age}\n",
    "\n",
    "    def __str__(self):\n",
    "        return 'Person(name='+self.name+', age='+str(self.age)+ ')'"
   ]
  },
  {
   "cell_type": "code",
   "execution_count": 66,
   "metadata": {},
   "outputs": [
    {
     "name": "stdout",
     "output_type": "stream",
     "text": [
      "Person(name=Pankaj, age=34)\n",
      "Person(name=Pankaj, age=34)\n",
      "Person(name=Pankaj, age=34)\n",
      "{'name': 'Pankaj', 'age': 34}\n",
      "<class 'dict'>\n"
     ]
    }
   ],
   "source": [
    "p = Person('Pankaj', 34)\n",
    "\n",
    "# __str__() example\n",
    "print(p)\n",
    "print(p.__str__())\n",
    "s = str(p)\n",
    "print(s)\n",
    "\n",
    "# __repr__() example\n",
    "print(p.__repr__())\n",
    "print(type(p.__repr__()))\n",
    "# print(repr(p))"
   ]
  },
  {
   "cell_type": "markdown",
   "metadata": {},
   "source": [
    "#### Difference between __str__ and __repr__ functions\n",
    "-  __str__ must return string object whereas __repr__ can return any python expression.\n",
    "-  If __str__ implementation is missing then __repr__ function is used as fallback. There is no fallback if __repr__ function implementation is missing.\n",
    "-  If __repr__ function is returning String representation of the object, we can skip implementation of __str__ function.\n",
    "\n",
    "#### Summary\n",
    "Both __str__ and __repr__ functions are very similar. We can get the object representation in String format as well as other specific formats such as tuple and dict to get information about the object."
   ]
  },
  {
   "cell_type": "code",
   "execution_count": null,
   "metadata": {},
   "outputs": [],
   "source": [
    "class Geek: \n",
    "    def __init__(self, age = 0): \n",
    "         self._age = age \n",
    "      \n",
    "    # getter method \n",
    "    def get_age(self): \n",
    "        return self._age \n",
    "      \n",
    "    # setter method \n",
    "    def set_age(self, x): \n",
    "        self._age = x \n",
    "  \n",
    "raj = Geek() \n",
    "  \n",
    "# setting the age using setter \n",
    "raj.set_age(21) \n",
    "  \n",
    "# retrieving age using getter \n",
    "print(raj.get_age()) \n",
    "  \n",
    "print(raj._age) "
   ]
  },
  {
   "cell_type": "markdown",
   "metadata": {},
   "source": [
    "In Python property()is a built-in function that creates and returns a property object. A property object has three methods, getter(), setter(), and delete(). property() function in Python has four arguments property(fget, fset, fdel, doc), fget is a function for retrieving an attribute value. fset is a fuction for setting an attribute value. fdel is a function for deleting an attribute value. doc creates a docstring for attribute. A property object has three methods, getter(), setter(), and delete() to specify fget, fset and fdel individually. For Example"
   ]
  },
  {
   "cell_type": "code",
   "execution_count": 67,
   "metadata": {},
   "outputs": [
    {
     "name": "stdout",
     "output_type": "stream",
     "text": [
      "setter method called\n",
      "getter method called\n",
      "10\n"
     ]
    }
   ],
   "source": [
    "class Geeks: \n",
    "     def __init__(self): \n",
    "          self._age = 0\n",
    "       \n",
    "     # function to get value of _age \n",
    "     def get_age(self): \n",
    "         print(\"getter method called\") \n",
    "         return self._age \n",
    "       \n",
    "     # function to set value of _age \n",
    "     def set_age(self, a): \n",
    "         print(\"setter method called\") \n",
    "         self._age = a \n",
    "  \n",
    "     # function to delete _age attribute \n",
    "     def del_age(self): \n",
    "         del self._age \n",
    "     \n",
    "     age = property(get_age, set_age, del_age)  \n",
    "  \n",
    "mark = Geeks() \n",
    "  \n",
    "mark.age = 10\n",
    "  \n",
    "print(mark.age) "
   ]
  },
  {
   "cell_type": "markdown",
   "metadata": {},
   "source": [
    "In previous method we used property() function in order to achieve getters and setters behaviour. However as mentioned earlier in this post getters and setters are also used for validating the getting and setting of attributes value. There is one more way to implement property function i.e. by using decorator. Python @property is one of the built-in decorators. The main purpose of any decorator is to change your class methods or attributes in such a way so that the user of your class no need to make any change in their code. For Example"
   ]
  },
  {
   "cell_type": "code",
   "execution_count": 71,
   "metadata": {},
   "outputs": [
    {
     "name": "stdout",
     "output_type": "stream",
     "text": [
      "setter method called\n",
      "getter method called\n",
      "19\n"
     ]
    }
   ],
   "source": [
    "class Geeks: \n",
    "     def __init__(self): \n",
    "          self._age = 0\n",
    "       \n",
    "     # using property decorator \n",
    "     # a getter function \n",
    "     @property\n",
    "     def age(self): \n",
    "         print(\"getter method called\") \n",
    "         return self._age \n",
    "       \n",
    "     # a setter function \n",
    "     @age.setter \n",
    "     def age(self, a): \n",
    "         if(a < 18): \n",
    "            raise ValueError(\"Sorry you age is below eligibility criteria\") \n",
    "         print(\"setter method called\") \n",
    "         self._age = a \n",
    "  \n",
    "mark = Geeks() \n",
    "  \n",
    "mark.age = 19\n",
    "  \n",
    "print(mark.age) "
   ]
  },
  {
   "cell_type": "code",
   "execution_count": 72,
   "metadata": {},
   "outputs": [
    {
     "name": "stdout",
     "output_type": "stream",
     "text": [
      "Seems to be okay!\n",
      "I feel bad!\n"
     ]
    }
   ],
   "source": [
    "class Robot:\n",
    "\n",
    "    def __init__(self, name, build_year, lk = 0.5, lp = 0.5 ):\n",
    "        self.name = name\n",
    "        self.build_year = build_year\n",
    "        self.__potential_physical = lk\n",
    "        self.__potential_psychic = lp\n",
    "\n",
    "    @property\n",
    "    def condition(self):\n",
    "        s = self.__potential_physical + self.__potential_psychic\n",
    "        if s <= -1:\n",
    "           return \"I feel miserable!\"\n",
    "        elif s <= 0:\n",
    "           return \"I feel bad!\"\n",
    "        elif s <= 0.5:\n",
    "           return \"Could be worse!\"\n",
    "        elif s <= 1:\n",
    "           return \"Seems to be okay!\"\n",
    "        else:\n",
    "           return \"Great!\" \n",
    "  \n",
    "if __name__ == \"__main__\":\n",
    "    x = Robot(\"Marvin\", 1979, 0.2, 0.4 )\n",
    "    y = Robot(\"Caliban\", 1993, -0.4, 0.3)\n",
    "    print(x.condition)\n",
    "    print(y.condition)"
   ]
  },
  {
   "cell_type": "code",
   "execution_count": null,
   "metadata": {},
   "outputs": [],
   "source": [
    "class Employee():\n",
    "    '''This Class has been defined to calculate \n",
    "             the employees salary Hike'''\n",
    "    raise_pay = 0.02\n",
    "    def __init__(self,full_name,emppay):\n",
    "        '''This is an init constructor'''\n",
    "        self.name = full_name\n",
    "        self.pay  = emppay\n",
    "        self.first_name = full_name.split(\" \")[0]\n",
    "        self.last_name  = full_name.split(\" \")[-1]\n",
    "        print(\"The Pay of employee {} is {} \".format(self.name,self.pay))\n",
    "    def __str__(self):\n",
    "        print(\"This is a Good Class example for Inheritance\")\n",
    "    def salary(self):\n",
    "        salary_hike = ((self.pay * self.raise_pay) + self.pay)\n",
    "        print(\"The salary hike for {} is {}\".format(self.name,salary_hike))\n",
    "    def emp_name(self):\n",
    "        if self.first_name != self.last_name:\n",
    "            print(\"The emp name is :\",self.first_name,self.last_name)\n",
    "        else:\n",
    "            print(\"The emp name is :\",self.first_name)\n",
    "    def emp_email(self):\n",
    "        if self.first_name != self.last_name:\n",
    "            self.email      = self.first_name + self.last_name + '@email.com'\n",
    "            print(\"The email of employee is \",self.email)\n",
    "        else:\n",
    "            print(\"The email of employee is \",self.first_name + '@email.com')\n",
    "        \n",
    "class PrgmLang(Employee):\n",
    "    def __init__(self,full_name,emppay,pgm_lang):\n",
    "        super().__init__(full_name,emppay)\n",
    "        self.plang = pgm_lang\n",
    "        print(\"The Employee {} progm language is {}\".format(self.name,self.plang))\n",
    "        \n",
    "class Manager(PrgmLang):\n",
    "    def __init__(self,full_name,emppay,pgm_lang,employee=None):\n",
    "        super().__init__(full_name,emppay,pgm_lang)\n",
    "        if employee is None:\n",
    "            self.employee =[]\n",
    "        else:\n",
    "            self.employee = employee            \n",
    "    def add_emp(self,emp):\n",
    "        for emp in self.employee:\n",
    "            self.employee.append(emp)\n",
    "    def remove_emp(self,emp):\n",
    "        for emp in self.employee:\n",
    "            self.employee.remove(emp)\n",
    "    def print_emp(self):\n",
    "        for emp in self.employee:\n",
    "            return emp.emp_name()\n",
    "            \n",
    " #============================================================================       \n",
    "      \n",
    "dev1 = PrgmLang(\"Tom Jerry\",20000,\"JavaCore\")\n",
    "#dev1.emp_email()\n",
    "mgr1 = Manager(\"Marvel Story\",90000,\"Python\",[dev1])\n",
    "mgr1.print_emp()\n",
    "\n"
   ]
  }
 ],
 "metadata": {
  "kernelspec": {
   "display_name": "Python 3 (ipykernel)",
   "language": "python",
   "name": "python3"
  },
  "language_info": {
   "codemirror_mode": {
    "name": "ipython",
    "version": 3
   },
   "file_extension": ".py",
   "mimetype": "text/x-python",
   "name": "python",
   "nbconvert_exporter": "python",
   "pygments_lexer": "ipython3",
   "version": "3.12.4"
  }
 },
 "nbformat": 4,
 "nbformat_minor": 4
}
