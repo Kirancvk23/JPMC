{
  "cells": [
    {
      "cell_type": "markdown",
      "id": "4c9d9bc5",
      "metadata": {
        "id": "4c9d9bc5"
      },
      "source": [
        "\n",
        "# Test-Driven Design (TDD) in Python\n",
        "\n",
        "This notebook covers the following key topics in Test-Driven Design:\n",
        "- Overview of Test-Driven Design\n",
        "- Writing Tests Before Code\n",
        "- Refactoring and Writing Minimum Code to Pass Tests\n",
        "- Using `unittest` for Test-Driven Development\n"
      ]
    },
    {
      "cell_type": "markdown",
      "id": "2a6e86f3",
      "metadata": {
        "id": "2a6e86f3"
      },
      "source": [
        "## Overview of Test-Driven Design"
      ]
    },
    {
      "cell_type": "markdown",
      "id": "7b28f629",
      "metadata": {
        "id": "7b28f629"
      },
      "source": [
        "### Overview of Test-Driven Design\n",
        "\n",
        "Test-Driven Design (TDD) is a software development process where you write tests before writing the actual implementation code. The idea is to:\n",
        "1. Write a failing test.\n",
        "2. Write the minimum code needed to pass the test.\n",
        "3. Refactor the code to make it cleaner while keeping the test passing.\n",
        "\n",
        "This cycle is known as Red-Green-Refactor:\n",
        "- **Red**: Write a failing test.\n",
        "- **Green**: Write code to make the test pass.\n",
        "- **Refactor**: Clean up the code while keeping it functional.\n",
        "        "
      ]
    },
    {
      "cell_type": "markdown",
      "id": "f3f22a03",
      "metadata": {
        "id": "f3f22a03"
      },
      "source": [
        "## Writing Tests Before Code"
      ]
    },
    {
      "cell_type": "markdown",
      "id": "003bf93b",
      "metadata": {
        "id": "003bf93b"
      },
      "source": [
        "### Writing Tests Before Code\n",
        "\n",
        "In TDD, we begin by writing test cases that describe the desired functionality before implementing the actual code.\n",
        "        "
      ]
    },
    {
      "cell_type": "code",
      "execution_count": null,
      "id": "1284d4bb",
      "metadata": {
        "id": "1284d4bb"
      },
      "outputs": [],
      "source": [
        "# Example: Writing a test case before code implementation\n",
        "import unittest\n",
        "\n",
        "class CalculatorTest(unittest.TestCase):\n",
        "\n",
        "    def test_add(self):\n",
        "        result = add(2, 3)  # Function 'add' is not yet defined\n",
        "        self.assertEqual(result, 5)\n",
        "\n",
        "# If you run this test, it will fail because 'add' is not defined yet.\n"
      ]
    },
    {
      "cell_type": "markdown",
      "id": "1fcca19f",
      "metadata": {
        "id": "1fcca19f"
      },
      "source": [
        "This code illustrates the **Test-Driven Development (TDD)** approach, where you write tests **before** implementing the actual code. TDD encourages writing tests first to specify the desired behavior of your functions or classes, then writing the minimal amount of code required to make those tests pass.\n",
        "\n",
        "### Explanation of Each Part:\n",
        "\n",
        "#### 1. **Importing the `unittest` module**:\n",
        "```python\n",
        "import unittest\n",
        "```\n",
        "- The `unittest` module is a built-in Python library used to create and run tests. It provides the tools necessary to write test cases and validate that code behaves as expected.\n",
        "\n",
        "#### 2. **Creating the `CalculatorTest` class**:\n",
        "```python\n",
        "class CalculatorTest(unittest.TestCase):\n",
        "```\n",
        "- This class inherits from `unittest.TestCase`, which provides various methods (like `assertEqual`) to create test cases.\n",
        "- `CalculatorTest` will hold the tests for the functionality we want to implement.\n",
        "\n",
        "#### 3. **Writing the `test_add` method**:\n",
        "```python\n",
        "def test_add(self):\n",
        "    result = add(2, 3)  # Function 'add' is not yet defined\n",
        "    self.assertEqual(result, 5)\n",
        "```\n",
        "- **Purpose**: This is a test case to check if the `add` function works as expected.\n",
        "- **What happens**:\n",
        "   - The method `test_add` calls the `add(2, 3)` function and stores the result in the `result` variable.\n",
        "   - The method then uses `self.assertEqual(result, 5)` to check if the `result` is equal to 5.\n",
        "   - If the `add` function returns 5 when adding 2 and 3, the test will pass; otherwise, it will fail.\n",
        "\n",
        "#### 4. **Key Insight: No `add` function yet**:\n",
        "```python\n",
        "result = add(2, 3)  # Function 'add' is not yet defined\n",
        "```\n",
        "- **Intent**: This line calls the `add` function, but the function itself has not been defined anywhere in the code. This is intentional in TDD, as you write the test first before implementing the function.\n",
        "- **Outcome**: When you run this test, it will fail with a `NameError` because Python doesn’t know what `add` is yet.\n",
        "\n",
        "#### 5. **Expected Behavior: Failing Test**:\n",
        "When you run this code:\n",
        "```bash\n",
        "if __name__ == \"__main__\":\n",
        "    unittest.main()\n",
        "```\n",
        "- The test will fail with an error message like this:\n",
        "  ```bash\n",
        "  NameError: name 'add' is not defined\n",
        "  ```\n",
        "- **Reason**: The function `add()` has not been defined yet.\n",
        "\n",
        "### Purpose of This Code (TDD Concept):\n",
        "This example follows the **Test-Driven Development** cycle, which consists of three steps:\n",
        "1. **Write a test**: You write a test that defines how a function (in this case, `add`) should behave. This test describes what the function should do, without worrying about the function's actual implementation yet.\n",
        "2. **Run the test and see it fail**: Since you haven’t implemented the function yet, the test will fail. This failure confirms that the test is set up correctly and that you need to write the function to make it pass.\n",
        "3. **Write the code to pass the test**: After the test fails, you implement the `add` function and rerun the test. Once the implementation is correct, the test will pass.\n",
        "\n",
        "Here’s how you would implement the `add` function after running the initial failing test:\n",
        "\n",
        "### Step 1: Implement the `add` function:\n",
        "```python\n",
        "def add(a, b):\n",
        "    return a + b\n",
        "```\n",
        "\n",
        "### Step 2: Rerun the test:\n",
        "After adding this code, if you rerun the test, it will pass because the function `add` now returns the expected result.\n",
        "\n",
        "### The TDD Cycle:\n",
        "- **Red**: The test is written and fails because the function isn’t defined yet.\n",
        "- **Green**: You write just enough code to make the test pass.\n",
        "- **Refactor**: You refactor the code to improve it, while ensuring that the test still passes.\n",
        "\n",
        "By following this cycle, you ensure that all your code is properly tested and designed based on its intended behavior."
      ]
    },
    {
      "cell_type": "markdown",
      "id": "7093e8d8",
      "metadata": {
        "id": "7093e8d8"
      },
      "source": [
        "## Refactoring and Writing Minimum Code to Pass Tests"
      ]
    },
    {
      "cell_type": "markdown",
      "id": "0c6bbe5a",
      "metadata": {
        "id": "0c6bbe5a"
      },
      "source": [
        "### Writing Minimum Code to Pass Tests\n",
        "\n",
        "After writing a failing test, the next step is to write the minimal amount of code required to make the test pass.\n",
        "        "
      ]
    },
    {
      "cell_type": "code",
      "execution_count": null,
      "id": "3fd3b53e",
      "metadata": {
        "id": "3fd3b53e"
      },
      "outputs": [],
      "source": [
        "# Example: Writing minimal code to pass the test\n",
        "def add(a, b):\n",
        "    return a + b\n",
        "\n",
        "# Now, the previously written test will pass when run.\n"
      ]
    },
    {
      "cell_type": "markdown",
      "id": "69868b15",
      "metadata": {
        "id": "69868b15"
      },
      "source": [
        "### Explanation:\n",
        "- We implemented the `add()` function with the simplest code possible to make the test pass (Green phase).\n",
        "        "
      ]
    },
    {
      "cell_type": "markdown",
      "id": "7d6f7f85",
      "metadata": {
        "id": "7d6f7f85"
      },
      "source": [
        "## Using `unittest` for Test-Driven Development"
      ]
    },
    {
      "cell_type": "markdown",
      "id": "de7a7c57",
      "metadata": {
        "id": "de7a7c57"
      },
      "source": [
        "### Using `unittest` for Test-Driven Development\n",
        "\n",
        "Python’s built-in `unittest` module is commonly used for TDD. It allows you to write test cases, group them in test suites, and run them efficiently.\n",
        "        "
      ]
    },
    {
      "cell_type": "code",
      "execution_count": null,
      "id": "ab8c1897",
      "metadata": {
        "colab": {
          "base_uri": "https://localhost:8080/"
        },
        "id": "ab8c1897",
        "outputId": "01dea54f-9367-404a-a8db-30ff1cbd285e"
      },
      "outputs": [
        {
          "output_type": "stream",
          "name": "stderr",
          "text": [
            "..\n",
            "----------------------------------------------------------------------\n",
            "Ran 2 tests in 0.007s\n",
            "\n",
            "OK\n"
          ]
        }
      ],
      "source": [
        "# Example: Implementing the add and subtract functions\n",
        "def add(a, b):\n",
        "    return a + b\n",
        "\n",
        "def subtract(a, b):\n",
        "    return a - b\n",
        "\n",
        "# Example: Using unittest for multiple tests\n",
        "import unittest\n",
        "\n",
        "class CalculatorTest(unittest.TestCase):\n",
        "\n",
        "    def test_add(self):\n",
        "        result = add(2, 3)\n",
        "        self.assertEqual(result, 5)\n",
        "\n",
        "    def test_subtract(self):\n",
        "        result = subtract(5, 3)\n",
        "        self.assertEqual(result, 2)\n",
        "\n",
        "# Run the tests in a Jupyter notebook or Colab environment\n",
        "if __name__ == \"__main__\":\n",
        "    unittest.main(argv=['first-arg-is-ignored'], exit=False)\n"
      ]
    },
    {
      "cell_type": "markdown",
      "id": "3868ca4b",
      "metadata": {
        "id": "3868ca4b"
      },
      "source": [
        "This code provides an example of using **Python's `unittest` module** to test two simple mathematical functions: `add` and `subtract`. The code demonstrates how to define unit tests to verify the correctness of these functions.\n",
        "\n",
        "### Explanation of Each Part:\n",
        "\n",
        "#### 1. **Defining the `add` and `subtract` functions**:\n",
        "```python\n",
        "def add(a, b):\n",
        "    return a + b\n",
        "\n",
        "def subtract(a, b):\n",
        "    return a - b\n",
        "```\n",
        "- The `add()` function takes two arguments, `a` and `b`, and returns their sum.\n",
        "- The `subtract()` function takes two arguments, `a` and `b`, and returns the result of subtracting `b` from `a`.\n",
        "\n",
        "#### 2. **Importing the `unittest` module**:\n",
        "```python\n",
        "import unittest\n",
        "```\n",
        "- `unittest` is a built-in Python module used for writing and running tests. It allows you to define test cases that ensure your code behaves as expected.\n",
        "\n",
        "#### 3. **Creating a `CalculatorTest` class**:\n",
        "```python\n",
        "class CalculatorTest(unittest.TestCase):\n",
        "```\n",
        "- `CalculatorTest` is a class that inherits from `unittest.TestCase`. This class will contain the test methods for the `add` and `subtract` functions.\n",
        "- By inheriting from `unittest.TestCase`, `CalculatorTest` gains access to various assertion methods (like `assertEqual`) that help verify expected results.\n",
        "\n",
        "#### 4. **Defining the `test_add` method**:\n",
        "```python\n",
        "def test_add(self):\n",
        "    result = add(2, 3)\n",
        "    self.assertEqual(result, 5)\n",
        "```\n",
        "- This method tests the `add()` function.\n",
        "- It calls `add(2, 3)` and stores the result in the `result` variable.\n",
        "- `self.assertEqual(result, 5)` checks whether the `result` is equal to `5`. If it is, the test passes; otherwise, it fails.\n",
        "\n",
        "#### 5. **Defining the `test_subtract` method**:\n",
        "```python\n",
        "def test_subtract(self):\n",
        "    result = subtract(5, 3)\n",
        "    self.assertEqual(result, 2)\n",
        "```\n",
        "- This method tests the `subtract()` function.\n",
        "- It calls `subtract(5, 3)` and stores the result in the `result` variable.\n",
        "- `self.assertEqual(result, 2)` checks whether the `result` is equal to `2`. If it is, the test passes; otherwise, it fails.\n",
        "\n",
        "#### 6. **Running the tests in a Jupyter notebook or Colab environment**:\n",
        "```python\n",
        "if __name__ == \"__main__\":\n",
        "    unittest.main(argv=['first-arg-is-ignored'], exit=False)\n",
        "```\n",
        "- This block runs the tests if the script is executed directly (in a typical Python environment).\n",
        "- `unittest.main()` is the main test runner method from the `unittest` module. It automatically finds all test methods (those that start with `test_`) in the `CalculatorTest` class and runs them.\n",
        "- The `argv=['first-arg-is-ignored']` part is necessary in a Jupyter notebook or Google Colab environment to prevent the notebook’s argument parsing from interfering with `unittest`.\n",
        "- `exit=False` is used to prevent Jupyter or Colab from shutting down after the tests run (which is the default behavior for Python scripts run from the command line).\n",
        "\n",
        "### How the Tests Work:\n",
        "1. When the script is run, the `unittest.main()` function:\n",
        "   - Discovers all methods in `CalculatorTest` that start with `test_`.\n",
        "   - Runs `test_add()` and checks if `add(2, 3)` returns 5.\n",
        "   - Runs `test_subtract()` and checks if `subtract(5, 3)` returns 2.\n",
        "2. If both checks (assertions) pass, the tests are successful. If any assertion fails, it will raise an error, indicating which test failed and why.\n",
        "\n",
        "### Running in Jupyter Notebook:\n",
        "- In a Jupyter notebook, you can run this script as-is, and the tests will execute with the results printed in the notebook cell output, without causing the notebook kernel to shut down.\n",
        "\n",
        "This example demonstrates the basic structure for writing unit tests in Python using `unittest`. The `CalculatorTest` class encapsulates the test logic for the `add` and `subtract` functions. You can expand this by adding more functions and tests as needed."
      ]
    },
    {
      "cell_type": "code",
      "source": [],
      "metadata": {
        "id": "rTWtxUesDP1c"
      },
      "id": "rTWtxUesDP1c",
      "execution_count": null,
      "outputs": []
    }
  ],
  "metadata": {
    "colab": {
      "provenance": []
    },
    "language_info": {
      "name": "python"
    },
    "kernelspec": {
      "name": "python3",
      "display_name": "Python 3"
    }
  },
  "nbformat": 4,
  "nbformat_minor": 5
}