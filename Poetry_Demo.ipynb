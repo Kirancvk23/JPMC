{
 "cells": [
  {
   "cell_type": "markdown",
   "id": "b545b97c",
   "metadata": {},
   "source": [
    "# Poetry Demo: From Start to Finish"
   ]
  },
  {
   "cell_type": "markdown",
   "id": "4872c509",
   "metadata": {},
   "source": [
    "\n",
    "In this demo, we will explore how to use Poetry for managing a Python project from start to finish. This includes initializing a project, adding dependencies, managing environments, and publishing the project.\n",
    "\n",
    "## Steps:\n",
    "1. **Install Poetry**\n",
    "2. **Create a new Python project**\n",
    "3. **Add dependencies**\n",
    "4. **Install dependencies**\n",
    "5. **Work inside the virtual environment**\n",
    "6. **Build the project**\n",
    "7. **Publish the project (optional)**\n",
    "\n",
    "### Prerequisites\n",
    "- Poetry must be installed on your machine. If not installed, use the following command to install it:\n",
    "```bash\n",
    "# Unix/Linux/macOS\n",
    "curl -sSL https://install.python-poetry.org | python3 -\n",
    "\n",
    "# Windows\n",
    "(Invoke-WebRequest -Uri https://install.python-poetry.org -UseBasicParsing).Content | python -\n",
    "```\n"
   ]
  },
  {
   "cell_type": "code",
   "execution_count": null,
   "id": "a14454b6",
   "metadata": {},
   "outputs": [],
   "source": [
    "\n",
    "# Step 1: Initialize a new project\n",
    "# Open a terminal and run the following command to create a new Python project with Poetry.\n",
    "\n",
    "!poetry new poetry_demo_project\n",
    "\n",
    "# This will create a new directory 'poetry_demo_project' with the basic structure.\n"
   ]
  },
  {
   "cell_type": "markdown",
   "id": "553c09e3",
   "metadata": {},
   "source": [
    "\n",
    "## Step 2: Adding Dependencies\n",
    "We will add some dependencies to the project, such as `requests` for making HTTP requests.\n",
    "\n",
    "To add a dependency, navigate to your project directory and use:\n",
    "```bash\n",
    "poetry add requests\n",
    "```\n",
    "\n",
    "You can also add development dependencies (e.g., `pytest` for testing) using the `--dev` flag:\n",
    "```bash\n",
    "poetry add --dev pytest\n",
    "```\n"
   ]
  },
  {
   "cell_type": "code",
   "execution_count": null,
   "id": "80d0c544",
   "metadata": {},
   "outputs": [],
   "source": [
    "\n",
    "# Step 2: Add dependencies (inside the project folder)\n",
    "!cd poetry_demo_project && poetry add requests\n",
    "!cd poetry_demo_project && poetry add --dev pytest\n"
   ]
  },
  {
   "cell_type": "markdown",
   "id": "aaaf4132",
   "metadata": {},
   "source": [
    "\n",
    "## Step 3: Installing Dependencies\n",
    "After adding dependencies, you can install them using the `poetry install` command:\n",
    "```bash\n",
    "poetry install\n",
    "```\n",
    "This will install all the dependencies defined in your `pyproject.toml` file and create a virtual environment.\n"
   ]
  },
  {
   "cell_type": "code",
   "execution_count": null,
   "id": "0bb81f8d",
   "metadata": {},
   "outputs": [],
   "source": [
    "\n",
    "# Step 3: Install all dependencies\n",
    "!cd poetry_demo_project && poetry install\n"
   ]
  },
  {
   "cell_type": "markdown",
   "id": "96e13718",
   "metadata": {},
   "source": [
    "\n",
    "## Step 4: Working Inside the Virtual Environment\n",
    "Poetry automatically creates and manages a virtual environment for your project. To activate this virtual environment, use:\n",
    "```bash\n",
    "poetry shell\n",
    "```\n",
    "This will activate the environment, and you can now run Python code inside it. Exit the environment by typing `exit`.\n"
   ]
  },
  {
   "cell_type": "markdown",
   "id": "024bf681",
   "metadata": {},
   "source": [
    "\n",
    "## Step 5: Building the Project\n",
    "Once your project is complete, you can build it into a distributable package using:\n",
    "```bash\n",
    "poetry build\n",
    "```\n",
    "This command will create both a source distribution (tarball) and a wheel file in the `dist/` directory.\n"
   ]
  },
  {
   "cell_type": "code",
   "execution_count": null,
   "id": "e1068341",
   "metadata": {},
   "outputs": [],
   "source": [
    "\n",
    "# Step 5: Build the project\n",
    "!cd poetry_demo_project && poetry build\n"
   ]
  },
  {
   "cell_type": "markdown",
   "id": "da8e8b1f",
   "metadata": {},
   "source": [
    "\n",
    "## Step 6: Publishing the Project (Optional)\n",
    "If you wish to publish your package to [PyPI](https://pypi.org/), use the following command:\n",
    "```bash\n",
    "poetry publish\n",
    "```\n",
    "You will need to configure your PyPI credentials first.\n"
   ]
  }
 ],
 "metadata": {},
 "nbformat": 4,
 "nbformat_minor": 5
}
