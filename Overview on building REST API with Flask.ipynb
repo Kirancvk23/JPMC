{
 "cells": [
  {
   "cell_type": "markdown",
   "id": "dd916a75-ac34-47ba-b7e0-beb1db17a8ab",
   "metadata": {},
   "source": [
    "# Step 1: Install Flask and Flask-RESTful\n",
    "You need to install Flask and Flask-RESTful libraries to work with the example. Run this in a Jupyter notebook cell:"
   ]
  },
  {
   "cell_type": "code",
   "execution_count": 1,
   "id": "3322a5fc-66d0-4d8e-965e-7d2719e68cb7",
   "metadata": {},
   "outputs": [
    {
     "name": "stdout",
     "output_type": "stream",
     "text": [
      "Defaulting to user installation because normal site-packages is not writeable\n",
      "Requirement already satisfied: Flask in c:\\programdata\\anaconda3\\lib\\site-packages (3.0.3)\n",
      "Collecting Flask-RESTful\n",
      "  Downloading Flask_RESTful-0.3.10-py2.py3-none-any.whl.metadata (1.0 kB)\n",
      "Requirement already satisfied: Werkzeug>=3.0.0 in c:\\programdata\\anaconda3\\lib\\site-packages (from Flask) (3.0.3)\n",
      "Requirement already satisfied: Jinja2>=3.1.2 in c:\\programdata\\anaconda3\\lib\\site-packages (from Flask) (3.1.4)\n",
      "Requirement already satisfied: itsdangerous>=2.1.2 in c:\\programdata\\anaconda3\\lib\\site-packages (from Flask) (2.2.0)\n",
      "Requirement already satisfied: click>=8.1.3 in c:\\programdata\\anaconda3\\lib\\site-packages (from Flask) (8.1.7)\n",
      "Requirement already satisfied: blinker>=1.6.2 in c:\\programdata\\anaconda3\\lib\\site-packages (from Flask) (1.6.2)\n",
      "Collecting aniso8601>=0.82 (from Flask-RESTful)\n",
      "  Downloading aniso8601-9.0.1-py2.py3-none-any.whl.metadata (23 kB)\n",
      "Requirement already satisfied: six>=1.3.0 in c:\\programdata\\anaconda3\\lib\\site-packages (from Flask-RESTful) (1.16.0)\n",
      "Requirement already satisfied: pytz in c:\\programdata\\anaconda3\\lib\\site-packages (from Flask-RESTful) (2024.1)\n",
      "Requirement already satisfied: colorama in c:\\programdata\\anaconda3\\lib\\site-packages (from click>=8.1.3->Flask) (0.4.6)\n",
      "Requirement already satisfied: MarkupSafe>=2.0 in c:\\programdata\\anaconda3\\lib\\site-packages (from Jinja2>=3.1.2->Flask) (2.1.3)\n",
      "Downloading Flask_RESTful-0.3.10-py2.py3-none-any.whl (26 kB)\n",
      "Downloading aniso8601-9.0.1-py2.py3-none-any.whl (52 kB)\n",
      "   ---------------------------------------- 0.0/52.8 kB ? eta -:--:--\n",
      "   ---------------------------------------- 52.8/52.8 kB 2.8 MB/s eta 0:00:00\n",
      "Installing collected packages: aniso8601, Flask-RESTful\n",
      "Successfully installed Flask-RESTful-0.3.10 aniso8601-9.0.1\n"
     ]
    }
   ],
   "source": [
    "!pip install Flask Flask-RESTful\n"
   ]
  },
  {
   "cell_type": "markdown",
   "id": "6bcb4d44-189c-420c-80a0-84da93b2d3f4",
   "metadata": {},
   "source": [
    "# Step 2: Code for Building a Simple REST API\n",
    "You can create a basic REST API that serves data using Flask. Since Jupyter Notebooks run interactively, Flask needs to be run in the background. Here’s how you can define a simple REST API for managing a list of books:"
   ]
  },
  {
   "cell_type": "code",
   "execution_count": 5,
   "id": "fa4e361b-947f-419b-ac2a-a5fe3d4cfbbf",
   "metadata": {},
   "outputs": [],
   "source": [
    "from flask import Flask, jsonify, request\n",
    "from flask_restful import Api, Resource\n",
    "from threading import Thread\n",
    "\n",
    "# Create a Flask app and initialize the Flask-RESTful API\n",
    "app = Flask(__name__)\n",
    "api = Api(app)\n",
    "\n",
    "# Dummy data for demonstration: A list of books\n",
    "books = [\n",
    "    {\"id\": 1, \"title\": \"1984\", \"author\": \"George Orwell\"},\n",
    "    {\"id\": 2, \"title\": \"Brave New World\", \"author\": \"Aldous Huxley\"},\n",
    "    {\"id\": 3, \"title\": \"Fahrenheit 451\", \"author\": \"Ray Bradbury\"}\n",
    "]\n",
    "\n",
    "# Define a resource for handling books\n",
    "class Book(Resource):\n",
    "    def get(self, book_id=None):\n",
    "        # If no book_id is provided, return the entire book list\n",
    "        if book_id is None:\n",
    "            return jsonify(books)\n",
    "        \n",
    "        # If a book_id is provided, return that book if it exists\n",
    "        for book in books:\n",
    "            if book[\"id\"] == book_id:\n",
    "                return jsonify(book)\n",
    "        \n",
    "        return {\"message\": \"Book not found\"}, 404\n",
    "    \n",
    "    def post(self):\n",
    "        # Get new book details from the request\n",
    "        new_book = request.get_json()\n",
    "        books.append(new_book)\n",
    "        return jsonify(new_book), 201\n",
    "    \n",
    "    def delete(self, book_id):\n",
    "        # Delete a book with the given id\n",
    "        global books\n",
    "        books = [book for book in books if book[\"id\"] != book_id]\n",
    "        return {\"message\": \"Book deleted\"}, 200\n",
    "\n",
    "# Add the resource to the API, accessible at /books and /books/<book_id>\n",
    "api.add_resource(Book, '/books', '/books/<int:book_id>')\n",
    "\n",
    "# Function to run the Flask app in the background\n",
    "def run_flask():\n",
    "    app.run(port=5000)\n",
    "\n",
    "# Start Flask in a separate thread to allow Jupyter Notebook to keep running\n",
    "Thread(target=run_flask).start()\n"
   ]
  },
  {
   "cell_type": "markdown",
   "id": "a8b61747-f1c2-4b19-b68d-ce082c3f704f",
   "metadata": {},
   "source": [
    "This code sets up a simple RESTful API using **Flask** and **Flask-RESTful**. Here's a breakdown of the code and what it does:\n",
    "\n",
    "### 1. **Importing necessary libraries:**\n",
    "   - `Flask`: The core library for creating web applications in Python.\n",
    "   - `jsonify`: A helper function to return JSON responses.\n",
    "   - `request`: To access incoming HTTP request data (for example, when sending data in POST requests).\n",
    "   - `Api` and `Resource`: Components of Flask-RESTful, which helps structure the API resources in an organized way.\n",
    "   - `Thread`: From Python's `threading` module, used to run the Flask app in a separate thread, so that it can run in the background (useful for running in a Jupyter Notebook, for example).\n",
    "\n",
    "### 2. **Creating the Flask app and API instance:**\n",
    "   ```python\n",
    "   app = Flask(__name__)\n",
    "   api = Api(app)\n",
    "   ```\n",
    "   This initializes a Flask app and binds the Flask-RESTful `Api` to it. The `Api` instance allows easy creation of RESTful routes and resources.\n",
    "\n",
    "### 3. **Dummy data (List of books):**\n",
    "   ```python\n",
    "   books = [\n",
    "       {\"id\": 1, \"title\": \"1984\", \"author\": \"George Orwell\"},\n",
    "       {\"id\": 2, \"title\": \"Brave New World\", \"author\": \"Aldous Huxley\"},\n",
    "       {\"id\": 3, \"title\": \"Fahrenheit 451\", \"author\": \"Ray Bradbury\"}\n",
    "   ]\n",
    "   ```\n",
    "   This is a list of dictionaries representing a set of books with `id`, `title`, and `author`. This data serves as the backend storage for books.\n",
    "\n",
    "### 4. **Defining the `Book` resource:**\n",
    "   The `Book` class is a RESTful resource that defines the behavior for GET, POST, and DELETE requests.\n",
    "\n",
    "   - **GET request:**\n",
    "     ```python\n",
    "     def get(self, book_id=None):\n",
    "     ```\n",
    "     - If no `book_id` is provided, it returns the entire list of books.\n",
    "     - If a specific `book_id` is provided, it searches for the corresponding book and returns it. If the book isn't found, it returns a 404 error with a \"Book not found\" message.\n",
    "\n",
    "   - **POST request:**\n",
    "     ```python\n",
    "     def post(self):\n",
    "     ```\n",
    "     - It reads JSON data from the request body and appends the new book to the `books` list, then returns the newly added book with a 201 status code.\n",
    "\n",
    "   - **DELETE request:**\n",
    "     ```python\n",
    "     def delete(self, book_id):\n",
    "     ```\n",
    "     - It searches for a book by `book_id` and removes it from the `books` list. If found and deleted, it returns a success message. Otherwise, it would still return 200 if the book doesn't exist (this logic could be expanded).\n",
    "\n",
    "### 5. **Adding the `Book` resource to the API:**\n",
    "   ```python\n",
    "   api.add_resource(Book, '/books', '/books/<int:book_id>')\n",
    "   ```\n",
    "   This binds the `Book` resource to two endpoints:\n",
    "   - `/books`: Handles requests that work on the entire book collection (e.g., GET all books or POST a new book).\n",
    "   - `/books/<int:book_id>`: Handles requests that work on specific books by `book_id` (e.g., GET or DELETE a single book).\n",
    "\n",
    "### 6. **Running the Flask app in a separate thread:**\n",
    "   ```python\n",
    "   def run_flask():\n",
    "       app.run(port=5000)\n",
    "\n",
    "   Thread(target=run_flask).start()\n",
    "   ```\n",
    "   This function starts the Flask app on port 5000, but instead of blocking the main thread (which is a problem if you are running this code in a Jupyter notebook or an environment that needs to stay interactive), it runs the Flask app in a background thread using Python's `Thread`. This allows the web server to run while other code can continue executing in the notebook or environment.\n",
    "\n",
    "---\n",
    "\n",
    "### **Summary of API Operations:**\n",
    "- **GET /books**: Retrieve all books.\n",
    "- **GET /books/<book_id>**: Retrieve a specific book by its `book_id`.\n",
    "- **POST /books**: Add a new book to the list. The new book data must be sent as JSON.\n",
    "- **DELETE /books/<book_id>**: Remove a specific book from the list by its `book_id`.\n",
    "\n",
    "This API is a simple demonstration of how Flask-RESTful can be used to create a REST API, handling basic CRUD operations for a list of books."
   ]
  },
  {
   "cell_type": "markdown",
   "id": "f957e316-d7b0-48c5-8237-74606132f63a",
   "metadata": {},
   "source": [
    "# Step 3: Testing the REST API Endpoints\n",
    "Now that the Flask API is running in the background, you can test the API endpoints using Python's requests library. Below are some examples for testing the REST API:\n",
    "\n",
    "## 1. Get All Books (GET /books)"
   ]
  },
  {
   "cell_type": "code",
   "execution_count": 8,
   "id": "d2ea6f30-42ba-4d07-b506-11636e6b05de",
   "metadata": {},
   "outputs": [
    {
     "name": "stderr",
     "output_type": "stream",
     "text": [
      "127.0.0.1 - - [24/Oct/2024 22:06:22] \"GET /books HTTP/1.1\" 200 -\n"
     ]
    },
    {
     "name": "stdout",
     "output_type": "stream",
     "text": [
      "[{'author': 'George Orwell', 'id': 1, 'title': '1984'}, {'author': 'Aldous Huxley', 'id': 2, 'title': 'Brave New World'}, {'author': 'Ray Bradbury', 'id': 3, 'title': 'Fahrenheit 451'}]\n"
     ]
    }
   ],
   "source": [
    "import requests\n",
    "\n",
    "# Fetch the list of all books\n",
    "response = requests.get('http://127.0.0.1:5000/books')\n",
    "print(response.json())\n"
   ]
  },
  {
   "cell_type": "markdown",
   "id": "9ba16903-32d1-4607-b856-4d19372c5ef6",
   "metadata": {},
   "source": [
    "This code uses the `requests` library in Python to interact with a REST API (specifically, the API you created in the previous Flask example). Here’s an explanation of what each part of the code does:\n",
    "\n",
    "### 1. **Importing the `requests` library:**\n",
    "   ```python\n",
    "   import requests\n",
    "   ```\n",
    "   - The `requests` library is a powerful Python package used to send HTTP requests and interact with web servers. It makes it easy to perform various types of requests like GET, POST, PUT, DELETE, etc.\n",
    "\n",
    "### 2. **Sending a GET request to fetch the list of all books:**\n",
    "   ```python\n",
    "   response = requests.get('http://127.0.0.1:5000/books')\n",
    "   ```\n",
    "   - **`requests.get`**: This function sends a **GET** request to the specified URL, which in this case is `http://127.0.0.1:5000/books`. This URL points to the local instance of the Flask application that serves the list of books.\n",
    "   \n",
    "   - The GET request is targeting the `/books` endpoint, which is defined in your Flask application to return all the books in JSON format.\n",
    "\n",
    "   - **`http://127.0.0.1:5000`**: This is the URL of the locally running Flask server. `127.0.0.1` refers to the local machine (localhost), and `5000` is the port number where the Flask app is running.\n",
    "   \n",
    "   - The response from this request is stored in the `response` variable. This `response` object contains various attributes, including the status code of the HTTP request, response headers, and the actual content (data) returned by the API.\n",
    "\n",
    "### 3. **Printing the JSON response:**\n",
    "   ```python\n",
    "   print(response.json())\n",
    "   ```\n",
    "   - **`response.json()`**: This method converts the response content (which is in JSON format) into a Python dictionary or list, depending on the structure of the JSON.\n",
    "   \n",
    "   - Since the `/books` endpoint returns a list of books, this will be converted into a Python list of dictionaries (each dictionary representing a book).\n",
    "   \n",
    "   - **`print(response.json())`**: This prints the parsed JSON data, which should be the list of books (as defined in the Flask application).\n",
    "\n",
    "### Expected Output:\n",
    "Assuming the Flask API from the earlier example is running and has the dummy data of books, the output would be something like:\n",
    "```python\n",
    "[\n",
    "    {\"id\": 1, \"title\": \"1984\", \"author\": \"George Orwell\"},\n",
    "    {\"id\": 2, \"title\": \"Brave New World\", \"author\": \"Aldous Huxley\"},\n",
    "    {\"id\": 3, \"title\": \"Fahrenheit 451\", \"author\": \"Ray Bradbury\"}\n",
    "]\n",
    "```\n",
    "\n",
    "This code fetches the data from the running Flask API and prints it in a readable JSON format."
   ]
  },
  {
   "cell_type": "markdown",
   "id": "5b1a1ba7-6403-4914-ab86-43dc4f6be61b",
   "metadata": {},
   "source": [
    "## 2. Get a Single Book by ID (GET /books/<id>)"
   ]
  },
  {
   "cell_type": "code",
   "execution_count": 11,
   "id": "487b8e2d-7488-4762-82e9-3a7bddc405f3",
   "metadata": {},
   "outputs": [
    {
     "name": "stderr",
     "output_type": "stream",
     "text": [
      "127.0.0.1 - - [24/Oct/2024 22:06:56] \"GET /books/1 HTTP/1.1\" 200 -\n"
     ]
    },
    {
     "name": "stdout",
     "output_type": "stream",
     "text": [
      "{'author': 'George Orwell', 'id': 1, 'title': '1984'}\n"
     ]
    }
   ],
   "source": [
    "# Fetch a single book by its ID\n",
    "book_id = 1\n",
    "response = requests.get(f'http://127.0.0.1:5000/books/{book_id}')\n",
    "print(response.json())\n"
   ]
  },
  {
   "cell_type": "code",
   "execution_count": 39,
   "id": "04b9ac8f-4f2c-417c-aa77-a3523f496428",
   "metadata": {},
   "outputs": [
    {
     "ename": "SyntaxError",
     "evalue": "unterminated string literal (detected at line 8) (3961017179.py, line 8)",
     "output_type": "error",
     "traceback": [
      "\u001b[1;36m  Cell \u001b[1;32mIn[39], line 8\u001b[1;36m\u001b[0m\n\u001b[1;33m    - This defines the ID of the book you want to fetch from the API. In this case, it's `1`.\u001b[0m\n\u001b[1;37m                                                                                      ^\u001b[0m\n\u001b[1;31mSyntaxError\u001b[0m\u001b[1;31m:\u001b[0m unterminated string literal (detected at line 8)\n"
     ]
    }
   ],
   "source": [
    "This code fetches a single book by its `book_id` from the Flask API and prints the result in JSON format.\n",
    "\n",
    "### Breakdown:\n",
    "1. **Setting the `book_id`:**\n",
    "   ```python\n",
    "   book_id = 1\n",
    "   ```\n",
    "   - This defines the ID of the book you want to fetch from the API. In this case, it's `1`.\n",
    "\n",
    "2. **Sending a GET request:**\n",
    "   ```python\n",
    "   response = requests.get(f'http://127.0.0.1:5000/books/{book_id}')\n",
    "   ```\n",
    "   - This sends a **GET** request to the endpoint `/books/<book_id>` of the locally running Flask server (`http://127.0.0.1:5000`).\n",
    "   - The `f` in front of the string allows string interpolation, inserting `book_id` directly into the URL.\n",
    "\n",
    "3. **Printing the JSON response:**\n",
    "   ```python\n",
    "   print(response.json())\n",
    "   ```\n",
    "   - This retrieves and prints the JSON data returned by the API, which contains the details of the book with the specified `book_id`.\n",
    "\n",
    "### Expected Output (if `book_id = 1`):\n",
    "```python\n",
    "{\"id\": 1, \"title\": \"1984\", \"author\": \"George Orwell\"}\n",
    "```\n",
    "\n",
    "In summary, this code retrieves a specific book by its ID and prints the details in JSON format."
   ]
  },
  {
   "cell_type": "markdown",
   "id": "917e99ac-9d33-4652-8edd-0656104a5339",
   "metadata": {},
   "source": [
    "## 3. Delete a Book (DELETE /books/<id>)"
   ]
  },
  {
   "cell_type": "code",
   "execution_count": 30,
   "id": "14ea748d-0936-4e0e-b635-81ebe1c22e2f",
   "metadata": {},
   "outputs": [
    {
     "name": "stderr",
     "output_type": "stream",
     "text": [
      "127.0.0.1 - - [24/Oct/2024 22:10:41] \"DELETE /books/2 HTTP/1.1\" 200 -\n"
     ]
    },
    {
     "name": "stdout",
     "output_type": "stream",
     "text": [
      "{'message': 'Book deleted'}\n"
     ]
    }
   ],
   "source": [
    "# Delete a book by its ID\n",
    "book_id = 2\n",
    "response = requests.delete(f'http://127.0.0.1:5000/books/{book_id}')\n",
    "print(response.json())\n"
   ]
  },
  {
   "cell_type": "markdown",
   "id": "97641dfc-f37e-4ae7-9b6b-e3d79b4a735c",
   "metadata": {},
   "source": [
    "This code sends a **DELETE** request to remove a book by its `book_id` from the Flask API and prints the response in JSON format.\n",
    "\n",
    "### Breakdown:\n",
    "1. **Setting the `book_id`:**\n",
    "   ```python\n",
    "   book_id = 2\n",
    "   ```\n",
    "   - Defines the ID of the book you want to delete. Here, it’s `2`.\n",
    "\n",
    "2. **Sending a DELETE request:**\n",
    "   ```python\n",
    "   response = requests.delete(f'http://127.0.0.1:5000/books/{book_id}')\n",
    "   ```\n",
    "   - Sends a **DELETE** request to the `/books/<book_id>` endpoint on the local Flask server (`http://127.0.0.1:5000`).\n",
    "   - The `f` allows string interpolation to include the `book_id` in the URL.\n",
    "\n",
    "3. **Printing the JSON response:**\n",
    "   ```python\n",
    "   print(response.json())\n",
    "   ```\n",
    "   - Retrieves and prints the server’s response, typically a confirmation message like `\"Book deleted\"`.\n",
    "\n",
    "### Expected Output (if the deletion is successful):\n",
    "```python\n",
    "{\"message\": \"Book deleted\"}\n",
    "```\n",
    "\n",
    "In summary, this code deletes a specific book by its ID and prints the server’s confirmation in JSON format."
   ]
  },
  {
   "cell_type": "code",
   "execution_count": null,
   "id": "2682c494-4aee-4877-a9c0-f0ab54dd000c",
   "metadata": {},
   "outputs": [],
   "source": []
  }
 ],
 "metadata": {
  "kernelspec": {
   "display_name": "Python 3 (ipykernel)",
   "language": "python",
   "name": "python3"
  },
  "language_info": {
   "codemirror_mode": {
    "name": "ipython",
    "version": 3
   },
   "file_extension": ".py",
   "mimetype": "text/x-python",
   "name": "python",
   "nbconvert_exporter": "python",
   "pygments_lexer": "ipython3",
   "version": "3.12.4"
  }
 },
 "nbformat": 4,
 "nbformat_minor": 5
}
