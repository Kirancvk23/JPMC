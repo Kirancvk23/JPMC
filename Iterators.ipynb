{
 "cells": [
  {
   "cell_type": "markdown",
   "id": "e569001b-6482-474a-aa19-6ef38e121de8",
   "metadata": {},
   "source": [
    "# Python Iterators\n",
    "An iterator in Python is an object that allows you to traverse (or iterate over) all the elements of a collection (such as a list, tuple, dictionary, or set) without needing to use indexing. It provides a way to access elements one at a time.\n",
    "\n",
    "## Iterators implement two key methods:\n",
    "\n",
    "__iter__(): This method returns the iterator object itself.\n",
    "__next__(): This method returns the next value from the iterator. If there are no more items to return, it raises the StopIteration exception.\n",
    "How Iterators Work\n",
    "An iterator keeps track of its current position and can traverse a collection until all elements are exhausted. Once exhausted, the iterator does not restart but instead raises the StopIteration exception.\n",
    "\n",
    "## Iterable vs Iterator:\n",
    "Iterable: An object that can return an iterator (via the __iter__() method). For example, lists, tuples, sets, and dictionaries are all iterables.\n",
    "Iterator: An object that implements the __next__() method and keeps track of where it is in a sequence.\n",
    "Creating an Iterator from an Iterable\n",
    "You can turn any iterable object (like a list) into an iterator using the iter() function and retrieve elements using the next() function.\n",
    "\n",
    "### Example:"
   ]
  },
  {
   "cell_type": "code",
   "execution_count": 4,
   "id": "0b9cb0ce-3a1d-4805-92b5-fed53586ae9c",
   "metadata": {},
   "outputs": [
    {
     "name": "stdout",
     "output_type": "stream",
     "text": [
      "1\n",
      "2\n",
      "3\n",
      "4\n"
     ]
    },
    {
     "ename": "StopIteration",
     "evalue": "",
     "output_type": "error",
     "traceback": [
      "\u001b[1;31m---------------------------------------------------------------------------\u001b[0m",
      "\u001b[1;31mStopIteration\u001b[0m                             Traceback (most recent call last)",
      "Cell \u001b[1;32mIn[4], line 12\u001b[0m\n\u001b[0;32m     10\u001b[0m \u001b[38;5;28mprint\u001b[39m(\u001b[38;5;28mnext\u001b[39m(my_iter))  \u001b[38;5;66;03m# Output: 3\u001b[39;00m\n\u001b[0;32m     11\u001b[0m \u001b[38;5;28mprint\u001b[39m(\u001b[38;5;28mnext\u001b[39m(my_iter))  \u001b[38;5;66;03m# Output: 4\u001b[39;00m\n\u001b[1;32m---> 12\u001b[0m \u001b[38;5;28mprint\u001b[39m(\u001b[38;5;28mnext\u001b[39m(my_iter))\n",
      "\u001b[1;31mStopIteration\u001b[0m: "
     ]
    }
   ],
   "source": [
    "# List is an iterable\n",
    "my_list = [1, 2, 3, 4]\n",
    "\n",
    "# Create an iterator object from the iterable\n",
    "my_iter = iter(my_list)\n",
    "\n",
    "# Use the next() function to get items from the iterator\n",
    "print(next(my_iter))  # Output: 1\n",
    "print(next(my_iter))  # Output: 2\n",
    "print(next(my_iter))  # Output: 3\n",
    "print(next(my_iter))  # Output: 4\n",
    "print(next(my_iter))  # Raises StopIteration\n"
   ]
  },
  {
   "cell_type": "code",
   "execution_count": null,
   "id": "e1f89dee-f64f-4774-82a2-4232265f5212",
   "metadata": {},
   "outputs": [],
   "source": []
  },
  {
   "cell_type": "markdown",
   "id": "a08bbb96-b228-4dc8-bf65-f452f67595c4",
   "metadata": {},
   "source": [
    "In the example above:\n",
    "\n",
    "my_list is an iterable.\n",
    "\n",
    "iter(my_list) returns an iterator.\n",
    "\n",
    "next(my_iter) retrieves the next element from the iterator until there are no more elements."
   ]
  },
  {
   "cell_type": "markdown",
   "id": "da45037a-b65e-4573-96a1-95fff5922b02",
   "metadata": {},
   "source": [
    "## Custom Iterators\n",
    "You can create custom iterator objects by implementing the __iter__() and __next__() methods in a class.\n",
    "\n",
    "### Example: Custom Iterator\n",
    "Here’s an example of a custom iterator that returns numbers up to a specified limit."
   ]
  },
  {
   "cell_type": "code",
   "execution_count": 1,
   "id": "f68d4eed-8f45-44fa-94c6-b4e496c38f76",
   "metadata": {},
   "outputs": [
    {
     "name": "stdout",
     "output_type": "stream",
     "text": [
      "0\n",
      "1\n",
      "2\n",
      "3\n",
      "4\n"
     ]
    }
   ],
   "source": [
    "class MyIterator:\n",
    "    def __init__(self, limit):\n",
    "        self.limit = limit\n",
    "        self.current = 0\n",
    "\n",
    "    def __iter__(self):\n",
    "        return self\n",
    "\n",
    "    def __next__(self):\n",
    "        if self.current < self.limit:\n",
    "            self.current += 1\n",
    "            return self.current - 1\n",
    "        else:\n",
    "            raise StopIteration\n",
    "\n",
    "# Create an instance of the iterator\n",
    "my_iter = MyIterator(5)\n",
    "\n",
    "# Use the iterator in a loop\n",
    "for num in my_iter:\n",
    "    print(num)\n"
   ]
  },
  {
   "cell_type": "markdown",
   "id": "fa172ab2-b711-4d60-8728-62c139a5430d",
   "metadata": {},
   "source": [
    "This code defines a custom iterator class `MyIterator` and demonstrates how to use it in a loop to iterate over a sequence of numbers. Here’s a step-by-step breakdown:\n",
    "\n",
    "### **1. Class Definition:**\n",
    "\n",
    "```python\n",
    "class MyIterator:\n",
    "```\n",
    "- This defines a new class `MyIterator`. In Python, an **iterator** is an object that implements the `__iter__()` and `__next__()` methods. This class is designed to behave like an iterator.\n",
    "\n",
    "---\n",
    "\n",
    "### **2. Constructor Method (`__init__`)**:\n",
    "\n",
    "```python\n",
    "    def __init__(self, limit):\n",
    "        self.limit = limit\n",
    "        self.current = 0\n",
    "```\n",
    "- The `__init__()` method is the constructor that is called when an instance of the class is created.\n",
    "- It initializes two attributes:\n",
    "  - `self.limit`: This is the upper limit for the iteration, passed as an argument when the iterator is created. In this example, it's set to `5`.\n",
    "  - `self.current`: This keeps track of the current state of the iteration. It starts at `0`.\n",
    "\n",
    "---\n",
    "\n",
    "### **3. Iteration Method (`__iter__`)**:\n",
    "\n",
    "```python\n",
    "    def __iter__(self):\n",
    "        return self\n",
    "```\n",
    "- The `__iter__()` method returns the iterator object itself (i.e., `self`). This method is necessary to make the object usable in `for` loops and other iteration contexts.\n",
    "- Returning `self` means that the object itself will be the iterator.\n",
    "\n",
    "---\n",
    "\n",
    "### **4. The `__next__()` Method**:\n",
    "\n",
    "```python\n",
    "    def __next__(self):\n",
    "        if self.current < self.limit:\n",
    "            self.current += 1\n",
    "            return self.current - 1\n",
    "        else:\n",
    "            raise StopIteration\n",
    "```\n",
    "- The `__next__()` method is called each time the iterator is asked for the next value.\n",
    "  - **Condition**: If `self.current` (the current value) is less than `self.limit`, the method increments `self.current` and returns the previous value (`self.current - 1`).\n",
    "  - **StopIteration**: When the current value reaches the limit, the method raises a `StopIteration` exception, which signals to the `for` loop (or any other iterator consumer) that the iteration is complete.\n",
    "\n",
    "---\n",
    "\n",
    "### **5. Creating and Using the Iterator**:\n",
    "\n",
    "```python\n",
    "# Create an instance of the iterator\n",
    "my_iter = MyIterator(5)\n",
    "```\n",
    "- This line creates an instance of `MyIterator` with a limit of 5. The iterator will now produce values from `0` to `4` (5 values in total).\n",
    "\n",
    "---\n",
    "\n",
    "```python\n",
    "# Use the iterator in a loop\n",
    "for num in my_iter:\n",
    "    print(num)\n",
    "```\n",
    "- The `for` loop uses the iterator object (`my_iter`), repeatedly calling `__next__()` to get the next value until a `StopIteration` exception is raised.\n",
    "- The output of the `for` loop will be:\n",
    "  ```\n",
    "  0\n",
    "  1\n",
    "  2\n",
    "  3\n",
    "  4\n",
    "  ```\n",
    "  - The iterator starts at `0` (because of `self.current = 0`), increments `self.current` with each iteration, and stops after reaching `4`, since the limit is `5`.\n",
    "\n",
    "---\n",
    "\n",
    "### **How it Works in Detail**:\n",
    "\n",
    "1. **Iteration Start**: The `for` loop calls `my_iter.__iter__()`, which returns the iterator itself (the `MyIterator` object).\n",
    "2. **Fetching Values**: The loop then repeatedly calls `my_iter.__next__()` to get the next number:\n",
    "   - The first call to `__next__()` returns `0`, then `1`, `2`, `3`, and `4` as the `current` value increases.\n",
    "   - Once `current` reaches `5`, the `StopIteration` exception is raised, signaling the end of iteration.\n",
    "3. **Loop Termination**: The `for` loop automatically handles the `StopIteration` and terminates.\n",
    "\n",
    "### **Key Concepts in the Code:**\n",
    "- **Iterators**: Custom iterators must implement `__iter__()` (to return the iterator) and `__next__()` (to get the next value).\n",
    "- **StopIteration**: Raised when there are no more values to return, signaling the end of the iteration.\n",
    "- **Looping**: Using a `for` loop over the iterator automatically manages the iteration process, calling `__next__()` internally.\n",
    "\n",
    "This is an example of a **finite** iterator, as it produces a set number of values based on the provided limit."
   ]
  },
  {
   "cell_type": "markdown",
   "id": "323d0a25-d5e7-4f47-af98-14313bea1f2d",
   "metadata": {},
   "source": [
    "## Explanation:\n",
    "The MyIterator class defines the custom iterator.\n",
    "\n",
    "The __iter__() method returns the iterator object itself.\n",
    "\n",
    "The __next__() method returns the next number until it reaches the limit, after which it raises the StopIteration exception."
   ]
  },
  {
   "cell_type": "markdown",
   "id": "104e00a0-804f-4a5a-ab29-0336f82d8d39",
   "metadata": {},
   "source": [
    "# Infinite Iterators\n",
    "You can also create iterators that don’t stop—infinite iterators. Here's an example of an infinite iterator that generates even numbers:"
   ]
  },
  {
   "cell_type": "code",
   "execution_count": 4,
   "id": "6d9956a4-b889-4cc7-aea9-eb79e141c3b6",
   "metadata": {},
   "outputs": [
    {
     "name": "stdout",
     "output_type": "stream",
     "text": [
      "0\n",
      "2\n",
      "4\n",
      "6\n",
      "8\n"
     ]
    }
   ],
   "source": [
    "class InfiniteEvenNumbers:\n",
    "    def __init__(self):\n",
    "        self.current = 0\n",
    "\n",
    "    def __iter__(self):\n",
    "        return self\n",
    "\n",
    "    def __next__(self):\n",
    "        result = self.current\n",
    "        self.current += 2\n",
    "        return result\n",
    "\n",
    "# Create an instance of the infinite iterator\n",
    "even_numbers = InfiniteEvenNumbers()\n",
    "\n",
    "# Retrieve the first 5 even numbers\n",
    "for _ in range(5):\n",
    "    print(next(even_numbers))\n"
   ]
  },
  {
   "cell_type": "markdown",
   "id": "9ed47dd4-9379-4599-b5ac-767166410d07",
   "metadata": {},
   "source": [
    "This code defines a custom iterator class `InfiniteEvenNumbers`, which generates an infinite sequence of even numbers. Here’s a breakdown of how it works, along with key concepts:\n",
    "\n",
    "### **1. Class Definition:**\n",
    "\n",
    "```python\n",
    "class InfiniteEvenNumbers:\n",
    "```\n",
    "- This defines a new class `InfiniteEvenNumbers`. The class behaves like an iterator and generates even numbers indefinitely.\n",
    "\n",
    "---\n",
    "\n",
    "### **2. Constructor Method (`__init__`)**:\n",
    "\n",
    "```python\n",
    "    def __init__(self):\n",
    "        self.current = 0\n",
    "```\n",
    "- The `__init__()` method is the constructor, and it initializes the `current` attribute to `0`.\n",
    "  - This `current` attribute will hold the current number in the sequence and will be updated as the iteration proceeds.\n",
    "\n",
    "---\n",
    "\n",
    "### **3. Iteration Method (`__iter__`)**:\n",
    "\n",
    "```python\n",
    "    def __iter__(self):\n",
    "        return self\n",
    "```\n",
    "- The `__iter__()` method returns the iterator object itself (`self`). This method makes the object iterable, meaning it can be used in `for` loops or with the `next()` function.\n",
    "\n",
    "---\n",
    "\n",
    "### **4. The `__next__()` Method**:\n",
    "\n",
    "```python\n",
    "    def __next__(self):\n",
    "        result = self.current\n",
    "        self.current += 2\n",
    "        return result\n",
    "```\n",
    "- The `__next__()` method is called each time the iterator is asked for the next value. Here’s what happens inside this method:\n",
    "  - **Step 1**: The current even number is stored in the variable `result`.\n",
    "  - **Step 2**: The `current` value is incremented by `2`, meaning each call to `__next__()` will give the next even number.\n",
    "  - **Step 3**: The method returns the value stored in `result`.\n",
    "\n",
    "- This sequence will continue indefinitely since there is no stopping condition (e.g., no `StopIteration` is raised).\n",
    "\n",
    "---\n",
    "\n",
    "### **5. Creating and Using the Infinite Iterator**:\n",
    "\n",
    "```python\n",
    "# Create an instance of the infinite iterator\n",
    "even_numbers = InfiniteEvenNumbers()\n",
    "```\n",
    "- An instance of the `InfiniteEvenNumbers` iterator is created. This object (`even_numbers`) will generate an infinite sequence of even numbers.\n",
    "\n",
    "---\n",
    "\n",
    "### **6. Retrieving the First 5 Even Numbers**:\n",
    "\n",
    "```python\n",
    "# Retrieve the first 5 even numbers\n",
    "for _ in range(5):\n",
    "    print(next(even_numbers))\n",
    "```\n",
    "- The `for` loop is used to retrieve and print the first 5 even numbers.\n",
    "  - **Explanation**: The `next()` function is called on `even_numbers` in each iteration. Each call to `next()` internally invokes the `__next__()` method, returning the next even number.\n",
    "  - The `range(5)` ensures that the loop runs 5 times, so only the first 5 even numbers are printed.\n",
    "  \n",
    "- **Output**:\n",
    "  ```\n",
    "  0\n",
    "  2\n",
    "  4\n",
    "  6\n",
    "  8\n",
    "  ```\n",
    "\n",
    "Each call to `next(even_numbers)` retrieves the current value of `self.current` (starting at `0`), increments `self.current` by `2`, and returns the value before incrementing. This results in even numbers being printed.\n",
    "\n",
    "### **How the Code Works:**\n",
    "\n",
    "1. **Initialization**: An instance of `InfiniteEvenNumbers` is created, initializing `self.current` to `0`.\n",
    "2. **Iteration**: The loop runs 5 times, and in each iteration, the `__next__()` method is called using `next(even_numbers)`.\n",
    "   - The first call returns `0`, then `2`, `4`, `6`, and finally `8`.\n",
    "   - After each iteration, `self.current` is incremented by 2 to generate the next even number.\n",
    "3. **Infinite Potential**: If you continued calling `next()` indefinitely, the iterator would keep returning even numbers without stopping.\n",
    "\n",
    "### **Key Concepts:**\n",
    "\n",
    "- **Infinite Iterators**: This iterator doesn't have a stopping condition, making it an infinite iterator. It will keep generating even numbers indefinitely as long as `next()` is called.\n",
    "- **The `__next__()` Method**: This method generates and returns the next value in the sequence, updating the state of the iterator (i.e., `self.current`).\n",
    "- **`next()` Function**: This is a built-in function in Python used to retrieve the next value from an iterator by calling its `__next__()` method.\n",
    "  \n",
    "This pattern is useful when you need to generate values on-demand, especially for tasks like producing an infinite series or generating numbers in real-time (e.g., stream processing)."
   ]
  },
  {
   "cell_type": "markdown",
   "id": "21031162-c517-4a1b-951a-680ca9303e7d",
   "metadata": {},
   "source": [
    "In this example, the iterator generates even numbers indefinitely, so you must manually control the number of iterations (using for loop limits or conditions)."
   ]
  },
  {
   "cell_type": "markdown",
   "id": "9d638176-56da-4184-bdc8-f954f0676583",
   "metadata": {},
   "source": [
    "# Iterators in Python's Built-in Functions\n",
    "Many Python built-in functions and tools use iterators internally:\n",
    "\n",
    "range(): Returns an iterator of a sequence of numbers.\n",
    "\n",
    "map(): Applies a function to all items in an input list and returns an iterator.\n",
    "\n",
    "filter(): Filters elements from an iterable that satisfy a condition and returns an iterator.\n",
    "\n",
    "zip(): Combines elements from multiple iterables into tuples and returns an iterator."
   ]
  },
  {
   "cell_type": "markdown",
   "id": "ffc0fcfb-54c5-461a-97fa-4a099c063d78",
   "metadata": {},
   "source": [
    "## Example with map() and filter():"
   ]
  },
  {
   "cell_type": "code",
   "execution_count": 18,
   "id": "4aa53b64-b68d-42e1-a595-7c9ad18b07f5",
   "metadata": {},
   "outputs": [
    {
     "name": "stdout",
     "output_type": "stream",
     "text": [
      "[1, 4, 9, 16, 25]\n",
      "[2, 4]\n"
     ]
    }
   ],
   "source": [
    "# Using map to apply a function to a list\n",
    "numbers = [1, 2, 3, 4, 5]\n",
    "squares = map(lambda x: x * x, numbers)\n",
    "print(list(squares))  # Output: [1, 4, 9, 16, 25]\n",
    "\n",
    "# Using filter to filter a list\n",
    "even_numbers = filter(lambda x: x % 2 == 0, numbers)\n",
    "print(list(even_numbers))  # Output: [2, 4]\n"
   ]
  },
  {
   "cell_type": "markdown",
   "id": "7d6bcd21-17a6-4e52-b2c9-9b954174150f",
   "metadata": {},
   "source": [
    "Both map() and filter() return iterators, meaning you can use next() to get the next item in the sequence or convert them into lists with list()."
   ]
  },
  {
   "cell_type": "markdown",
   "id": "0651f911-8ed9-4807-953b-917c5cb9566c",
   "metadata": {},
   "source": [
    "# Using Iterators with for Loops\n",
    "\n",
    "A for loop in Python internally uses the iter() function to obtain an iterator from an iterable, and next() is used to fetch the next element. This is why you can iterate over lists, tuples, sets, and dictionaries without explicitly calling iter() or next()."
   ]
  },
  {
   "cell_type": "code",
   "execution_count": 22,
   "id": "52b035d4-0dda-4d9e-b6d8-6473efcde0c0",
   "metadata": {},
   "outputs": [
    {
     "name": "stdout",
     "output_type": "stream",
     "text": [
      "1\n",
      "2\n",
      "3\n"
     ]
    }
   ],
   "source": [
    "my_list = [1, 2, 3]\n",
    "for element in my_list:\n",
    "    print(element)\n"
   ]
  },
  {
   "cell_type": "markdown",
   "id": "19fcb9b5-edaa-4175-973b-ed9b688aeda7",
   "metadata": {},
   "source": [
    "This is equivalent to:"
   ]
  },
  {
   "cell_type": "code",
   "execution_count": 25,
   "id": "50f942e4-076b-4b53-8fd9-52c0a7a351c9",
   "metadata": {},
   "outputs": [
    {
     "name": "stdout",
     "output_type": "stream",
     "text": [
      "1\n",
      "2\n",
      "3\n"
     ]
    }
   ],
   "source": [
    "my_list = [1, 2, 3]\n",
    "my_iter = iter(my_list)\n",
    "while True:\n",
    "    try:\n",
    "        element = next(my_iter)\n",
    "        print(element)\n",
    "    except StopIteration:\n",
    "        break\n"
   ]
  },
  {
   "cell_type": "markdown",
   "id": "9a0efef0-efd9-4d13-a8b8-99636025c70b",
   "metadata": {},
   "source": [
    "Let's break down this Python code snippet step by step:\n",
    "\n",
    "### 1. **`my_list = [1, 2, 3]`**\n",
    "   - This line defines a **list** called `my_list` containing three elements: `1`, `2`, and `3`.\n",
    "   - `my_list` is an **iterable**, which means it can return an iterator, but it is not an iterator itself.\n",
    "\n",
    "### 2. **`my_iter = iter(my_list)`**\n",
    "   - The **`iter()`** function is called on `my_list`. This function returns an **iterator** object that allows us to traverse the elements of the list.\n",
    "   - `my_iter` is now an **iterator** for the `my_list`. An iterator is an object that implements the `__next__()` method, which returns the next item in the sequence each time it's called.\n",
    "\n",
    "### 3. **`while True:`**\n",
    "   - This begins an infinite loop that will keep running until explicitly broken. The loop will attempt to retrieve and print elements from the iterator.\n",
    "\n",
    "### 4. **`try:`**\n",
    "   - The code inside the `try` block is executed to handle potential exceptions (in this case, the `StopIteration` exception that indicates the end of the iterator sequence).\n",
    "   - In this case, we are trying to call `next(my_iter)` to get the next item from the iterator.\n",
    "\n",
    "### 5. **`element = next(my_iter)`**\n",
    "   - The **`next()`** function is used to retrieve the next item from the iterator `my_iter`.\n",
    "     - The first time `next(my_iter)` is called, it returns the first item of `my_list`, which is `1`.\n",
    "     - The second time, it returns `2`.\n",
    "     - The third time, it returns `3`.\n",
    "   - Once all items have been retrieved, calling `next(my_iter)` again will raise the **`StopIteration`** exception, indicating that there are no more items to return from the iterator.\n",
    "\n",
    "### 6. **`print(element)`**\n",
    "   - This prints the value stored in `element`. Each value retrieved from `next(my_iter)` (1, 2, 3) will be printed.\n",
    "\n",
    "### 7. **`except StopIteration:`**\n",
    "   - This block catches the **`StopIteration`** exception, which is raised when the iterator is exhausted (i.e., when there are no more elements left in the iterator to retrieve).\n",
    "   - Once this exception is raised, the loop breaks, terminating the infinite `while` loop.\n",
    "\n",
    "### 8. **`break`**\n",
    "   - This statement is used to exit the `while` loop when the `StopIteration` exception occurs, which means all elements from `my_iter` have been consumed.\n",
    "\n",
    "### What Happens in Each Iteration:\n",
    "\n",
    "1. **First Iteration**:\n",
    "   - `next(my_iter)` returns `1` (the first element of `my_list`).\n",
    "   - `print(element)` prints `1`.\n",
    "\n",
    "2. **Second Iteration**:\n",
    "   - `next(my_iter)` returns `2` (the second element of `my_list`).\n",
    "   - `print(element)` prints `2`.\n",
    "\n",
    "3. **Third Iteration**:\n",
    "   - `next(my_iter)` returns `3` (the third element of `my_list`).\n",
    "   - `print(element)` prints `3`.\n",
    "\n",
    "4. **Fourth Iteration**:\n",
    "   - `next(my_iter)` raises `StopIteration` because there are no more items in `my_iter`.\n",
    "   - The `except StopIteration:` block is executed, and `break` is called to exit the loop.\n",
    "\n",
    "### Key Concepts:\n",
    "\n",
    "- **Iterator**: `my_iter` is an iterator created from `my_list` using `iter()`. It knows how to traverse the list and retrieve one element at a time.\n",
    "- **`next()`**: This function retrieves the next element from the iterator. Once the iterator is exhausted, it raises the `StopIteration` exception.\n",
    "- **`StopIteration`**: This exception is used to signal that there are no more elements to retrieve from the iterator.\n",
    "\n",
    "### Output:\n",
    "```\n",
    "1\n",
    "2\n",
    "3\n",
    "```\n",
    "\n",
    "In summary:\n",
    "- The code retrieves each element from the list `my_list` using the iterator `my_iter`.\n",
    "- When all elements are retrieved, the `StopIteration` exception is raised, and the loop terminates. This is an explicit way to handle iterators and prevent an infinite loop once the iterator is exhausted.\n",
    "\n",
    "Let me know if you need more clarification on any part of this process!"
   ]
  },
  {
   "cell_type": "code",
   "execution_count": null,
   "id": "89f4ce5c-4acb-4865-a4e2-c64d45114920",
   "metadata": {},
   "outputs": [],
   "source": []
  }
 ],
 "metadata": {
  "kernelspec": {
   "display_name": "Python 3 (ipykernel)",
   "language": "python",
   "name": "python3"
  },
  "language_info": {
   "codemirror_mode": {
    "name": "ipython",
    "version": 3
   },
   "file_extension": ".py",
   "mimetype": "text/x-python",
   "name": "python",
   "nbconvert_exporter": "python",
   "pygments_lexer": "ipython3",
   "version": "3.12.4"
  }
 },
 "nbformat": 4,
 "nbformat_minor": 5
}
