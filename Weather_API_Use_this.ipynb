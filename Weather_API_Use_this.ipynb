{
  "nbformat": 4,
  "nbformat_minor": 0,
  "metadata": {
    "colab": {
      "provenance": []
    },
    "kernelspec": {
      "name": "python3",
      "display_name": "Python 3"
    },
    "language_info": {
      "name": "python"
    }
  },
  "cells": [
    {
      "cell_type": "code",
      "execution_count": null,
      "metadata": {
        "id": "w53zJe4dS77d"
      },
      "outputs": [],
      "source": [
        "10e70a85eae9fc438e83b7990b148503"
      ]
    },
    {
      "cell_type": "code",
      "source": [
        "import requests\n",
        "\n",
        "# Replace with your OpenWeatherMap API key\n",
        "api_key = \"10e70a85eae9fc438e83b7990b148503\"\n",
        "\n",
        "# Define the city for which you want weather data\n",
        "city = \"Bangalore\"\n",
        "\n",
        "# Define the API endpoint with city and API key parameters\n",
        "url = f\"http://api.openweathermap.org/data/2.5/weather?q={city}&appid={api_key}&units=metric\"\n",
        "\n",
        "# Send a GET request to the API\n",
        "response = requests.get(url)\n",
        "\n",
        "# Check if the request was successful\n",
        "if response.status_code == 200:\n",
        "    # Parse the JSON data from the response\n",
        "    weather_data = response.json()\n",
        "\n",
        "    # Extract specific details from the response\n",
        "    city_name = weather_data['name']\n",
        "    temperature = weather_data['main']['temp']\n",
        "    weather_description = weather_data['weather'][0]['description']\n",
        "    humidity = weather_data['main']['humidity']\n",
        "    wind_speed = weather_data['wind']['speed']\n",
        "\n",
        "    # Display the weather information\n",
        "    print(f\"Weather in {city_name}:\")\n",
        "    print(f\"Temperature: {temperature}°C\")\n",
        "    print(f\"Weather: {weather_description}\")\n",
        "    print(f\"Humidity: {humidity}%\")\n",
        "    print(f\"Wind Speed: {wind_speed} m/s\")\n",
        "else:\n",
        "    print(f\"Failed to retrieve weather data. Status code: {response.status_code}\")\n"
      ],
      "metadata": {
        "colab": {
          "base_uri": "https://localhost:8080/"
        },
        "id": "3t1FInPATAkF",
        "outputId": "96d59370-0b0b-4a9b-b308-163ed84a0888"
      },
      "execution_count": 1,
      "outputs": [
        {
          "output_type": "stream",
          "name": "stdout",
          "text": [
            "Weather in Bengaluru:\n",
            "Temperature: 27.21°C\n",
            "Weather: overcast clouds\n",
            "Humidity: 56%\n",
            "Wind Speed: 2.85 m/s\n"
          ]
        }
      ]
    },
    {
      "cell_type": "markdown",
      "source": [
        "Here’s a detailed explanation of each part of the code:\n",
        "\n",
        "### 1. **Importing the `requests` library**\n",
        "\n",
        "```python\n",
        "import requests\n",
        "```\n",
        "- **Purpose**: This line imports the `requests` library, which allows you to send HTTP requests (such as GET, POST, etc.) to interact with APIs. It simplifies making API requests in Python.\n",
        "\n",
        "### 2. **API Key and City Name**\n",
        "\n",
        "```python\n",
        "# Replace with your OpenWeatherMap API key\n",
        "api_key = \"10e70a85eae9fc438e83b7990b148503\"\n",
        "\n",
        "# Define the city for which you want weather data\n",
        "city = \"Bangalore\"\n",
        "```\n",
        "- **API Key**: The `api_key` is a unique identifier provided by OpenWeatherMap when you sign up for their API. It allows you to authenticate your requests.\n",
        "- **City**: The `city` variable defines the location for which you want to retrieve weather data. In this case, it is set to \"Bangalore.\"\n",
        "\n",
        "### 3. **Building the API Endpoint**\n",
        "\n",
        "```python\n",
        "# Define the API endpoint with city and API key parameters\n",
        "url = f\"http://api.openweathermap.org/data/2.5/weather?q={city}&appid={api_key}&units=metric\"\n",
        "```\n",
        "- **URL Construction**: The `url` variable builds the complete API endpoint by using string interpolation (`f\"...\"`) to insert the city and API key into the appropriate places.\n",
        "    - The base URL for getting current weather data is: `http://api.openweathermap.org/data/2.5/weather`\n",
        "    - Query parameters are added to the URL:\n",
        "        - `q={city}`: Specifies the city name (\"Bangalore\").\n",
        "        - `appid={api_key}`: Specifies your unique API key.\n",
        "        - `units=metric`: This optional parameter specifies the units for the temperature (Celsius). Without this, the default unit is Kelvin.\n",
        "\n",
        "### 4. **Making the GET Request**\n",
        "\n",
        "```python\n",
        "# Send a GET request to the API\n",
        "response = requests.get(url)\n",
        "```\n",
        "- **Purpose**: This line sends an HTTP GET request to the OpenWeatherMap API using the `requests.get()` method, with the `url` as an argument.\n",
        "- **Result**: The server returns a response, which includes a status code and data (if the request is successful).\n",
        "\n",
        "### 5. **Checking the Response Status**\n",
        "\n",
        "```python\n",
        "# Check if the request was successful\n",
        "if response.status_code == 200:\n",
        "```\n",
        "- **Purpose**: This line checks if the request was successful. HTTP status codes indicate whether a request succeeded or failed.\n",
        "    - **200**: This is the status code for a successful HTTP request.\n",
        "    - If the status code is not 200, the script will skip to the `else` block to handle the error.\n",
        "\n",
        "### 6. **Parsing the Response JSON**\n",
        "\n",
        "```python\n",
        "    # Parse the JSON data from the response\n",
        "    weather_data = response.json()\n",
        "```\n",
        "- **Purpose**: If the request was successful, this line converts the raw response data (which is in JSON format) into a Python dictionary using the `.json()` method. This allows you to access the weather data more easily in Python.\n",
        "\n",
        "### 7. **Extracting Specific Weather Information**\n",
        "\n",
        "```python\n",
        "    # Extract specific details from the response\n",
        "    city_name = weather_data['name']\n",
        "    temperature = weather_data['main']['temp']\n",
        "    weather_description = weather_data['weather'][0]['description']\n",
        "    humidity = weather_data['main']['humidity']\n",
        "    wind_speed = weather_data['wind']['speed']\n",
        "```\n",
        "- **Purpose**: This block extracts key information from the parsed JSON data:\n",
        "    - `city_name`: Extracts the city name (`weather_data['name']`).\n",
        "    - `temperature`: Extracts the current temperature (`weather_data['main']['temp']`) in Celsius, as specified by the `units=metric` parameter in the API request.\n",
        "    - `weather_description`: Extracts a description of the current weather conditions (e.g., \"clear sky\") from the first element of the weather list (`weather_data['weather'][0]['description']`).\n",
        "    - `humidity`: Extracts the current humidity level (`weather_data['main']['humidity']`).\n",
        "    - `wind_speed`: Extracts the current wind speed in meters per second (`weather_data['wind']['speed']`).\n",
        "\n",
        "### 8. **Displaying the Weather Information**\n",
        "\n",
        "```python\n",
        "    # Display the weather information\n",
        "    print(f\"Weather in {city_name}:\")\n",
        "    print(f\"Temperature: {temperature}°C\")\n",
        "    print(f\"Weather: {weather_description}\")\n",
        "    print(f\"Humidity: {humidity}%\")\n",
        "    print(f\"Wind Speed: {wind_speed} m/s\")\n",
        "```\n",
        "- **Purpose**: These lines print the extracted weather information in a user-friendly format. The temperature, weather description, humidity, and wind speed are displayed for the specified city.\n",
        "\n",
        "### 9. **Error Handling**\n",
        "\n",
        "```python\n",
        "else:\n",
        "    print(f\"Failed to retrieve weather data. Status code: {response.status_code}\")\n",
        "```\n",
        "- **Purpose**: If the response status code is not 200, this block is executed. It prints an error message along with the actual status code, indicating that the request failed.\n",
        "\n",
        "### Example Output:\n",
        "If the request succeeds, the output would look something like this:\n",
        "```\n",
        "Weather in Bangalore:\n",
        "Temperature: 25°C\n",
        "Weather: clear sky\n",
        "Humidity: 60%\n",
        "Wind Speed: 3.5 m/s\n",
        "```\n",
        "\n",
        "### How it Works:\n",
        "1. The script sends a GET request to the OpenWeatherMap API, passing the city name (\"Bangalore\") and your unique API key.\n",
        "2. The API responds with JSON-formatted data, including the current weather conditions.\n",
        "3. The script checks if the response was successful (status code 200), then parses the JSON data.\n",
        "4. It extracts specific details like temperature, weather description, humidity, and wind speed, and prints them to the console.\n",
        "5. If the request fails, it prints an error message.\n",
        "\n",
        "### Key Points:\n",
        "- **`requests` library**: Makes interacting with REST APIs easier in Python.\n",
        "- **API Key**: Needed to authenticate with the OpenWeatherMap API.\n",
        "- **Error handling**: Ensures the code handles failures and informs the user.\n",
        "- **JSON parsing**: Converts the API’s JSON response into a usable Python dictionary."
      ],
      "metadata": {
        "id": "o6dvLoSjUow3"
      }
    },
    {
      "cell_type": "markdown",
      "source": [
        "# 1. Get Weather Forecast for Next 5 Days (3-hour intervals)"
      ],
      "metadata": {
        "id": "eu2_a9VBTr4I"
      }
    },
    {
      "cell_type": "code",
      "source": [
        "import requests\n",
        "\n",
        "# Replace with your OpenWeatherMap API key\n",
        "api_key = \"10e70a85eae9fc438e83b7990b148503\"\n",
        "\n",
        "# Define the city for which you want the forecast data\n",
        "city = \"New York\"\n",
        "\n",
        "# Define the API endpoint with city and API key parameters\n",
        "url = f\"http://api.openweathermap.org/data/2.5/forecast?q={city}&appid={api_key}&units=metric\"\n",
        "\n",
        "# Send a GET request to the API\n",
        "response = requests.get(url)\n",
        "\n",
        "# Check if the request was successful\n",
        "if response.status_code == 200:\n",
        "    forecast_data = response.json()\n",
        "\n",
        "    # Display a simple forecast for the next few intervals\n",
        "    print(f\"5-day Weather Forecast for {city}:\")\n",
        "    for forecast in forecast_data['list'][:5]:  # Get data for the first 5 intervals (15 hours)\n",
        "        time = forecast['dt_txt']\n",
        "        temperature = forecast['main']['temp']\n",
        "        weather = forecast['weather'][0]['description']\n",
        "        print(f\"At {time}, Temperature: {temperature}°C, Weather: {weather}\")\n",
        "else:\n",
        "    print(f\"Failed to retrieve forecast data. Status code: {response.status_code}\")\n"
      ],
      "metadata": {
        "colab": {
          "base_uri": "https://localhost:8080/"
        },
        "id": "4Cs52BqjTQn2",
        "outputId": "b3ad115e-74c0-4490-a89a-60e64d6590bb"
      },
      "execution_count": 4,
      "outputs": [
        {
          "output_type": "stream",
          "name": "stdout",
          "text": [
            "5-day Weather Forecast for New York:\n",
            "At 2024-10-24 18:00:00, Temperature: 19.22°C, Weather: few clouds\n",
            "At 2024-10-24 21:00:00, Temperature: 19.37°C, Weather: clear sky\n",
            "At 2024-10-25 00:00:00, Temperature: 15.89°C, Weather: clear sky\n",
            "At 2024-10-25 03:00:00, Temperature: 13.6°C, Weather: clear sky\n",
            "At 2024-10-25 06:00:00, Temperature: 11.83°C, Weather: clear sky\n"
          ]
        }
      ]
    },
    {
      "cell_type": "markdown",
      "source": [
        "# 2. Get Current Weather Data by City ID"
      ],
      "metadata": {
        "id": "SlXcK1h-Tvp3"
      }
    },
    {
      "cell_type": "code",
      "source": [
        "import requests\n",
        "\n",
        "# Replace with your OpenWeatherMap API key\n",
        "api_key = \"10e70a85eae9fc438e83b7990b148503\"\n",
        "\n",
        "# Define the city ID (example: London city ID)\n",
        "city_id = 2643743  # ID for London\n",
        "\n",
        "# Define the API endpoint with city ID and API key\n",
        "url = f\"http://api.openweathermap.org/data/2.5/weather?id={city_id}&appid={api_key}&units=metric\"\n",
        "\n",
        "# Send a GET request to the API\n",
        "response = requests.get(url)\n",
        "\n",
        "# Check if the request was successful\n",
        "if response.status_code == 200:\n",
        "    weather_data = response.json()\n",
        "\n",
        "    # Extract specific details from the response\n",
        "    city_name = weather_data['name']\n",
        "    temperature = weather_data['main']['temp']\n",
        "    weather_description = weather_data['weather'][0]['description']\n",
        "\n",
        "    print(f\"Weather in {city_name} (ID: {city_id}):\")\n",
        "    print(f\"Temperature: {temperature}°C\")\n",
        "    print(f\"Weather: {weather_description}\")\n",
        "else:\n",
        "    print(f\"Failed to retrieve weather data. Status code: {response.status_code}\")\n"
      ],
      "metadata": {
        "colab": {
          "base_uri": "https://localhost:8080/"
        },
        "id": "nCqmm6C2TjUE",
        "outputId": "7cfa8a74-ff66-4248-f64c-d91ee047d31b"
      },
      "execution_count": 6,
      "outputs": [
        {
          "output_type": "stream",
          "name": "stdout",
          "text": [
            "Weather in London (ID: 2643743):\n",
            "Temperature: 16.64°C\n",
            "Weather: clear sky\n"
          ]
        }
      ]
    },
    {
      "cell_type": "markdown",
      "source": [
        "# 3. Get Weather Data Using Geographical Coordinates"
      ],
      "metadata": {
        "id": "M8wcKhgiT3vZ"
      }
    },
    {
      "cell_type": "code",
      "source": [
        "import requests\n",
        "\n",
        "# Replace with your OpenWeatherMap API key\n",
        "api_key = \"10e70a85eae9fc438e83b7990b148503\"\n",
        "\n",
        "# Define the geographical coordinates (example: for Tokyo)\n",
        "lat = 35.6895\n",
        "lon = 139.6917\n",
        "\n",
        "# Define the API endpoint with latitude, longitude, and API key\n",
        "url = f\"http://api.openweathermap.org/data/2.5/weather?lat={lat}&lon={lon}&appid={api_key}&units=metric\"\n",
        "\n",
        "# Send a GET request to the API\n",
        "response = requests.get(url)\n",
        "\n",
        "# Check if the request was successful\n",
        "if response.status_code == 200:\n",
        "    weather_data = response.json()\n",
        "\n",
        "    # Extract specific details from the response\n",
        "    city_name = weather_data['name']\n",
        "    temperature = weather_data['main']['temp']\n",
        "    weather_description = weather_data['weather'][0]['description']\n",
        "\n",
        "    print(f\"Weather in {city_name} (Coordinates: {lat}, {lon}):\")\n",
        "    print(f\"Temperature: {temperature}°C\")\n",
        "    print(f\"Weather: {weather_description}\")\n",
        "else:\n",
        "    print(f\"Failed to retrieve weather data. Status code: {response.status_code}\")\n"
      ],
      "metadata": {
        "colab": {
          "base_uri": "https://localhost:8080/"
        },
        "id": "W0rxFWTHTxJ4",
        "outputId": "49f6ac40-0b91-4c5c-af66-d75bc8d2f420"
      },
      "execution_count": 7,
      "outputs": [
        {
          "output_type": "stream",
          "name": "stdout",
          "text": [
            "Weather in Tokyo (Coordinates: 35.6895, 139.6917):\n",
            "Temperature: 21.67°C\n",
            "Weather: broken clouds\n"
          ]
        }
      ]
    },
    {
      "cell_type": "markdown",
      "source": [
        "# 4. Get Current UV Index Based on Coordinates"
      ],
      "metadata": {
        "id": "rHlw0-gcT_qs"
      }
    },
    {
      "cell_type": "code",
      "source": [
        "import requests\n",
        "\n",
        "# Replace with your OpenWeatherMap API key\n",
        "api_key = \"10e70a85eae9fc438e83b7990b148503\"\n",
        "\n",
        "# Define the geographical coordinates (example: for Miami)\n",
        "lat = 25.7617\n",
        "lon = -80.1918\n",
        "\n",
        "# Define the API endpoint with latitude, longitude, and API key for UV index\n",
        "url = f\"http://api.openweathermap.org/data/2.5/uvi?lat={lat}&lon={lon}&appid={api_key}\"\n",
        "\n",
        "# Send a GET request to the API\n",
        "response = requests.get(url)\n",
        "\n",
        "# Check if the request was successful\n",
        "if response.status_code == 200:\n",
        "    uv_data = response.json()\n",
        "\n",
        "    # Extract UV index value\n",
        "    uv_index = uv_data['value']\n",
        "\n",
        "    print(f\"Current UV Index for location (Lat: {lat}, Lon: {lon}): {uv_index}\")\n",
        "else:\n",
        "    print(f\"Failed to retrieve UV index data. Status code: {response.status_code}\")\n"
      ],
      "metadata": {
        "colab": {
          "base_uri": "https://localhost:8080/"
        },
        "id": "_SyY2XPtT8_b",
        "outputId": "66eaae03-7ecb-4012-f745-7500b49d246f"
      },
      "execution_count": 8,
      "outputs": [
        {
          "output_type": "stream",
          "name": "stdout",
          "text": [
            "Current UV Index for location (Lat: 25.7617, Lon: -80.1918): 7.29\n"
          ]
        }
      ]
    },
    {
      "cell_type": "markdown",
      "source": [
        "# 5. Get Weather Data for Multiple Cities (by City IDs)"
      ],
      "metadata": {
        "id": "JiEimgjCUISL"
      }
    },
    {
      "cell_type": "code",
      "source": [
        "import requests\n",
        "\n",
        "# Replace with your OpenWeatherMap API key\n",
        "api_key = \"10e70a85eae9fc438e83b7990b148503\"\n",
        "\n",
        "# Define city IDs for multiple cities (example: London, Paris, Berlin)\n",
        "city_ids = \"2643743,2988507,2950159\"  # London, Paris, Berlin\n",
        "\n",
        "# Define the API endpoint with city IDs and API key\n",
        "url = f\"http://api.openweathermap.org/data/2.5/group?id={city_ids}&appid={api_key}&units=metric\"\n",
        "\n",
        "# Send a GET request to the API\n",
        "response = requests.get(url)\n",
        "\n",
        "# Check if the request was successful\n",
        "if response.status_code == 200:\n",
        "    weather_data = response.json()\n",
        "\n",
        "    # Display weather details for each city\n",
        "    print(\"Weather data for multiple cities:\")\n",
        "    for city in weather_data['list']:\n",
        "        city_name = city['name']\n",
        "        temperature = city['main']['temp']\n",
        "        weather_description = city['weather'][0]['description']\n",
        "        print(f\"{city_name}: Temperature: {temperature}°C, Weather: {weather_description}\")\n",
        "else:\n",
        "    print(f\"Failed to retrieve weather data. Status code: {response.status_code}\")\n"
      ],
      "metadata": {
        "colab": {
          "base_uri": "https://localhost:8080/"
        },
        "id": "taoTMFZJUEif",
        "outputId": "ceb9d9cd-f332-467c-81bb-80d5ec50c8b2"
      },
      "execution_count": 9,
      "outputs": [
        {
          "output_type": "stream",
          "name": "stdout",
          "text": [
            "Weather data for multiple cities:\n",
            "London: Temperature: 16.12°C, Weather: clear sky\n",
            "Paris: Temperature: 17.1°C, Weather: clear sky\n",
            "Berlin: Temperature: 13.42°C, Weather: clear sky\n"
          ]
        }
      ]
    },
    {
      "cell_type": "code",
      "source": [],
      "metadata": {
        "id": "8m-Cgc9sUNGf"
      },
      "execution_count": null,
      "outputs": []
    }
  ]
}