{
 "cells": [
  {
   "cell_type": "markdown",
   "metadata": {},
   "source": [
    "### Object-Oriented Programming (OOP)\n",
    "OOP, or Object-Oriented Programming, is a method of structuring a\n",
    "program by bundling related properties and behaviors into individual\n",
    "objects"
   ]
  },
  {
   "cell_type": "markdown",
   "metadata": {},
   "source": [
    "Let’s say you wanted to track employees in an organization. You need to store some basic information about each employee,\n",
    "such as their name, age, position, and the year they started working."
   ]
  },
  {
   "cell_type": "code",
   "execution_count": 3,
   "metadata": {},
   "outputs": [
    {
     "name": "stdout",
     "output_type": "stream",
     "text": [
      "semi\n",
      "['__class__', '__delattr__', '__dict__', '__dir__', '__doc__', '__eq__', '__format__', '__ge__', '__getattribute__', '__getstate__', '__gt__', '__hash__', '__init__', '__init_subclass__', '__le__', '__lt__', '__module__', '__ne__', '__new__', '__reduce__', '__reduce_ex__', '__repr__', '__setattr__', '__sizeof__', '__str__', '__subclasshook__', '__weakref__', 'brand', 'color', 'gear', 'startcar']\n",
      "Help on class Car in module __main__:\n",
      "\n",
      "class Car(builtins.object)\n",
      " |  This is car class\n",
      " |\n",
      " |  Methods defined here:\n",
      " |\n",
      " |  startcar(self)\n",
      " |\n",
      " |  ----------------------------------------------------------------------\n",
      " |  Data descriptors defined here:\n",
      " |\n",
      " |  __dict__\n",
      " |      dictionary for instance variables\n",
      " |\n",
      " |  __weakref__\n",
      " |      list of weak references to the object\n",
      " |\n",
      " |  ----------------------------------------------------------------------\n",
      " |  Data and other attributes defined here:\n",
      " |\n",
      " |  brand = 'Maruthi'\n",
      " |\n",
      " |  color = 'white'\n",
      " |\n",
      " |  gear = 'semi'\n",
      "\n",
      "2621779851696\n"
     ]
    }
   ],
   "source": [
    "class Car():\n",
    "  '''This is car class'''\n",
    "  gear=\"semi\"\n",
    "  brand=\"Maruthi\"\n",
    "  color=\"white\"\n",
    "  def startcar(self):\n",
    "    print(\"starting the car.....\")\n",
    "print(Car.gear)\n",
    "print(dir(Car))\n",
    "help(Car)\n",
    "print(id(Car))"
   ]
  },
  {
   "cell_type": "code",
   "execution_count": 13,
   "metadata": {},
   "outputs": [
    {
     "name": "stdout",
     "output_type": "stream",
     "text": [
      "<__main__.Car object at 0x000002626F3BA330>\n",
      "Help on Car in module __main__ object:\n",
      "\n",
      "class Car(builtins.object)\n",
      " |  This is car class\n",
      " |\n",
      " |  Methods defined here:\n",
      " |\n",
      " |  startcar(self)\n",
      " |\n",
      " |  ----------------------------------------------------------------------\n",
      " |  Data descriptors defined here:\n",
      " |\n",
      " |  __dict__\n",
      " |      dictionary for instance variables\n",
      " |\n",
      " |  __weakref__\n",
      " |      list of weak references to the object\n",
      " |\n",
      " |  ----------------------------------------------------------------------\n",
      " |  Data and other attributes defined here:\n",
      " |\n",
      " |  brand = 'Maruthi'\n",
      " |\n",
      " |  color = 'white'\n",
      " |\n",
      " |  gear = 'semi'\n",
      "\n",
      "2621796229936\n",
      "False\n",
      "True\n",
      "semi\n"
     ]
    }
   ],
   "source": [
    "c=Car()\n",
    "print(c)\n",
    "dir(c)\n",
    "help(c)\n",
    "print(id(c))\n",
    "print(Car is c)\n",
    "print(Car is not c)\n",
    "print((c.gear))"
   ]
  },
  {
   "cell_type": "code",
   "execution_count": 17,
   "metadata": {},
   "outputs": [
    {
     "name": "stdout",
     "output_type": "stream",
     "text": [
      "False\n",
      "True\n",
      "2621698490848\n",
      "2621698490848\n",
      "2621698490848\n",
      "True\n",
      "2621795513360\n"
     ]
    }
   ],
   "source": [
    "d=Car()\n",
    "print(c is d)\n",
    "print(c.gear is d.gear)\n",
    "print(id(Car.gear))\n",
    "print(id(c.gear))\n",
    "print(id(d.gear))\n",
    "print(c.gear == d.gear)\n",
    "print(id(d))\n"
   ]
  },
  {
   "cell_type": "markdown",
   "metadata": {},
   "source": [
    "In Python, when you compare the `id` of objects, you're essentially checking if those objects point to the same memory address. Let me explain the behavior of each part of the code and why some objects may have the same memory ID:\n",
    "\n",
    "### Code Explanation:\n",
    "\n",
    "1. **`d = Car()`**\n",
    "   - This creates an instance of the `Car` class and assigns it to the variable `d`.\n",
    "   \n",
    "2. **`print(c is d)`**\n",
    "   - The `is` operator checks if `c` and `d` point to the same object (i.e., if their memory addresses are identical). Since `c` and `d` are two different instances of the `Car` class, `c is d` will print `False`.\n",
    "\n",
    "3. **`print(c.gear is d.gear)`**\n",
    "   - Assuming that `gear` is an attribute of the `Car` class, this will check whether `c.gear` and `d.gear` refer to the same object. If `gear` is a class attribute, it would be shared among all instances, so this might print `True`. If `gear` is an instance attribute, then each instance has its own `gear`, and this will print `False`.\n",
    "\n",
    "4. **`print(id(Car.gear))`**\n",
    "   - `id(Car.gear)` gives the memory address of the `gear` attribute in the `Car` class. If `gear` is a class attribute, it will have a memory address shared across all instances.\n",
    "\n",
    "5. **`print(id(c.gear))` and `print(id(d.gear))`**\n",
    "   - These statements print the memory addresses of the `gear` attributes of `c` and `d`. If `gear` is a class attribute, they will have the same memory address. If `gear` is an instance attribute, they will have different memory addresses.\n",
    "   \n",
    "6. **`print(c.gear == d.gear)`**\n",
    "   - This checks whether the values of `c.gear` and `d.gear` are equal. It will print `True` if they have the same value, regardless of whether they are the same object.\n",
    "\n",
    "7. **Why objects can have the same memory ID in Python:**\n",
    "   - Python optimizes memory usage by reusing objects in some cases, especially for immutable types like integers, strings, and tuples. This is called **object interning**.\n",
    "   - For instance, small integers and short strings might share the same memory across different variables. If `gear` is a class attribute or if its value is immutable and reused by multiple instances, the memory ID of `gear` might be the same across all instances.\n",
    "   - If `gear` is an instance attribute, but Python determines that both `c.gear` and `d.gear` have the same value and are immutable, they may still share the same memory.\n"
   ]
  },
  {
   "cell_type": "code",
   "execution_count": 11,
   "metadata": {},
   "outputs": [
    {
     "name": "stdout",
     "output_type": "stream",
     "text": [
      "2621779851696\n"
     ]
    },
    {
     "data": {
      "text/plain": [
       "2621795308544"
      ]
     },
     "execution_count": 11,
     "metadata": {},
     "output_type": "execute_result"
    }
   ],
   "source": [
    "print(id(Car))\n",
    "id(c)"
   ]
  },
  {
   "cell_type": "code",
   "execution_count": 6,
   "metadata": {},
   "outputs": [
    {
     "name": "stdout",
     "output_type": "stream",
     "text": [
      "starting the car.....\n",
      "semi\n",
      "Maruthi\n",
      "white\n",
      "semi\n"
     ]
    }
   ],
   "source": [
    "# print(type(c))\n",
    "c.startcar()\n",
    "print(c.gear)\n",
    "print(c.brand)\n",
    "print(c.color)\n",
    "print(Car.gear)"
   ]
  },
  {
   "cell_type": "code",
   "execution_count": 32,
   "metadata": {},
   "outputs": [
    {
     "name": "stdout",
     "output_type": "stream",
     "text": [
      "starting the car.....\n",
      "starting the car.....\n",
      "True\n",
      "starting the car.....\n",
      "140709298587600\n",
      "starting the car.....\n"
     ]
    },
    {
     "data": {
      "text/plain": [
       "140709298587600"
      ]
     },
     "execution_count": 32,
     "metadata": {},
     "output_type": "execute_result"
    }
   ],
   "source": [
    "print(c.startcar() is d.startcar())\n",
    "\n",
    "\n",
    "print (id(c.startcar()))\n",
    "id(d.startcar())"
   ]
  },
  {
   "cell_type": "code",
   "execution_count": 36,
   "metadata": {},
   "outputs": [
    {
     "name": "stdout",
     "output_type": "stream",
     "text": [
      "<class 'list'>\n",
      "None\n"
     ]
    }
   ],
   "source": [
    "l=list()\n",
    "c=Car()\n",
    "print (type(list()))\n",
    "# dir(l)\n",
    "print(l.reverse())"
   ]
  },
  {
   "cell_type": "code",
   "execution_count": 8,
   "metadata": {},
   "outputs": [
    {
     "name": "stdout",
     "output_type": "stream",
     "text": [
      "['__add__', '__class__', '__contains__', '__delattr__', '__dir__', '__doc__', '__eq__', '__format__', '__ge__', '__getattribute__', '__getitem__', '__getnewargs__', '__getstate__', '__gt__', '__hash__', '__init__', '__init_subclass__', '__iter__', '__le__', '__len__', '__lt__', '__mod__', '__mul__', '__ne__', '__new__', '__reduce__', '__reduce_ex__', '__repr__', '__rmod__', '__rmul__', '__setattr__', '__sizeof__', '__str__', '__subclasshook__', 'capitalize', 'casefold', 'center', 'count', 'encode', 'endswith', 'expandtabs', 'find', 'format', 'format_map', 'index', 'isalnum', 'isalpha', 'isascii', 'isdecimal', 'isdigit', 'isidentifier', 'islower', 'isnumeric', 'isprintable', 'isspace', 'istitle', 'isupper', 'join', 'ljust', 'lower', 'lstrip', 'maketrans', 'partition', 'removeprefix', 'removesuffix', 'replace', 'rfind', 'rindex', 'rjust', 'rpartition', 'rsplit', 'rstrip', 'split', 'splitlines', 'startswith', 'strip', 'swapcase', 'title', 'translate', 'upper', 'zfill']\n"
     ]
    },
    {
     "data": {
      "text/plain": [
       "True"
      ]
     },
     "execution_count": 8,
     "metadata": {},
     "output_type": "execute_result"
    }
   ],
   "source": [
    "s=\"python\"\n",
    "# print(type(s))\n",
    "print(dir(s))\n",
    "s.startswith(\"p\")"
   ]
  },
  {
   "cell_type": "code",
   "execution_count": 9,
   "metadata": {},
   "outputs": [],
   "source": [
    "t=tuple()"
   ]
  },
  {
   "cell_type": "code",
   "execution_count": 10,
   "metadata": {},
   "outputs": [],
   "source": [
    "d=dict()"
   ]
  },
  {
   "cell_type": "code",
   "execution_count": 11,
   "metadata": {},
   "outputs": [],
   "source": [
    "class Car():\n",
    "  gear=\"semi\"\n",
    "  brand=\"hundai\"\n",
    "  color=\"white\"\n",
    "greenCar = Car()"
   ]
  },
  {
   "cell_type": "code",
   "execution_count": 12,
   "metadata": {},
   "outputs": [],
   "source": [
    "# help(Car)\n",
    "# greenCar.color"
   ]
  },
  {
   "cell_type": "code",
   "execution_count": 13,
   "metadata": {},
   "outputs": [
    {
     "data": {
      "text/plain": [
       "'white'"
      ]
     },
     "execution_count": 13,
     "metadata": {},
     "output_type": "execute_result"
    }
   ],
   "source": [
    "greenCar.color"
   ]
  },
  {
   "cell_type": "code",
   "execution_count": 14,
   "metadata": {},
   "outputs": [],
   "source": [
    "greenCar.color=\"green\""
   ]
  },
  {
   "cell_type": "code",
   "execution_count": 15,
   "metadata": {},
   "outputs": [
    {
     "data": {
      "text/plain": [
       "'green'"
      ]
     },
     "execution_count": 15,
     "metadata": {},
     "output_type": "execute_result"
    }
   ],
   "source": [
    "greenCar.color"
   ]
  },
  {
   "cell_type": "code",
   "execution_count": 16,
   "metadata": {},
   "outputs": [],
   "source": [
    "redCar=Car()"
   ]
  },
  {
   "cell_type": "code",
   "execution_count": 17,
   "metadata": {},
   "outputs": [
    {
     "data": {
      "text/plain": [
       "'white'"
      ]
     },
     "execution_count": 17,
     "metadata": {},
     "output_type": "execute_result"
    }
   ],
   "source": [
    "redCar.color"
   ]
  },
  {
   "cell_type": "code",
   "execution_count": 18,
   "metadata": {},
   "outputs": [
    {
     "data": {
      "text/plain": [
       "'semi'"
      ]
     },
     "execution_count": 18,
     "metadata": {},
     "output_type": "execute_result"
    }
   ],
   "source": [
    "redCar.gear"
   ]
  },
  {
   "cell_type": "code",
   "execution_count": 19,
   "metadata": {},
   "outputs": [],
   "source": [
    "redCar.color=\"Red\""
   ]
  },
  {
   "cell_type": "code",
   "execution_count": 20,
   "metadata": {},
   "outputs": [
    {
     "data": {
      "text/plain": [
       "'Red'"
      ]
     },
     "execution_count": 20,
     "metadata": {},
     "output_type": "execute_result"
    }
   ],
   "source": [
    "redCar.color"
   ]
  },
  {
   "cell_type": "code",
   "execution_count": 21,
   "metadata": {},
   "outputs": [],
   "source": [
    "class Car:\n",
    "  gear=\"semi\"\n",
    "  color=\"white\" \n",
    "  def printDetails(self):\n",
    "    print (self.gear,self.color)\n",
    "#     print (greencar.gear,greencar.color)\n",
    "#      print(redcar.gear,redcar.color)"
   ]
  },
  {
   "cell_type": "code",
   "execution_count": 22,
   "metadata": {},
   "outputs": [],
   "source": [
    "greenCar=Car()# greenCar.printDetails(greenCar)"
   ]
  },
  {
   "cell_type": "code",
   "execution_count": 23,
   "metadata": {},
   "outputs": [
    {
     "name": "stdout",
     "output_type": "stream",
     "text": [
      "semi white\n",
      "semi white\n"
     ]
    }
   ],
   "source": [
    "greenCar.printDetails()\n",
    "# greenCar.printDetails(greenCar)\n",
    "redcar=Car()\n",
    "redcar.printDetails()\n",
    "# redcar.printDetails(redcar)"
   ]
  },
  {
   "cell_type": "code",
   "execution_count": 24,
   "metadata": {},
   "outputs": [],
   "source": [
    "greenCar.color=\"green\""
   ]
  },
  {
   "cell_type": "code",
   "execution_count": 25,
   "metadata": {},
   "outputs": [
    {
     "name": "stdout",
     "output_type": "stream",
     "text": [
      "True\n"
     ]
    }
   ],
   "source": [
    "redcar=greenCar\n",
    "print(redcar is greenCar)"
   ]
  },
  {
   "cell_type": "code",
   "execution_count": 26,
   "metadata": {},
   "outputs": [
    {
     "data": {
      "text/plain": [
       "'black'"
      ]
     },
     "execution_count": 26,
     "metadata": {},
     "output_type": "execute_result"
    }
   ],
   "source": [
    "greenCar.color=\"black\"\n",
    "redcar.color"
   ]
  },
  {
   "cell_type": "code",
   "execution_count": 27,
   "metadata": {},
   "outputs": [
    {
     "name": "stdout",
     "output_type": "stream",
     "text": [
      "semi black\n"
     ]
    }
   ],
   "source": [
    "greenCar.printDetails()# greenCar.printDetails(greenCar)\n",
    "# print(Car.color)"
   ]
  },
  {
   "cell_type": "code",
   "execution_count": 28,
   "metadata": {},
   "outputs": [
    {
     "name": "stdout",
     "output_type": "stream",
     "text": [
      "semi red\n"
     ]
    }
   ],
   "source": [
    "redCar=Car()\n",
    "redCar.color=\"red\"\n",
    "redCar.printDetails()"
   ]
  },
  {
   "cell_type": "code",
   "execution_count": null,
   "metadata": {},
   "outputs": [],
   "source": []
  },
  {
   "cell_type": "code",
   "execution_count": 29,
   "metadata": {},
   "outputs": [],
   "source": [
    "class Employee:\n",
    "    def __init__(self):\n",
    "      print(\" This is constructor\")# this is constructor\n",
    "      self.name = \"None\"\n",
    "      self.salary = 100\n",
    "      self.age=10\n",
    "    def displayName(self):\n",
    "        print (\"Employee \",self.name)\n",
    "    def displaydetails(self):\n",
    "      print (\"Name : \", self.name,  \", Salary: \", self.salary, \", age: \", self.age)\n",
    "    def increaseSalary(self):\n",
    "      self.salary += 500\n",
    "      print (self.salary)\n",
    "    "
   ]
  },
  {
   "cell_type": "markdown",
   "metadata": {},
   "source": [
    "Explanation of the Python class `Employee` you provided:\n",
    "\n",
    "### Code:\n",
    "\n",
    "```python\n",
    "class Employee:\n",
    "    def __init__(self):\n",
    "        print(\"This is constructor\")  # This is the constructor\n",
    "        self.name = \"None\"\n",
    "        self.salary = 100\n",
    "        self.age = 10\n",
    "\n",
    "    def displayName(self):\n",
    "        print(\"Employee\", self.name)\n",
    "\n",
    "    def displaydetails(self):\n",
    "        print(\"Name:\", self.name, \", Salary:\", self.salary, \", age:\", self.age)\n",
    "\n",
    "    def increaseSalary(self):\n",
    "        self.salary += 500\n",
    "        print(self.salary)\n",
    "```\n",
    "\n",
    "### Explanation:\n",
    "\n",
    "1. **Class Definition:**\n",
    "\n",
    "   - The `class Employee:` defines a class called `Employee`. Classes in Python are blueprints for creating objects. Each object created from a class is an instance of that class.\n",
    "\n",
    "2. **`__init__(self)` (The Constructor):**\n",
    "\n",
    "   - The method `__init__` is a special method in Python, often referred to as the **constructor**. It is automatically called when an object of the class is created.\n",
    "   - The constructor initializes the object's properties (in this case, `name`, `salary`, and `age`).\n",
    "   - Inside the constructor:\n",
    "     - `self.name` is set to `\"None\"`.\n",
    "     - `self.salary` is set to `100`.\n",
    "     - `self.age` is set to `10`.\n",
    "   - `self` is a reference to the current instance of the class. It allows the instance to access its own attributes and methods.\n",
    "   - The line `print(\"This is constructor\")` gets executed whenever a new `Employee` object is created, printing the message to the console.\n",
    "\n",
    "3. **`displayName(self)` Method:**\n",
    "   \n",
    "   - This method prints the name of the employee. It uses the `self.name` attribute to access the name stored in the instance of the class.\n",
    "   - `self` ensures that the method is working with the specific instance of the object (since different employees might have different names).\n",
    "\n",
    "   ```python\n",
    "   def displayName(self):\n",
    "       print(\"Employee\", self.name)\n",
    "   ```\n",
    "\n",
    "   - Example output: If `self.name` is `\"None\"`, it will print:\n",
    "     ```\n",
    "     Employee None\n",
    "     ```\n",
    "\n",
    "4. **`displaydetails(self)` Method:**\n",
    "\n",
    "   - This method displays the employee's full details, including the `name`, `salary`, and `age`.\n",
    "   - It accesses the instance variables `self.name`, `self.salary`, and `self.age` to print their values.\n",
    "\n",
    "   ```python\n",
    "   def displaydetails(self):\n",
    "       print(\"Name:\", self.name, \", Salary:\", self.salary, \", age:\", self.age)\n",
    "   ```\n",
    "\n",
    "   - Example output: If the default values are used, it will print:\n",
    "     ```\n",
    "     Name: None , Salary: 100 , age: 10\n",
    "     ```\n",
    "\n",
    "5. **`increaseSalary(self)` Method:**\n",
    "\n",
    "   - This method increases the employee's salary by 500 units each time it is called.\n",
    "   - It modifies the instance variable `self.salary` and adds 500 to its current value.\n",
    "   - After increasing the salary, it prints the updated salary.\n",
    "\n",
    "   ```python\n",
    "   def increaseSalary(self):\n",
    "       self.salary += 500\n",
    "       print(self.salary)\n",
    "   ```\n",
    "\n",
    "   - Example output: If `self.salary` starts at 100, calling this method will print:\n",
    "     ```\n",
    "     600\n",
    "     ```\n",
    "\n",
    "### How This Class Works:\n",
    "\n",
    "1. **Creating an Object:**\n",
    "   When you create an object from the `Employee` class, the constructor (`__init__`) is called automatically. For example:\n",
    "   \n",
    "   ```python\n",
    "   emp1 = Employee()\n",
    "   ```\n",
    "   \n",
    "   This will output:\n",
    "   ```\n",
    "   This is constructor\n",
    "   ```\n",
    "\n",
    "2. **Displaying the Employee's Name:**\n",
    "   You can call the `displayName()` method to display the name of the employee:\n",
    "   \n",
    "   ```python\n",
    "   emp1.displayName()\n",
    "   ```\n",
    "   \n",
    "   Output:\n",
    "   ```\n",
    "   Employee None\n",
    "   ```\n",
    "\n",
    "3. **Displaying the Employee's Details:**\n",
    "   The `displaydetails()` method can be called to show the name, salary, and age of the employee:\n",
    "   \n",
    "   ```python\n",
    "   emp1.displaydetails()\n",
    "   ```\n",
    "   \n",
    "   Output:\n",
    "   ```\n",
    "   Name: None , Salary: 100 , age: 10\n",
    "   ```\n",
    "\n",
    "4. **Increasing the Employee's Salary:**\n",
    "   You can increase the salary of the employee by calling the `increaseSalary()` method:\n",
    "   \n",
    "   ```python\n",
    "   emp1.increaseSalary()\n",
    "   ```\n",
    "   \n",
    "   Output:\n",
    "   ```\n",
    "   600\n",
    "   ```\n",
    "\n",
    "   If you call `increaseSalary()` again, the salary will increase by another 500, making it 1100.\n",
    "\n",
    "### Key Points:\n",
    "\n",
    "- **Class Attributes vs Instance Attributes:**\n",
    "  - `self.name`, `self.salary`, and `self.age` are **instance attributes**, meaning that each instance of the `Employee` class can have its own values for these attributes.\n",
    "  \n",
    "- **Methods:**\n",
    "  - The class has three methods: `displayName()`, `displaydetails()`, and `increaseSalary()`. These methods operate on the instance of the class and modify or display the instance's attributes.\n",
    "\n",
    "This is a basic implementation of an `Employee` class that models some fundamental behaviors like name, salary, and the ability to increase the salary."
   ]
  },
  {
   "cell_type": "code",
   "execution_count": 30,
   "metadata": {},
   "outputs": [
    {
     "name": "stdout",
     "output_type": "stream",
     "text": [
      " This is constructor\n"
     ]
    }
   ],
   "source": [
    "emp1=Employee()"
   ]
  },
  {
   "cell_type": "code",
   "execution_count": 31,
   "metadata": {},
   "outputs": [
    {
     "name": "stdout",
     "output_type": "stream",
     "text": [
      "None\n",
      "100\n",
      "10\n"
     ]
    }
   ],
   "source": [
    "print(emp1.name)\n",
    "print(emp1.salary)\n",
    "print(emp1.age)\n",
    "# emp1.displayName()\n",
    "# emp1.increaseSalary()"
   ]
  },
  {
   "cell_type": "code",
   "execution_count": 32,
   "metadata": {},
   "outputs": [
    {
     "name": "stdout",
     "output_type": "stream",
     "text": [
      "ashok\n",
      "2000\n",
      "30\n",
      "Employee  ashok\n"
     ]
    }
   ],
   "source": [
    "emp1.name=\"ashok\"\n",
    "emp1.age=30\n",
    "emp1.salary=2000\n",
    "print(emp1.name)\n",
    "print(emp1.salary)\n",
    "print(emp1.age)\n",
    "emp1.displayName()"
   ]
  },
  {
   "cell_type": "code",
   "execution_count": 33,
   "metadata": {},
   "outputs": [
    {
     "name": "stdout",
     "output_type": "stream",
     "text": [
      " This is constructor\n",
      "rajan\n",
      "3000\n",
      "35\n"
     ]
    }
   ],
   "source": [
    "emp2=Employee()\n",
    "emp2.name=\"rajan\"\n",
    "emp2.age=35\n",
    "emp2.salary=3000\n",
    "print(emp2.name)\n",
    "print(emp2.salary)\n",
    "print(emp2.age)"
   ]
  },
  {
   "cell_type": "code",
   "execution_count": 34,
   "metadata": {},
   "outputs": [
    {
     "name": "stdout",
     "output_type": "stream",
     "text": [
      "<__main__.Employee object at 0x000002A07D119E50>\n",
      "<__main__.Employee object at 0x000002A07D11AB70>\n"
     ]
    }
   ],
   "source": [
    "print(emp1)\n",
    "print(emp2)"
   ]
  },
  {
   "cell_type": "code",
   "execution_count": 35,
   "metadata": {},
   "outputs": [],
   "source": [
    "class Employee:\n",
    "    def __init__(self,x,y,z):\n",
    "      self.name = x\n",
    "      self.salary = y\n",
    "      self.age=z\n",
    "    def displaydetails(self):\n",
    "      print (\"Name : \", self.name,  \", Salary: \", self.salary, \", age: \", self.age)"
   ]
  },
  {
   "cell_type": "code",
   "execution_count": 36,
   "metadata": {},
   "outputs": [
    {
     "name": "stdout",
     "output_type": "stream",
     "text": [
      "Name :  raghav , Salary:  2000 , age:  20\n",
      "Name :  aakash , Salary:  4440 , age:  14\n"
     ]
    }
   ],
   "source": [
    "emp1=Employee(\"raghav\", 2000,20)\n",
    "emp2=Employee(\"aakash\", 4440, 14)\n",
    "emp1.displaydetails()\n",
    "emp2.displaydetails()"
   ]
  },
  {
   "cell_type": "code",
   "execution_count": 37,
   "metadata": {},
   "outputs": [],
   "source": [
    "class Employee:\n",
    "   count=0\n",
    "   def __init__(self,x,y,z ):\n",
    "      print(\" This is constructor\")# this is constructor\n",
    "      self.name = x\n",
    "      self.salary = y\n",
    "      self.age=z\n",
    "      Employee.count+=1\n",
    "#    def __str__(self):\n",
    "#      self.age=100\n",
    "#      return \"I am Employee and my name is  \" +self.name\n",
    "   def displayName(self):\n",
    "     print (\"Employee \",self.name)\n",
    "   def displaydetails(self):\n",
    "      print (\"Name : \", self.name,  \", Salary: \", self.salary, \", age: \", self.age)\n",
    "   def increaseSalary(self):\n",
    "      self.salary += 1500\n",
    "      print (self.salary)"
   ]
  },
  {
   "cell_type": "code",
   "execution_count": 38,
   "metadata": {},
   "outputs": [
    {
     "name": "stdout",
     "output_type": "stream",
     "text": [
      " This is constructor\n",
      "Employee  raghav\n",
      "Employee.count 1\n",
      "1\n",
      " This is constructor\n",
      "2\n",
      "10\n",
      "2\n"
     ]
    }
   ],
   "source": [
    "emp1=Employee(\"raghav\", 2000, 14)\n",
    "emp1.displayName()\n",
    "# print(emp1.__str__())\n",
    "# print(emp1)\n",
    "# print(emp1.age)\n",
    "# emp1.__str__()\n",
    "print (\"Employee.count\",Employee.count)\n",
    "print(emp1.count)\n",
    "emp2=Employee(\"raghav1\", 2000, 14)\n",
    "print(emp2.count)\n",
    "emp2.count=10\n",
    "# emp2.deprtment=\"abc\"\n",
    "# print(emp1.department)\n",
    "# print(emp2.deprtment)\n",
    "print(emp2.count)\n",
    "print(Employee.count)\n",
    "# # print(dir(emp1))\n",
    "# emp3=Employee(\"raghav1\", 2000, 14)\n",
    "# print(emp2.count)\n",
    "# print(Employee.count)\n",
    "# print(emp1.count)\n",
    "# print()"
   ]
  },
  {
   "cell_type": "code",
   "execution_count": 39,
   "metadata": {},
   "outputs": [
    {
     "name": "stdout",
     "output_type": "stream",
     "text": [
      " This is constructor\n"
     ]
    }
   ],
   "source": [
    "emp2=Employee(\"aakash\", 5000, 15)"
   ]
  },
  {
   "cell_type": "code",
   "execution_count": 40,
   "metadata": {},
   "outputs": [
    {
     "name": "stdout",
     "output_type": "stream",
     "text": [
      "Employee  raghav\n"
     ]
    }
   ],
   "source": [
    "emp1.displayName()"
   ]
  },
  {
   "cell_type": "code",
   "execution_count": 41,
   "metadata": {},
   "outputs": [
    {
     "name": "stdout",
     "output_type": "stream",
     "text": [
      "6500\n"
     ]
    }
   ],
   "source": [
    "\n",
    "emp2.increaseSalary()\n",
    "# print(emp1)"
   ]
  },
  {
   "cell_type": "code",
   "execution_count": 42,
   "metadata": {},
   "outputs": [
    {
     "name": "stdout",
     "output_type": "stream",
     "text": [
      "3\n"
     ]
    }
   ],
   "source": [
    "print(Employee.count)"
   ]
  },
  {
   "cell_type": "code",
   "execution_count": 43,
   "metadata": {},
   "outputs": [
    {
     "data": {
      "text/plain": [
       "7"
      ]
     },
     "execution_count": 43,
     "metadata": {},
     "output_type": "execute_result"
    }
   ],
   "source": [
    "emp2.age = 7  # Add an 'age' attribute.\n",
    "emp2.age"
   ]
  },
  {
   "cell_type": "code",
   "execution_count": 44,
   "metadata": {},
   "outputs": [
    {
     "data": {
      "text/plain": [
       "8"
      ]
     },
     "execution_count": 44,
     "metadata": {},
     "output_type": "execute_result"
    }
   ],
   "source": [
    "emp1.age = 8  # Modify 'age' attribute.\n",
    "emp1.age"
   ]
  },
  {
   "cell_type": "code",
   "execution_count": 45,
   "metadata": {},
   "outputs": [
    {
     "name": "stdout",
     "output_type": "stream",
     "text": [
      "<__main__.Employee object at 0x000002A07D0E77D0>\n"
     ]
    }
   ],
   "source": [
    "print(emp1)"
   ]
  },
  {
   "cell_type": "code",
   "execution_count": 46,
   "metadata": {},
   "outputs": [
    {
     "name": "stdout",
     "output_type": "stream",
     "text": [
      "True\n"
     ]
    },
    {
     "data": {
      "text/plain": [
       "8"
      ]
     },
     "execution_count": 46,
     "metadata": {},
     "output_type": "execute_result"
    }
   ],
   "source": [
    "x=hasattr(emp1, 'age')    # Returns true if 'age' attribute exists\n",
    "print(x)\n",
    "getattr(emp1, 'age')    # Returns value of 'age' attribute"
   ]
  },
  {
   "cell_type": "code",
   "execution_count": 47,
   "metadata": {},
   "outputs": [
    {
     "data": {
      "text/plain": [
       "18"
      ]
     },
     "execution_count": 47,
     "metadata": {},
     "output_type": "execute_result"
    }
   ],
   "source": [
    "setattr(emp1, 'age1', 18) # Set attribute 'age' at 8 emp1.age=8\n",
    "getattr(emp1, 'age1')    # Returns value of 'age' attribute    # Returns value of 'age' attribute"
   ]
  },
  {
   "cell_type": "code",
   "execution_count": 48,
   "metadata": {},
   "outputs": [
    {
     "ename": "AttributeError",
     "evalue": "'Employee' object has no attribute 'age'",
     "output_type": "error",
     "traceback": [
      "\u001b[1;31m---------------------------------------------------------------------------\u001b[0m",
      "\u001b[1;31mAttributeError\u001b[0m                            Traceback (most recent call last)",
      "Cell \u001b[1;32mIn[48], line 2\u001b[0m\n\u001b[0;32m      1\u001b[0m \u001b[38;5;28mdelattr\u001b[39m(emp1, \u001b[38;5;124m'\u001b[39m\u001b[38;5;124mage\u001b[39m\u001b[38;5;124m'\u001b[39m)    \u001b[38;5;66;03m# Delete attribute 'age'\u001b[39;00m\n\u001b[1;32m----> 2\u001b[0m x\u001b[38;5;241m=\u001b[39m \u001b[38;5;28mgetattr\u001b[39m(emp1, \u001b[38;5;124m'\u001b[39m\u001b[38;5;124mage\u001b[39m\u001b[38;5;124m'\u001b[39m)    \u001b[38;5;66;03m# Returns value of 'age' attribute\u001b[39;00m\n\u001b[0;32m      3\u001b[0m \u001b[38;5;28mprint\u001b[39m(x)\n",
      "\u001b[1;31mAttributeError\u001b[0m: 'Employee' object has no attribute 'age'"
     ]
    }
   ],
   "source": [
    "delattr(emp1, 'age')    # Delete attribute 'age'\n",
    "x= getattr(emp1, 'age')    # Returns value of 'age' attribute\n",
    "print(x)\n",
    "    # Returns value of 'age' attribute    # Returns value of 'age' attribute\n"
   ]
  },
  {
   "cell_type": "code",
   "execution_count": 52,
   "metadata": {},
   "outputs": [
    {
     "data": {
      "text/plain": [
       "18"
      ]
     },
     "execution_count": 52,
     "metadata": {},
     "output_type": "execute_result"
    }
   ],
   "source": [
    "setattr(emp1, 'age', 18) # Set attribute 'age' at 8 emp1.age=8\n",
    "getattr(emp1, 'age')\n"
   ]
  },
  {
   "cell_type": "code",
   "execution_count": 54,
   "metadata": {},
   "outputs": [],
   "source": [
    "class Fraction:\n",
    "    def __init__(self, num, den):\n",
    "        self.num = num\n",
    "        self.den = den\n",
    "\n",
    "    def __str__(self):\n",
    "#         return '(' + str(self.num) + '/' + str(self.den) + ')'\n",
    "        return \" i will not print anything\"\n",
    "#         return 6# should return string only\n",
    "\n"
   ]
  },
  {
   "cell_type": "code",
   "execution_count": 56,
   "metadata": {},
   "outputs": [
    {
     "name": "stdout",
     "output_type": "stream",
     "text": [
      " i will not print anything\n",
      " i will not print anything\n",
      "<class '__main__.Fraction'>\n"
     ]
    }
   ],
   "source": [
    "f = Fraction(1,2)\n",
    "t=Fraction(10,34)\n",
    "# print(t.__dict__)\n",
    "print(f)\n",
    "print(t)\n",
    "print(Fraction)"
   ]
  },
  {
   "cell_type": "code",
   "execution_count": 58,
   "metadata": {},
   "outputs": [],
   "source": [
    "class Example:\n",
    "    staticVariable = 5 # Access through class"
   ]
  },
  {
   "cell_type": "code",
   "execution_count": 60,
   "metadata": {},
   "outputs": [
    {
     "data": {
      "text/plain": [
       "5"
      ]
     },
     "execution_count": 60,
     "metadata": {},
     "output_type": "execute_result"
    }
   ],
   "source": [
    "Example.staticVariable"
   ]
  },
  {
   "cell_type": "code",
   "execution_count": 62,
   "metadata": {},
   "outputs": [
    {
     "data": {
      "text/plain": [
       "5"
      ]
     },
     "execution_count": 62,
     "metadata": {},
     "output_type": "execute_result"
    }
   ],
   "source": [
    "# Access through an instance\n",
    "instance = Example()\n",
    "instance.staticVariable # still 5"
   ]
  },
  {
   "cell_type": "code",
   "execution_count": 64,
   "metadata": {},
   "outputs": [
    {
     "data": {
      "text/plain": [
       "6"
      ]
     },
     "execution_count": 64,
     "metadata": {},
     "output_type": "execute_result"
    }
   ],
   "source": [
    "# # Change within an instance\n",
    "instance.staticVariable = 6\n",
    "instance.staticVariable # 6"
   ]
  },
  {
   "cell_type": "code",
   "execution_count": 66,
   "metadata": {},
   "outputs": [
    {
     "data": {
      "text/plain": [
       "5"
      ]
     },
     "execution_count": 66,
     "metadata": {},
     "output_type": "execute_result"
    }
   ],
   "source": [
    "Example.staticVariable #6"
   ]
  },
  {
   "cell_type": "code",
   "execution_count": 68,
   "metadata": {},
   "outputs": [
    {
     "data": {
      "text/plain": [
       "7"
      ]
     },
     "execution_count": 68,
     "metadata": {},
     "output_type": "execute_result"
    }
   ],
   "source": [
    "Example.staticVariable =7\n",
    "Example.staticVariable"
   ]
  },
  {
   "cell_type": "code",
   "execution_count": 70,
   "metadata": {},
   "outputs": [
    {
     "data": {
      "text/plain": [
       "6"
      ]
     },
     "execution_count": 70,
     "metadata": {},
     "output_type": "execute_result"
    }
   ],
   "source": [
    "instance.staticVariable"
   ]
  },
  {
   "cell_type": "code",
   "execution_count": 72,
   "metadata": {},
   "outputs": [],
   "source": [
    "instance1 = Example()"
   ]
  },
  {
   "cell_type": "code",
   "execution_count": 74,
   "metadata": {},
   "outputs": [
    {
     "data": {
      "text/plain": [
       "7"
      ]
     },
     "execution_count": 74,
     "metadata": {},
     "output_type": "execute_result"
    }
   ],
   "source": [
    "instance1.staticVariable"
   ]
  },
  {
   "cell_type": "code",
   "execution_count": 76,
   "metadata": {},
   "outputs": [],
   "source": [
    "class Parent:\n",
    "    '''this is parent class'''\n",
    "    parentAttr = 100\n",
    "    def __init__(self):\n",
    "        print (\"Calling parent constructor\")\n",
    "    def parentMethod(self):\n",
    "        '''this print calling parent method'''\n",
    "        print('Calling parent method')\n",
    "    def onlyParentAttr(self,attr):\n",
    "        Parent.parentAttr = attr\n",
    "        print (\"Parent attribute :\", Parent.parentAttr)\n",
    "    def setAttr(self, attr):\n",
    "        Parent.parentAttr = attr\n",
    "        self.parentAttr = attr\n",
    "    def getAttr(self):\n",
    "        print (\"Parent attribute :\", Parent.parentAttr)\n",
    "        print (\"Object attribute :\", self.parentAttr)"
   ]
  },
  {
   "cell_type": "code",
   "execution_count": 78,
   "metadata": {},
   "outputs": [
    {
     "name": "stdout",
     "output_type": "stream",
     "text": [
      "Calling parent constructor\n",
      "Parent attribute : 5000\n",
      "Object attribute : 5000\n",
      "5000\n",
      "Calling parent constructor\n"
     ]
    }
   ],
   "source": [
    "obj=Parent()\n",
    "obj.setAttr(\"5000\")\n",
    "obj.getAttr()\n",
    "print(Parent.parentAttr)\n",
    "obj1=Parent()\n",
    "obj1.setAttr(5000)"
   ]
  },
  {
   "cell_type": "code",
   "execution_count": null,
   "metadata": {},
   "outputs": [],
   "source": [
    "obj.onlyParentAttr(122)"
   ]
  },
  {
   "cell_type": "code",
   "execution_count": null,
   "metadata": {},
   "outputs": [],
   "source": [
    "print(dir(obj)) "
   ]
  },
  {
   "cell_type": "code",
   "execution_count": null,
   "metadata": {},
   "outputs": [],
   "source": [
    "help(Parent)"
   ]
  },
  {
   "cell_type": "code",
   "execution_count": null,
   "metadata": {},
   "outputs": [],
   "source": [
    "print(obj.__class__)"
   ]
  },
  {
   "cell_type": "code",
   "execution_count": null,
   "metadata": {},
   "outputs": [],
   "source": [
    "l=[]\n",
    "print(l.__class__)"
   ]
  },
  {
   "cell_type": "code",
   "execution_count": null,
   "metadata": {},
   "outputs": [],
   "source": [
    "print(obj.__module__)"
   ]
  },
  {
   "cell_type": "markdown",
   "metadata": {},
   "source": [
    "### ASSIGNMENT\n",
    "Python Program to Find the Area of a Rectangle Using Classes<br>\n",
    "Python Program to Append, Delete and Display Elements of a List Using Classes<br>\n",
    "Python Program to Create a Class and Compute the Area and the Perimeter of the Circle<br>\n",
    "Python Program to compare 2 objects"
   ]
  },
  {
   "cell_type": "code",
   "execution_count": null,
   "metadata": {},
   "outputs": [],
   "source": [
    "class Employee:\n",
    "   def __init__(self,x,y,z ):\n",
    "      print(\" This is constructor\")# this is constructor\n",
    "      self.name = x\n",
    "      self.salary = y\n",
    "      self.age=z\n",
    "     \n",
    "   def displaydetails(self):\n",
    "      print (\"Name : \", self.name,  \", Salary: \", self.salary, \", age: \", self.age)\n",
    "   def compare(self,x):\n",
    "      if self.salary == x.salary:\n",
    "            print(\"salary is equal\")\n",
    "      elif self.salary > x.salary:\n",
    "           print(\"highre salary employee\", self.name)\n",
    "      elif self.salary < x.salary:\n",
    "           print(\"higere salary employee\", x.name)           "
   ]
  },
  {
   "cell_type": "code",
   "execution_count": null,
   "metadata": {},
   "outputs": [],
   "source": [
    "emp1=Employee(\"aakash\", 15000, 15)\n",
    "emp2=Employee(\"abc\", 5000, 15)\n",
    "emp1.compare(emp2)\n",
    "# emp2.compare(emp1)"
   ]
  },
  {
   "cell_type": "code",
   "execution_count": null,
   "metadata": {},
   "outputs": [],
   "source": [
    "emp1.compare(emp2)\n",
    "# print(emp1)\n",
    "# print(emp2)"
   ]
  },
  {
   "cell_type": "code",
   "execution_count": null,
   "metadata": {},
   "outputs": [],
   "source": [
    "emp1.compare(emp2)"
   ]
  },
  {
   "cell_type": "code",
   "execution_count": null,
   "metadata": {},
   "outputs": [],
   "source": [
    "print(emp1)\n",
    "print(emp2)"
   ]
  },
  {
   "cell_type": "code",
   "execution_count": null,
   "metadata": {},
   "outputs": [],
   "source": [
    "l=[1,2,3]\n",
    "print(l)\n",
    "dir(l)"
   ]
  },
  {
   "cell_type": "code",
   "execution_count": null,
   "metadata": {},
   "outputs": [],
   "source": [
    "help(l)"
   ]
  },
  {
   "cell_type": "code",
   "execution_count": null,
   "metadata": {},
   "outputs": [],
   "source": [
    "class Employee:\n",
    "    \n",
    "    def __init__(self,x,y,z ):\n",
    "        self.name=x\n",
    "        self.age=y\n",
    "        self.salary=z\n",
    " \n",
    "    def setobj(self,n,a,s):\n",
    "        self.name=n\n",
    "        self.age=a\n",
    "        self.salary=s\n",
    "    def displaydetails(self):\n",
    "      print (\"Name : \", self.name,  \", Salary: \", self.salary, \", age: \", self.age)"
   ]
  },
  {
   "cell_type": "code",
   "execution_count": null,
   "metadata": {},
   "outputs": [],
   "source": [
    "emp4=Employee(\"Sachin\",34,6000)\n",
    "emp4.displaydetails()"
   ]
  },
  {
   "cell_type": "code",
   "execution_count": null,
   "metadata": {},
   "outputs": [],
   "source": [
    "emp3=Employee()\n",
    "emp3.setobj(\"richard\",33,5000)\n",
    "emp3.displaydetails()"
   ]
  },
  {
   "cell_type": "code",
   "execution_count": null,
   "metadata": {},
   "outputs": [],
   "source": [
    "emp1=Employee()\n",
    "emp1.displaydetails()"
   ]
  },
  {
   "cell_type": "code",
   "execution_count": null,
   "metadata": {},
   "outputs": [],
   "source": [
    "emp1.name=\"peter\"\n",
    "emp1.age=100\n",
    "emp1.salary=8000"
   ]
  },
  {
   "cell_type": "code",
   "execution_count": null,
   "metadata": {},
   "outputs": [],
   "source": [
    "emp1.displaydetails()"
   ]
  },
  {
   "cell_type": "code",
   "execution_count": null,
   "metadata": {},
   "outputs": [],
   "source": [
    "emp2=Employee()\n",
    "emp2.name=\"marc\"\n",
    "emp2.age=23\n",
    "emp2.salary=18000\n",
    "emp2.displaydetails()"
   ]
  },
  {
   "cell_type": "code",
   "execution_count": null,
   "metadata": {},
   "outputs": [],
   "source": [
    "class Server:\n",
    "   def __init__(self,x,y,z ):\n",
    "      print(\" Creating server object\")# this is constructor\n",
    "      self.ip = x\n",
    "      self.CPU = y\n",
    "      self.host_type=z\n",
    "   def displaydetails(self):\n",
    "      print (\"IP : \", self.ip,  \", host_name: \", self.CPU, \", type: \", self.host_type)\n",
    "   def compareserver(self,y):\n",
    "      if (self.CPU==y.CPU and self.host_type==y.host_type):\n",
    "            print(\"Servers are same\")\n",
    "      else :\n",
    "        print(\"Servers are different\")  \n",
    "\n",
    "staging_server=Server(\"192.168.1.10\",\"1GHz\",\"staging\")\n",
    "production_server=Server(\"192.168.1.11\",\"1GHz\",\"production\")\n",
    "production_server1=Server(\"192.168.1.12\",\"1GHz\",\"staging\")\n",
    "staging_server.compareserver(production_server)\n",
    "staging_server.compareserver(production_server1)            "
   ]
  },
  {
   "cell_type": "code",
   "execution_count": null,
   "metadata": {},
   "outputs": [],
   "source": [
    "import socket\n",
    "    \n",
    "remote_host = 'www.python.org'\n",
    "ip=socket.gethostbyname(remote_host)\n",
    "# print (\"IP address of %s: %s\" %(remote_host,socket.gethostbyname(remote_host)))\n",
    "#     except socket.error as err_msg:\n",
    "#         print (\"%s: %s\" %(remote_host, err_msg))\n",
    "# get_remote_machine_info()\n",
    "print(ip)\n"
   ]
  },
  {
   "cell_type": "code",
   "execution_count": null,
   "metadata": {},
   "outputs": [],
   "source": []
  }
 ],
 "metadata": {
  "kernelspec": {
   "display_name": "Python 3 (ipykernel)",
   "language": "python",
   "name": "python3"
  },
  "language_info": {
   "codemirror_mode": {
    "name": "ipython",
    "version": 3
   },
   "file_extension": ".py",
   "mimetype": "text/x-python",
   "name": "python",
   "nbconvert_exporter": "python",
   "pygments_lexer": "ipython3",
   "version": "3.12.4"
  }
 },
 "nbformat": 4,
 "nbformat_minor": 4
}
