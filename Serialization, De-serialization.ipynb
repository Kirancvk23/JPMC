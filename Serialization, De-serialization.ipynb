{
 "cells": [
  {
   "cell_type": "markdown",
   "id": "aaf36586-e705-4197-847f-95048ac5bb99",
   "metadata": {},
   "source": [
    "### Serialization (converting Python objects to a format that can be easily stored or transmitted) and deserialization (converting serialized data back into Python objects) in Python. Common formats for serialization include JSON, Pickle, and YAML."
   ]
  },
  {
   "cell_type": "markdown",
   "id": "eb7745fd-ed6f-418b-932f-6c0dc7dce35f",
   "metadata": {},
   "source": [
    "**Serialization** and **Deserialization** are essential concepts in data processing, especially when dealing with file systems, databases, network communications, or APIs. They are processes used to convert data between different forms to make it easier to store, transmit, or recreate.\n",
    "\n",
    "### 1. **Serialization**:\n",
    "\n",
    "**Serialization** is the process of converting a Python object (such as a dictionary, list, or custom class) into a format that can be easily saved to a file, sent over a network, or stored in a database. The goal of serialization is to transform an in-memory object into a flat format, such as a byte stream, JSON, XML, or YAML, which can then be reconstructed later.\n",
    "\n",
    "#### Common formats for serialization:\n",
    "- **JSON (JavaScript Object Notation)**: A lightweight data-interchange format, widely used in web APIs. It's human-readable and language-independent.\n",
    "- **Pickle**: A Python-specific serialization format that allows complex objects (like classes, functions, etc.) to be serialized.\n",
    "- **XML (eXtensible Markup Language)**: A markup language that defines a set of rules for encoding documents in a format that is both human-readable and machine-readable.\n",
    "- **YAML (YAML Ain't Markup Language)**: A human-readable data serialization format often used in configuration files.\n",
    "\n",
    "#### Why Serialization is Important:\n",
    "- **Storage**: To save the state of objects (like dictionaries or custom objects) in a file or a database.\n",
    "- **Communication**: To send data over a network (e.g., between a client and a server).\n",
    "- **Interoperability**: To exchange data between different programs or systems that may not share the same object structure or memory layout.\n",
    "\n",
    "### 2. **Deserialization**:\n",
    "\n",
    "**Deserialization** is the opposite process, where the serialized format (such as a JSON string, a byte stream, or an XML document) is converted back into an in-memory Python object. This allows the program to reconstruct complex objects from storage or from data received over a network.\n",
    "\n",
    "#### Common Use Cases for Deserialization:\n",
    "- **Reading stored data**: Retrieving a Python object from a file that was saved in a serialized format.\n",
    "- **API response handling**: Converting a JSON response from an API into a Python dictionary for further processing.\n",
    "- **Inter-process communication**: Reconstructing Python objects from serialized data transmitted between different processes or machines.\n",
    "\n",
    "### **Serialization-Deserialization Process Flow:**\n",
    "\n",
    "1. **Serialization (Object → Serialized Format)**:\n",
    "    - The in-memory Python object (e.g., a list, dictionary, or class) is converted into a specific format like JSON or Pickle.\n",
    "    - This format is then stored in a file, sent over the network, or kept in a database.\n",
    "\n",
    "2. **Deserialization (Serialized Format → Object)**:\n",
    "    - The stored or transmitted serialized format is read and converted back into a Python object.\n",
    "    - The reconstructed object can be used as if it were created during the program's runtime.\n",
    "\n",
    "### Example Workflow with JSON:\n",
    "\n",
    "1. **Serialization**: Converting a Python dictionary into a JSON string to send over the network.\n",
    "\n",
    "```python\n",
    "import json\n",
    "\n",
    "data = {'name': 'Alice', 'age': 30, 'city': 'New York'}\n",
    "json_data = json.dumps(data)  # Serialize Python dictionary to JSON string\n",
    "print(json_data)  # '{\"name\": \"Alice\", \"age\": 30, \"city\": \"New York\"}'\n",
    "```\n",
    "\n",
    "2. **Deserialization**: Converting the received JSON string back into a Python dictionary.\n",
    "\n",
    "```python\n",
    "python_data = json.loads(json_data)  # Deserialize JSON string back to Python dictionary\n",
    "print(python_data)  # {'name': 'Alice', 'age': 30, 'city': 'New York'}\n",
    "```\n",
    "\n",
    "### Common Scenarios:\n",
    "\n",
    "- **Web APIs**: Most REST APIs use JSON to send and receive data. A client sends a serialized JSON payload, and the server responds with serialized JSON data.\n",
    "- **Saving Application State**: Serialization is often used in saving the current state of an application (e.g., game progress) to a file so that it can be reloaded later.\n",
    "- **Data Caching**: Serialized data is frequently used to store cached data in databases or in-memory caches like Redis.\n",
    "- **Machine Learning**: Models or objects in machine learning workflows are often serialized (e.g., using `Pickle`) to save them for reuse later without retraining the model.\n",
    "\n",
    "### Pros and Cons of Common Serialization Formats:\n",
    "\n",
    "| Format  | Pros | Cons |\n",
    "|---------|------|------|\n",
    "| **JSON**  | Human-readable, widely supported, cross-platform | Limited to basic types (no custom Python objects), slower than binary formats |\n",
    "| **Pickle** | Can serialize complex Python objects (classes, functions) | Python-specific, not safe for untrusted data (potential security risk) |\n",
    "| **YAML**  | Human-readable, supports complex data structures | Not as fast as JSON, prone to parsing errors |\n",
    "| **XML**   | Highly structured, used in many legacy systems | Verbose, can be slow to parse and process |\n",
    "\n",
    "### Conclusion:\n",
    "- **Serialization** makes it possible to save and transmit data in a way that is portable and easier to store or send over the network.\n",
    "- **Deserialization** ensures that serialized data can be reconstructed into its original form, allowing for full restoration of objects.\n",
    "- It plays a crucial role in web applications, file handling, machine learning workflows, distributed systems, and more.\n",
    "\n",
    "Serialization and deserialization are key techniques to move data between different components, applications, or platforms, providing flexibility and interoperability in modern software systems."
   ]
  },
  {
   "cell_type": "markdown",
   "id": "6a299f08-e758-434c-af29-245517bb1596",
   "metadata": {},
   "source": [
    "### 1. Serialization and Deserialization with JSON"
   ]
  },
  {
   "cell_type": "code",
   "execution_count": 5,
   "id": "f3e38f23-b142-408c-8f4d-02c8ede54ab1",
   "metadata": {},
   "outputs": [
    {
     "name": "stdout",
     "output_type": "stream",
     "text": [
      "Serialized JSON: {\"name\": \"Alice\", \"age\": 30, \"city\": \"New York\"}\n",
      "Deserialized Python object: {'name': 'Alice', 'age': 30, 'city': 'New York'}\n"
     ]
    }
   ],
   "source": [
    "import json\n",
    "\n",
    "# Python dictionary\n",
    "data = {'name': 'Alice', 'age': 30, 'city': 'New York'}\n",
    "\n",
    "# Serialize to JSON (Convert Python object to JSON string)\n",
    "json_data = json.dumps(data)\n",
    "print(\"Serialized JSON:\", json_data)\n",
    "\n",
    "# Deserialize JSON back to Python dictionary\n",
    "python_data = json.loads(json_data)\n",
    "print(\"Deserialized Python object:\", python_data)\n"
   ]
  },
  {
   "cell_type": "markdown",
   "id": "63c4e903-e0e1-4453-95e7-30fc8ce9edfc",
   "metadata": {},
   "source": [
    "This code demonstrates how to use Python’s `json` module to **serialize** a Python object into a JSON string and then **deserialize** it back into a Python object.\n",
    "\n",
    "### Breakdown:\n",
    "\n",
    "1. **Importing the `json` module:**\n",
    "   ```python\n",
    "   import json\n",
    "   ```\n",
    "   - The `json` module is used to work with JSON data in Python, providing functions to convert between Python objects and JSON format.\n",
    "\n",
    "2. **Creating a Python dictionary:**\n",
    "   ```python\n",
    "   data = {'name': 'Alice', 'age': 30, 'city': 'New York'}\n",
    "   ```\n",
    "   - This is a Python dictionary that represents a person with the keys `'name'`, `'age'`, and `'city'`.\n",
    "\n",
    "3. **Serializing the Python dictionary to JSON:**\n",
    "   ```python\n",
    "   json_data = json.dumps(data)\n",
    "   print(\"Serialized JSON:\", json_data)\n",
    "   ```\n",
    "   - **`json.dumps(data)`**: Converts the Python dictionary (`data`) into a JSON string. This process is called **serialization** or **encoding**.\n",
    "   - The serialized JSON string (`json_data`) is then printed, which will look like a JSON object.\n",
    "\n",
    "   **Output:**\n",
    "   ```python\n",
    "   Serialized JSON: {\"name\": \"Alice\", \"age\": 30, \"city\": \"New York\"}\n",
    "   ```\n",
    "\n",
    "4. **Deserializing the JSON string back to a Python dictionary:**\n",
    "   ```python\n",
    "   python_data = json.loads(json_data)\n",
    "   print(\"Deserialized Python object:\", python_data)\n",
    "   ```\n",
    "   - **`json.loads(json_data)`**: Converts the JSON string back into a Python dictionary. This process is called **deserialization** or **decoding**.\n",
    "   - The deserialized Python object (`python_data`) is then printed.\n",
    "\n",
    "   **Output:**\n",
    "   ```python\n",
    "   Deserialized Python object: {'name': 'Alice', 'age': 30, 'city': 'New York'}\n",
    "   ```\n",
    "\n",
    "### Summary:\n",
    "- **Serialization**: Converts a Python object (like a dictionary) into a JSON string using `json.dumps()`.\n",
    "- **Deserialization**: Converts a JSON string back into a Python object using `json.loads()`."
   ]
  },
  {
   "cell_type": "markdown",
   "id": "16cfcb3f-d71c-4b67-9f97-5b7616b137bf",
   "metadata": {},
   "source": [
    "### 2. Serialization and Deserialization with Pickle"
   ]
  },
  {
   "cell_type": "code",
   "execution_count": 8,
   "id": "7e51717b-1033-435d-b63e-058895d579c9",
   "metadata": {},
   "outputs": [
    {
     "name": "stdout",
     "output_type": "stream",
     "text": [
      "Serialized Pickle data: b'\\x80\\x04\\x951\\x00\\x00\\x00\\x00\\x00\\x00\\x00}\\x94(\\x8c\\x04name\\x94\\x8c\\x03Bob\\x94\\x8c\\x03age\\x94K\\x19\\x8c\\x04city\\x94\\x8c\\rSan Francisco\\x94u.'\n",
      "Deserialized Python object: {'name': 'Bob', 'age': 25, 'city': 'San Francisco'}\n"
     ]
    }
   ],
   "source": [
    "import pickle\n",
    "\n",
    "# Python dictionary\n",
    "data = {'name': 'Bob', 'age': 25, 'city': 'San Francisco'}\n",
    "\n",
    "# Serialize to binary data using pickle\n",
    "pickle_data = pickle.dumps(data)\n",
    "print(\"Serialized Pickle data:\", pickle_data)\n",
    "\n",
    "# Deserialize Pickle data back to Python dictionary\n",
    "python_data = pickle.loads(pickle_data)\n",
    "print(\"Deserialized Python object:\", python_data)\n"
   ]
  },
  {
   "cell_type": "markdown",
   "id": "4eb38882-1c4b-4cc6-9550-4c87d127bdb2",
   "metadata": {},
   "source": [
    "This code demonstrates how to use Python’s `pickle` module to **serialize** a Python object into binary format and then **deserialize** it back into a Python object.\n",
    "\n",
    "### Breakdown:\n",
    "\n",
    "1. **Importing the `pickle` module:**\n",
    "   ```python\n",
    "   import pickle\n",
    "   ```\n",
    "   - The `pickle` module in Python is used to serialize and deserialize Python objects into a binary format. This allows for saving Python objects to files or transferring them between different Python processes.\n",
    "\n",
    "2. **Creating a Python dictionary:**\n",
    "   ```python\n",
    "   data = {'name': 'Bob', 'age': 25, 'city': 'San Francisco'}\n",
    "   ```\n",
    "   - This is a Python dictionary that contains data about a person with keys `'name'`, `'age'`, and `'city'`.\n",
    "\n",
    "3. **Serializing the Python dictionary to binary data using `pickle`:**\n",
    "   ```python\n",
    "   pickle_data = pickle.dumps(data)\n",
    "   print(\"Serialized Pickle data:\", pickle_data)\n",
    "   ```\n",
    "   - **`pickle.dumps(data)`**: Serializes (or \"pickles\") the Python dictionary into a binary format. This is useful when you want to store the object in binary form or transfer it over a network.\n",
    "   - The serialized binary data (`pickle_data`) is then printed, but it will appear as unreadable binary data.\n",
    "\n",
    "   **Output:**\n",
    "   ```python\n",
    "   Serialized Pickle data: b'\\x80\\x04\\x95...\\x87\\x94.'\n",
    "   ```\n",
    "\n",
    "4. **Deserializing the Pickle data back to a Python dictionary:**\n",
    "   ```python\n",
    "   python_data = pickle.loads(pickle_data)\n",
    "   print(\"Deserialized Python object:\", python_data)\n",
    "   ```\n",
    "   - **`pickle.loads(pickle_data)`**: Deserializes (or \"unpickles\") the binary data back into the original Python object (in this case, the dictionary). \n",
    "   - The deserialized Python object (`python_data`) is then printed.\n",
    "\n",
    "   **Output:**\n",
    "   ```python\n",
    "   Deserialized Python object: {'name': 'Bob', 'age': 25, 'city': 'San Francisco'}\n",
    "   ```\n",
    "\n",
    "### Summary:\n",
    "- **Serialization with `pickle`**: Converts a Python object (like a dictionary) into a binary format using `pickle.dumps()`. This is useful for storing or transmitting Python objects.\n",
    "- **Deserialization with `pickle`**: Converts the binary data back into the original Python object using `pickle.loads()`.\n",
    "\n",
    "Pickle is powerful but should be used with caution, as it can execute arbitrary code during deserialization if the binary data is tampered with, posing security risks when dealing with untrusted data."
   ]
  },
  {
   "cell_type": "markdown",
   "id": "f45366fd-5d28-4a59-8140-980bc2f35cc1",
   "metadata": {},
   "source": [
    "### 3. Serialization and Deserialization with YAML"
   ]
  },
  {
   "cell_type": "code",
   "execution_count": 11,
   "id": "6e2ea411-8030-4ee7-b369-25dadccfd152",
   "metadata": {},
   "outputs": [
    {
     "name": "stdout",
     "output_type": "stream",
     "text": [
      "Serialized YAML data:\n",
      " age: 35\n",
      "city: Chicago\n",
      "name: Charlie\n",
      "\n",
      "Deserialized Python object: {'age': 35, 'city': 'Chicago', 'name': 'Charlie'}\n"
     ]
    }
   ],
   "source": [
    "import yaml\n",
    "\n",
    "# Python dictionary\n",
    "data = {'name': 'Charlie', 'age': 35, 'city': 'Chicago'}\n",
    "\n",
    "# Serialize to YAML format\n",
    "yaml_data = yaml.dump(data)\n",
    "print(\"Serialized YAML data:\\n\", yaml_data)\n",
    "\n",
    "# Deserialize YAML back to Python dictionary\n",
    "python_data = yaml.load(yaml_data, Loader=yaml.FullLoader)\n",
    "print(\"Deserialized Python object:\", python_data)\n"
   ]
  },
  {
   "cell_type": "code",
   "execution_count": 49,
   "id": "4534cb15-4ee4-40f4-8616-6a9389f58c8e",
   "metadata": {},
   "outputs": [
    {
     "name": "stdout",
     "output_type": "stream",
     "text": [
      "Name: PyYAMLNote: you may need to restart the kernel to use updated packages.\n",
      "\n",
      "Version: 6.0.1\n",
      "Summary: YAML parser and emitter for Python\n",
      "Home-page: https://pyyaml.org/\n",
      "Author: Kirill Simonov\n",
      "Author-email: xi@resolvent.net\n",
      "License: MIT\n",
      "Location: C:\\ProgramData\\anaconda3\\Lib\\site-packages\n",
      "Requires: \n",
      "Required-by: anaconda-client, astropy, bokeh, conda-build, conda-repo-cli, cookiecutter, dask, distributed, intake, jupyter-events\n"
     ]
    }
   ],
   "source": [
    "pip show pyyaml"
   ]
  },
  {
   "cell_type": "markdown",
   "id": "bf1ce7db-7429-4360-a60e-3cf31daf4810",
   "metadata": {},
   "source": [
    "This code demonstrates how to use Python's `yaml` module to **serialize** a Python object (a dictionary) into **YAML format** and then **deserialize** it back into a Python dictionary.\n",
    "\n",
    "### Breakdown:\n",
    "\n",
    "1. **Importing the `yaml` module:**\n",
    "   ```python\n",
    "   import yaml\n",
    "   ```\n",
    "   - The `yaml` module is used to work with **YAML** data in Python. YAML is a human-readable data format commonly used for configuration files.\n",
    "\n",
    "2. **Creating a Python dictionary:**\n",
    "   ```python\n",
    "   data = {'name': 'Charlie', 'age': 35, 'city': 'Chicago'}\n",
    "   ```\n",
    "   - This is a Python dictionary that holds information about a person, with the keys `'name'`, `'age'`, and `'city'`.\n",
    "\n",
    "3. **Serializing the Python dictionary to YAML format:**\n",
    "   ```python\n",
    "   yaml_data = yaml.dump(data)\n",
    "   print(\"Serialized YAML data:\\n\", yaml_data)\n",
    "   ```\n",
    "   - **`yaml.dump(data)`**: Serializes the Python dictionary into a YAML-formatted string. This is similar to JSON serialization, but YAML is often more human-readable.\n",
    "   - The resulting YAML string (`yaml_data`) is printed.\n",
    "\n",
    "   **Output (YAML format):**\n",
    "   ```yaml\n",
    "   Serialized YAML data:\n",
    "   age: 35\n",
    "   city: Chicago\n",
    "   name: Charlie\n",
    "   ```\n",
    "\n",
    "   The serialized data is formatted using YAML syntax, where each key-value pair is represented on its own line, without the need for brackets or commas, making it clean and easy to read.\n",
    "\n",
    "4. **Deserializing the YAML back into a Python dictionary:**\n",
    "   ```python\n",
    "   python_data = yaml.load(yaml_data, Loader=yaml.FullLoader)\n",
    "   print(\"Deserialized Python object:\", python_data)\n",
    "   ```\n",
    "   - **`yaml.load(yaml_data, Loader=yaml.FullLoader)`**: Deserializes the YAML string back into a Python object (in this case, a dictionary).\n",
    "   - **`Loader=yaml.FullLoader`**: This argument specifies the safe loading of the YAML content to avoid security risks, ensuring proper parsing.\n",
    "   - The deserialized Python object (`python_data`) is then printed.\n",
    "\n",
    "   **Output (Python format):**\n",
    "   ```python\n",
    "   Deserialized Python object: {'name': 'Charlie', 'age': 35, 'city': 'Chicago'}\n",
    "   ```\n",
    "\n",
    "### Summary:\n",
    "- **Serialization to YAML**: Converts a Python object (like a dictionary) into a YAML-formatted string using `yaml.dump()`. YAML is more human-readable than JSON, often used in configuration files.\n",
    "- **Deserialization from YAML**: Converts a YAML string back into a Python object (like a dictionary) using `yaml.load()` with `Loader=yaml.FullLoader` for safe deserialization.\n",
    "\n",
    "In this example, the Python dictionary is converted into a YAML string and then deserialized back into its original form."
   ]
  },
  {
   "cell_type": "markdown",
   "id": "42dc0015-6b3c-42e3-adb2-8074ad4244fe",
   "metadata": {},
   "source": [
    "### 4. Serialize and Deserialize with JSON to a File"
   ]
  },
  {
   "cell_type": "code",
   "execution_count": 14,
   "id": "a73fb519-5be6-4035-825d-4c5330a8c241",
   "metadata": {},
   "outputs": [
    {
     "name": "stdout",
     "output_type": "stream",
     "text": [
      "Deserialized from file: {'name': 'David', 'age': 40, 'city': 'Los Angeles'}\n"
     ]
    }
   ],
   "source": [
    "import json\n",
    "\n",
    "# Python dictionary\n",
    "data = {'name': 'David', 'age': 40, 'city': 'Los Angeles'}\n",
    "\n",
    "# Serialize and save JSON to file\n",
    "with open('data.json', 'w') as file:\n",
    "    json.dump(data, file)\n",
    "\n",
    "# Read from file and deserialize JSON back to Python object\n",
    "with open('data.json', 'r') as file:\n",
    "    python_data = json.load(file)\n",
    "print(\"Deserialized from file:\", python_data)\n"
   ]
  },
  {
   "cell_type": "markdown",
   "id": "6e8c8c6a-bbc4-4b94-acff-e6799824c73f",
   "metadata": {},
   "source": [
    "This code demonstrates how to **serialize** a Python dictionary into a **JSON file** and then **deserialize** the JSON data back into a Python object. Here's the breakdown:\n",
    "\n",
    "### 1. **Importing the `json` module:**\n",
    "   ```python\n",
    "   import json\n",
    "   ```\n",
    "   - The `json` module is used to work with JSON data, providing functions to serialize (convert to JSON format) and deserialize (convert back from JSON format) Python objects.\n",
    "\n",
    "### 2. **Creating a Python dictionary:**\n",
    "   ```python\n",
    "   data = {'name': 'David', 'age': 40, 'city': 'Los Angeles'}\n",
    "   ```\n",
    "   - This is a Python dictionary that holds details about a person, including their `name`, `age`, and `city`.\n",
    "\n",
    "### 3. **Serializing the dictionary and saving it to a file:**\n",
    "   ```python\n",
    "   with open('data.json', 'w') as file:\n",
    "       json.dump(data, file)\n",
    "   ```\n",
    "   - **`with open('data.json', 'w') as file`:** Opens a file named `data.json` in write mode (`'w'`). The `with` statement ensures the file is properly closed after writing.\n",
    "   - **`json.dump(data, file)`**: Serializes the Python dictionary (`data`) into JSON format and writes it to the `data.json` file. This stores the dictionary as JSON in the file.\n",
    "\n",
    "   **Result**: The `data.json` file will contain the following:\n",
    "   ```json\n",
    "   {\n",
    "       \"name\": \"David\",\n",
    "       \"age\": 40,\n",
    "       \"city\": \"Los Angeles\"\n",
    "   }\n",
    "   ```\n",
    "\n",
    "### 4. **Reading the JSON data from the file and deserializing it back into a Python object:**\n",
    "   ```python\n",
    "   with open('data.json', 'r') as file:\n",
    "       python_data = json.load(file)\n",
    "   ```\n",
    "   - **`with open('data.json', 'r') as file`:** Opens the `data.json` file in read mode (`'r'`).\n",
    "   - **`json.load(file)`**: Reads the JSON content from the file and deserializes it, converting the JSON back into a Python dictionary (`python_data`).\n",
    "\n",
    "### 5. **Printing the deserialized Python object:**\n",
    "   ```python\n",
    "   print(\"Deserialized from file:\", python_data)\n",
    "   ```\n",
    "   - This prints the Python dictionary that was loaded from the JSON file.\n",
    "\n",
    "   **Output:**\n",
    "   ```python\n",
    "   Deserialized from file: {'name': 'David', 'age': 40, 'city': 'Los Angeles'}\n",
    "   ```\n",
    "\n",
    "### Summary:\n",
    "- **Serialization to JSON file**: Converts a Python object (like a dictionary) into a JSON format and saves it to a file using `json.dump()`.\n",
    "- **Deserialization from JSON file**: Reads the JSON data from a file and converts it back into a Python object using `json.load()`.\n",
    "\n",
    "In this example, the Python dictionary is saved as a JSON file, and then the file is read back to recreate the original Python object."
   ]
  },
  {
   "cell_type": "markdown",
   "id": "463ecfb8-6a2a-49a8-b866-41493b5e9f23",
   "metadata": {},
   "source": [
    "### 5. Serialize and Deserialize with Pickle to a File"
   ]
  },
  {
   "cell_type": "code",
   "execution_count": 19,
   "id": "4a794e93-692a-457b-a3b8-553cd56cec23",
   "metadata": {},
   "outputs": [
    {
     "name": "stdout",
     "output_type": "stream",
     "text": [
      "Deserialized from file: {'name': 'Eve', 'age': 28, 'city': 'Miami'}\n"
     ]
    }
   ],
   "source": [
    "import pickle\n",
    "\n",
    "# Python dictionary\n",
    "data = {'name': 'Eve', 'age': 28, 'city': 'Miami'}\n",
    "\n",
    "# Serialize and save Pickle data to file\n",
    "with open('data.pkl', 'wb') as file:\n",
    "    pickle.dump(data, file)\n",
    "\n",
    "# Read from file and deserialize Pickle data back to Python object\n",
    "with open('data.pkl', 'rb') as file:\n",
    "    python_data = pickle.load(file)\n",
    "print(\"Deserialized from file:\", python_data)\n"
   ]
  },
  {
   "cell_type": "markdown",
   "id": "b77ce160-9d97-441e-bc5c-b7e9c87c0a53",
   "metadata": {},
   "source": [
    "This code demonstrates how to use the `pickle` module to **serialize** a Python object (a dictionary) into binary format and save it to a file, and then **deserialize** the binary data from the file back into a Python object.\n",
    "\n",
    "### Breakdown:\n",
    "\n",
    "1. **Importing the `pickle` module:**\n",
    "   ```python\n",
    "   import pickle\n",
    "   ```\n",
    "   - The `pickle` module in Python is used to serialize (convert) Python objects into a binary format and deserialize (revert) them back into Python objects. This is useful for saving objects to files or sending them across a network in binary format.\n",
    "\n",
    "2. **Creating a Python dictionary:**\n",
    "   ```python\n",
    "   data = {'name': 'Eve', 'age': 28, 'city': 'Miami'}\n",
    "   ```\n",
    "   - This is a Python dictionary that stores information about a person, including their `name`, `age`, and `city`.\n",
    "\n",
    "3. **Serializing the dictionary and saving it to a file:**\n",
    "   ```python\n",
    "   with open('data.pkl', 'wb') as file:\n",
    "       pickle.dump(data, file)\n",
    "   ```\n",
    "   - **`with open('data.pkl', 'wb') as file`:** Opens a file named `data.pkl` in binary write mode (`'wb'`). The `with` statement ensures that the file is automatically closed after writing.\n",
    "   - **`pickle.dump(data, file)`**: Serializes (pickles) the Python dictionary (`data`) into binary format and writes it to the `data.pkl` file.\n",
    "\n",
    "   **Result**: The dictionary is saved as binary data in the `data.pkl` file. This is not human-readable since it's stored in a binary format.\n",
    "\n",
    "4. **Reading the Pickle data from the file and deserializing it back into a Python object:**\n",
    "   ```python\n",
    "   with open('data.pkl', 'rb') as file:\n",
    "       python_data = pickle.load(file)\n",
    "   ```\n",
    "   - **`with open('data.pkl', 'rb') as file`:** Opens the `data.pkl` file in binary read mode (`'rb'`).\n",
    "   - **`pickle.load(file)`**: Reads the binary data from the file and deserializes (unpickles) it back into a Python object (`python_data`), which in this case will be the original dictionary.\n",
    "\n",
    "5. **Printing the deserialized Python object:**\n",
    "   ```python\n",
    "   print(\"Deserialized from file:\", python_data)\n",
    "   ```\n",
    "   - This prints the Python dictionary that was loaded from the Pickle file.\n",
    "\n",
    "   **Output:**\n",
    "   ```python\n",
    "   Deserialized from file: {'name': 'Eve', 'age': 28, 'city': 'Miami'}\n",
    "   ```\n",
    "\n",
    "### Summary:\n",
    "- **Serialization with `pickle.dump()`**: Converts a Python object (like a dictionary) into binary format and saves it to a file.\n",
    "- **Deserialization with `pickle.load()`**: Reads the binary data from a file and converts it back into a Python object.\n",
    "\n",
    "In this example, the Python dictionary is saved as binary data in a `.pkl` file, and then the file is read back to recreate the original Python object. This process is useful for storing complex Python objects (like dictionaries, lists, or custom objects) for later use."
   ]
  },
  {
   "cell_type": "markdown",
   "id": "63d68227-c709-45b7-940c-b024aa6728ec",
   "metadata": {},
   "source": [
    "### 6. Serialize a Custom Python Object with JSON"
   ]
  },
  {
   "cell_type": "code",
   "execution_count": 22,
   "id": "b4007eb9-656f-45cb-8c83-015b1861720b",
   "metadata": {},
   "outputs": [
    {
     "name": "stdout",
     "output_type": "stream",
     "text": [
      "Serialized JSON: {\"name\": \"Frank\", \"age\": 33, \"city\": \"Houston\"}\n"
     ]
    }
   ],
   "source": [
    "import json\n",
    "\n",
    "# Custom class\n",
    "class Person:\n",
    "    def __init__(self, name, age, city):\n",
    "        self.name = name\n",
    "        self.age = age\n",
    "        self.city = city\n",
    "\n",
    "# Create a custom object\n",
    "person = Person('Frank', 33, 'Houston')\n",
    "\n",
    "# Custom serialization function for the Person object\n",
    "def person_to_dict(obj):\n",
    "    return {'name': obj.name, 'age': obj.age, 'city': obj.city}\n",
    "\n",
    "# Serialize custom object\n",
    "json_data = json.dumps(person, default=person_to_dict)\n",
    "print(\"Serialized JSON:\", json_data)\n"
   ]
  },
  {
   "cell_type": "markdown",
   "id": "4b764762-3f4f-4abc-9b55-4c784f6237dd",
   "metadata": {},
   "source": [
    "### 7. Deserialize JSON to a Custom Object"
   ]
  },
  {
   "cell_type": "code",
   "execution_count": 25,
   "id": "4f0757da-0e2b-4916-b8bf-0e298a152d6b",
   "metadata": {},
   "outputs": [
    {
     "name": "stdout",
     "output_type": "stream",
     "text": [
      "Deserialized Person object: {'name': 'George', 'age': 45, 'city': 'Dallas'}\n"
     ]
    }
   ],
   "source": [
    "import json\n",
    "\n",
    "# Custom class\n",
    "class Person:\n",
    "    def __init__(self, name, age, city):\n",
    "        self.name = name\n",
    "        self.age = age\n",
    "        self.city = city\n",
    "\n",
    "# JSON string representing a person\n",
    "json_data = '{\"name\": \"George\", \"age\": 45, \"city\": \"Dallas\"}'\n",
    "\n",
    "# Deserialize JSON to a custom object\n",
    "def dict_to_person(d):\n",
    "    return Person(d['name'], d['age'], d['city'])\n",
    "\n",
    "person = json.loads(json_data, object_hook=dict_to_person)\n",
    "print(\"Deserialized Person object:\", person.__dict__)\n"
   ]
  },
  {
   "cell_type": "markdown",
   "id": "a34145de-05e7-4d6e-be1e-51aec060971e",
   "metadata": {},
   "source": [
    "### 8. Serialization and Deserialization of Nested Data with JSON"
   ]
  },
  {
   "cell_type": "code",
   "execution_count": 28,
   "id": "2162cab9-1eb3-431a-810e-7c9e66729ffd",
   "metadata": {},
   "outputs": [
    {
     "name": "stdout",
     "output_type": "stream",
     "text": [
      "Serialized JSON: {\"name\": \"Hannah\", \"age\": 50, \"address\": {\"city\": \"Boston\", \"state\": \"Massachusetts\"}}\n",
      "Deserialized Python object: {'name': 'Hannah', 'age': 50, 'address': {'city': 'Boston', 'state': 'Massachusetts'}}\n"
     ]
    }
   ],
   "source": [
    "import json\n",
    "\n",
    "# Python dictionary with nested data\n",
    "data = {\n",
    "    'name': 'Hannah',\n",
    "    'age': 50,\n",
    "    'address': {\n",
    "        'city': 'Boston',\n",
    "        'state': 'Massachusetts'\n",
    "    }\n",
    "}\n",
    "\n",
    "# Serialize to JSON\n",
    "json_data = json.dumps(data)\n",
    "print(\"Serialized JSON:\", json_data)\n",
    "\n",
    "# Deserialize JSON back to Python object\n",
    "python_data = json.loads(json_data)\n",
    "print(\"Deserialized Python object:\", python_data)\n"
   ]
  },
  {
   "cell_type": "markdown",
   "id": "c884ab20-3ac5-4a02-b8aa-58f0b8c07871",
   "metadata": {},
   "source": [
    "### 9. Serialization and Deserialization with Python dataclass"
   ]
  },
  {
   "cell_type": "code",
   "execution_count": 33,
   "id": "9c4a0786-7d84-4e20-815c-c30fe3157b5a",
   "metadata": {},
   "outputs": [
    {
     "name": "stdout",
     "output_type": "stream",
     "text": [
      "Serialized JSON: {\"name\": \"Ivy\", \"age\": 26, \"city\": \"Austin\"}\n",
      "Deserialized dataclass object: Person(name='Ivy', age=26, city='Austin')\n"
     ]
    }
   ],
   "source": [
    "import json\n",
    "from dataclasses import dataclass\n",
    "\n",
    "# Define a dataclass\n",
    "@dataclass\n",
    "class Person:\n",
    "    name: str\n",
    "    age: int\n",
    "    city: str\n",
    "\n",
    "# Create a dataclass object\n",
    "person = Person('Ivy', 26, 'Austin')\n",
    "\n",
    "# Serialize dataclass to JSON\n",
    "json_data = json.dumps(person.__dict__)\n",
    "print(\"Serialized JSON:\", json_data)\n",
    "\n",
    "# Deserialize JSON back to dataclass object\n",
    "data = json.loads(json_data)\n",
    "person_obj = Person(**data)\n",
    "print(\"Deserialized dataclass object:\", person_obj)\n"
   ]
  },
  {
   "cell_type": "markdown",
   "id": "70a7d75f-cda8-47c9-bb44-322f48448072",
   "metadata": {},
   "source": [
    "### 10. Serialize and Deserialize with Custom Objects using Pickle"
   ]
  },
  {
   "cell_type": "code",
   "execution_count": 36,
   "id": "737fceed-35f2-436a-af5f-07dac8c0ed6c",
   "metadata": {},
   "outputs": [
    {
     "name": "stdout",
     "output_type": "stream",
     "text": [
      "Serialized Pickle data: b'\\x80\\x04\\x95>\\x00\\x00\\x00\\x00\\x00\\x00\\x00\\x8c\\x08__main__\\x94\\x8c\\x03Car\\x94\\x93\\x94)\\x81\\x94}\\x94(\\x8c\\x05model\\x94\\x8c\\rTesla Model S\\x94\\x8c\\x04year\\x94M\\xe4\\x07ub.'\n",
      "Deserialized Car object: {'model': 'Tesla Model S', 'year': 2020}\n"
     ]
    }
   ],
   "source": [
    "import pickle\n",
    "\n",
    "# Custom class\n",
    "class Car:\n",
    "    def __init__(self, model, year):\n",
    "        self.model = model\n",
    "        self.year = year\n",
    "\n",
    "# Create an object of the custom class\n",
    "car = Car('Tesla Model S', 2020)\n",
    "\n",
    "# Serialize the object using pickle\n",
    "pickle_data = pickle.dumps(car)\n",
    "print(\"Serialized Pickle data:\", pickle_data)\n",
    "\n",
    "# Deserialize Pickle data back to a custom object\n",
    "deserialized_car = pickle.loads(pickle_data)\n",
    "print(\"Deserialized Car object:\", deserialized_car.__dict__)\n"
   ]
  },
  {
   "cell_type": "markdown",
   "id": "959db676-393d-4e00-92ee-9d5a22831399",
   "metadata": {},
   "source": [
    "This code demonstrates how to serialize and deserialize a **custom class object** using the `pickle` module. Here's a step-by-step breakdown:\n",
    "\n",
    "### 1. **Importing the `pickle` module:**\n",
    "   ```python\n",
    "   import pickle\n",
    "   ```\n",
    "   - The `pickle` module is used to serialize Python objects (even complex objects like class instances) into binary format, and deserialize them back into Python objects.\n",
    "\n",
    "### 2. **Defining a custom `Car` class:**\n",
    "   ```python\n",
    "   class Car:\n",
    "       def __init__(self, model, year):\n",
    "           self.model = model\n",
    "           self.year = year\n",
    "   ```\n",
    "   - A simple class named `Car` is defined with an `__init__` method that initializes two attributes: `model` and `year`.\n",
    "   - This class allows you to create objects representing a car with a specific model and year.\n",
    "\n",
    "### 3. **Creating an instance of the `Car` class:**\n",
    "   ```python\n",
    "   car = Car('Tesla Model S', 2020)\n",
    "   ```\n",
    "   - This line creates an object `car` from the `Car` class, with the model set to `'Tesla Model S'` and the year set to `2020`.\n",
    "\n",
    "### 4. **Serializing the `Car` object using `pickle`:**\n",
    "   ```python\n",
    "   pickle_data = pickle.dumps(car)\n",
    "   print(\"Serialized Pickle data:\", pickle_data)\n",
    "   ```\n",
    "   - **`pickle.dumps(car)`**: This serializes (pickles) the `car` object into a binary format. Serialization converts the object into a format that can be stored or transferred as a byte stream.\n",
    "   - **`pickle_data`**: This variable holds the serialized binary representation of the `car` object.\n",
    "   - The binary data is printed, but it is not human-readable since it's in binary format.\n",
    "\n",
    "   **Example output:**\n",
    "   ```python\n",
    "   Serialized Pickle data: b'\\x80\\x04\\x95...'\n",
    "   ```\n",
    "\n",
    "### 5. **Deserializing the binary data back into a `Car` object:**\n",
    "   ```python\n",
    "   deserialized_car = pickle.loads(pickle_data)\n",
    "   ```\n",
    "   - **`pickle.loads(pickle_data)`**: This deserializes (unpickles) the binary data back into a Python object. The object created is an instance of the `Car` class, just like the original `car` object.\n",
    "   - **`deserialized_car`**: This variable holds the deserialized `Car` object, which is identical to the original object before serialization.\n",
    "\n",
    "### 6. **Printing the deserialized object's attributes:**\n",
    "   ```python\n",
    "   print(\"Deserialized Car object:\", deserialized_car.__dict__)\n",
    "   ```\n",
    "   - **`deserialized_car.__dict__`**: This accesses the `__dict__` attribute of the object, which contains the object's attributes as a dictionary. In this case, it prints the model and year of the deserialized car.\n",
    "\n",
    "   **Example output:**\n",
    "   ```python\n",
    "   Deserialized Car object: {'model': 'Tesla Model S', 'year': 2020}\n",
    "   ```\n",
    "\n",
    "### Summary:\n",
    "- **Serialization with `pickle.dumps()`**: Converts a custom object (like an instance of the `Car` class) into a binary format.\n",
    "- **Deserialization with `pickle.loads()`**: Converts the binary data back into the original object (an instance of the `Car` class).\n",
    "- The code shows how you can serialize an object from a custom class and restore it later, maintaining its attributes and state.\n",
    "\n",
    "In this example, the `Car` object is serialized into a binary format and then deserialized back into a new `Car` object, preserving its data. This technique is useful for saving and restoring the state of objects, especially when working with more complex data structures."
   ]
  },
  {
   "cell_type": "code",
   "execution_count": null,
   "id": "36c33001-0ce4-44b2-a2c5-1213e5ec7f2f",
   "metadata": {},
   "outputs": [],
   "source": []
  }
 ],
 "metadata": {
  "kernelspec": {
   "display_name": "Python 3 (ipykernel)",
   "language": "python",
   "name": "python3"
  },
  "language_info": {
   "codemirror_mode": {
    "name": "ipython",
    "version": 3
   },
   "file_extension": ".py",
   "mimetype": "text/x-python",
   "name": "python",
   "nbconvert_exporter": "python",
   "pygments_lexer": "ipython3",
   "version": "3.12.4"
  }
 },
 "nbformat": 4,
 "nbformat_minor": 5
}
